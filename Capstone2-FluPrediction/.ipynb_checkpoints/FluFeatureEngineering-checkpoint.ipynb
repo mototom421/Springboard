{
 "cells": [
  {
   "cell_type": "markdown",
   "id": "e49ecfae",
   "metadata": {},
   "source": [
    "# Feature Engineering:"
   ]
  },
  {
   "cell_type": "code",
   "execution_count": 1,
   "id": "f4f3ece2",
   "metadata": {},
   "outputs": [],
   "source": [
    "#import necessary packages\n",
    "import os\n",
    "import pandas as pd"
   ]
  },
  {
   "cell_type": "code",
   "execution_count": 2,
   "id": "45b09c89",
   "metadata": {},
   "outputs": [],
   "source": [
    "#import previously cleaned data\n",
    "onehot_train = pd.read_csv('data/onehot_train')\n",
    "onehot_test = pd.read_csv('data/onehot_test')"
   ]
  },
  {
   "cell_type": "markdown",
   "id": "84e1220a",
   "metadata": {},
   "source": [
    "## OneHot Encoding:"
   ]
  },
  {
   "cell_type": "code",
   "execution_count": 3,
   "id": "f0287e95",
   "metadata": {},
   "outputs": [
    {
     "name": "stdout",
     "output_type": "stream",
     "text": [
      "<class 'pandas.core.frame.DataFrame'>\n",
      "RangeIndex: 26707 entries, 0 to 26706\n",
      "Data columns (total 38 columns):\n",
      " #   Column                       Non-Null Count  Dtype  \n",
      "---  ------                       --------------  -----  \n",
      " 0   respondent_id                26707 non-null  int64  \n",
      " 1   h1n1_concern                 26707 non-null  float64\n",
      " 2   h1n1_knowledge               26707 non-null  float64\n",
      " 3   behavioral_antiviral_meds    26707 non-null  float64\n",
      " 4   behavioral_avoidance         26707 non-null  float64\n",
      " 5   behavioral_face_mask         26707 non-null  float64\n",
      " 6   behavioral_wash_hands        26707 non-null  float64\n",
      " 7   behavioral_large_gatherings  26707 non-null  float64\n",
      " 8   behavioral_outside_home      26707 non-null  float64\n",
      " 9   behavioral_touch_face        26707 non-null  float64\n",
      " 10  doctor_recc_h1n1             26707 non-null  float64\n",
      " 11  doctor_recc_seasonal         26707 non-null  float64\n",
      " 12  chronic_med_condition        26707 non-null  float64\n",
      " 13  child_under_6_months         26707 non-null  float64\n",
      " 14  health_worker                26707 non-null  float64\n",
      " 15  health_insurance             26707 non-null  object \n",
      " 16  opinion_h1n1_vacc_effective  26707 non-null  float64\n",
      " 17  opinion_h1n1_risk            26707 non-null  float64\n",
      " 18  opinion_h1n1_sick_from_vacc  26707 non-null  float64\n",
      " 19  opinion_seas_vacc_effective  26707 non-null  float64\n",
      " 20  opinion_seas_risk            26707 non-null  float64\n",
      " 21  opinion_seas_sick_from_vacc  26707 non-null  float64\n",
      " 22  age_group                    26707 non-null  int64  \n",
      " 23  education                    26707 non-null  float64\n",
      " 24  race                         26707 non-null  object \n",
      " 25  sex                          26707 non-null  int64  \n",
      " 26  income_poverty               26707 non-null  float64\n",
      " 27  marital_status               26707 non-null  float64\n",
      " 28  rent_or_own                  26707 non-null  float64\n",
      " 29  employment_status            26707 non-null  float64\n",
      " 30  hhs_geo_region               26707 non-null  object \n",
      " 31  census_msa                   26707 non-null  int64  \n",
      " 32  household_adults             26707 non-null  float64\n",
      " 33  household_children           26707 non-null  float64\n",
      " 34  employment_industry          26707 non-null  object \n",
      " 35  employment_occupation        26707 non-null  object \n",
      " 36  h1n1_vaccine                 26707 non-null  int64  \n",
      " 37  seasonal_vaccine             26707 non-null  int64  \n",
      "dtypes: float64(27), int64(6), object(5)\n",
      "memory usage: 7.7+ MB\n"
     ]
    }
   ],
   "source": [
    "#want to see which columns are not numeric and still need encoding\n",
    "onehot_train.info()"
   ]
  },
  {
   "cell_type": "markdown",
   "id": "cce2f542",
   "metadata": {},
   "source": [
    "The health_insurance, race, hhs_geo_region, employment_industry and employment_occupation columns all contain some (or all) of their inputs as the strings. Machine learning does not do well with strings so all of these must be encoded to numeric form. When dealing with features where the data is categorical but the categories have no meaningful order to them, we must use onehot encoding. This will make a new column for every possible category in that feature. Thusly, each row will have 0's in all of the new columns except 1. This binary data can then be fed to the machine learning model without issue."
   ]
  },
  {
   "cell_type": "markdown",
   "id": "66ba3868",
   "metadata": {},
   "source": [
    "### Dummy features created for all nominal data columns:"
   ]
  },
  {
   "cell_type": "code",
   "execution_count": 4,
   "id": "883df068",
   "metadata": {},
   "outputs": [],
   "source": [
    "#get_dummies will only affect columns with Dtype of object in my dataframe, automatically creating dummy variables for each \n",
    "encoded_train = pd.get_dummies(onehot_train)\n",
    "encoded_test = pd.get_dummies(onehot_test)"
   ]
  },
  {
   "cell_type": "code",
   "execution_count": 5,
   "id": "325d1d84",
   "metadata": {},
   "outputs": [
    {
     "name": "stdout",
     "output_type": "stream",
     "text": [
      "<class 'pandas.core.frame.DataFrame'>\n",
      "RangeIndex: 26707 entries, 0 to 26706\n",
      "Data columns (total 96 columns):\n",
      " #   Column                          Non-Null Count  Dtype  \n",
      "---  ------                          --------------  -----  \n",
      " 0   respondent_id                   26707 non-null  int64  \n",
      " 1   h1n1_concern                    26707 non-null  float64\n",
      " 2   h1n1_knowledge                  26707 non-null  float64\n",
      " 3   behavioral_antiviral_meds       26707 non-null  float64\n",
      " 4   behavioral_avoidance            26707 non-null  float64\n",
      " 5   behavioral_face_mask            26707 non-null  float64\n",
      " 6   behavioral_wash_hands           26707 non-null  float64\n",
      " 7   behavioral_large_gatherings     26707 non-null  float64\n",
      " 8   behavioral_outside_home         26707 non-null  float64\n",
      " 9   behavioral_touch_face           26707 non-null  float64\n",
      " 10  doctor_recc_h1n1                26707 non-null  float64\n",
      " 11  doctor_recc_seasonal            26707 non-null  float64\n",
      " 12  chronic_med_condition           26707 non-null  float64\n",
      " 13  child_under_6_months            26707 non-null  float64\n",
      " 14  health_worker                   26707 non-null  float64\n",
      " 15  opinion_h1n1_vacc_effective     26707 non-null  float64\n",
      " 16  opinion_h1n1_risk               26707 non-null  float64\n",
      " 17  opinion_h1n1_sick_from_vacc     26707 non-null  float64\n",
      " 18  opinion_seas_vacc_effective     26707 non-null  float64\n",
      " 19  opinion_seas_risk               26707 non-null  float64\n",
      " 20  opinion_seas_sick_from_vacc     26707 non-null  float64\n",
      " 21  age_group                       26707 non-null  int64  \n",
      " 22  education                       26707 non-null  float64\n",
      " 23  sex                             26707 non-null  int64  \n",
      " 24  income_poverty                  26707 non-null  float64\n",
      " 25  marital_status                  26707 non-null  float64\n",
      " 26  rent_or_own                     26707 non-null  float64\n",
      " 27  employment_status               26707 non-null  float64\n",
      " 28  census_msa                      26707 non-null  int64  \n",
      " 29  household_adults                26707 non-null  float64\n",
      " 30  household_children              26707 non-null  float64\n",
      " 31  h1n1_vaccine                    26707 non-null  int64  \n",
      " 32  seasonal_vaccine                26707 non-null  int64  \n",
      " 33  health_insurance_0.0            26707 non-null  uint8  \n",
      " 34  health_insurance_1.0            26707 non-null  uint8  \n",
      " 35  health_insurance_unknown        26707 non-null  uint8  \n",
      " 36  race_Black                      26707 non-null  uint8  \n",
      " 37  race_Hispanic                   26707 non-null  uint8  \n",
      " 38  race_Other or Multiple          26707 non-null  uint8  \n",
      " 39  race_White                      26707 non-null  uint8  \n",
      " 40  hhs_geo_region_atmpeygn         26707 non-null  uint8  \n",
      " 41  hhs_geo_region_bhuqouqj         26707 non-null  uint8  \n",
      " 42  hhs_geo_region_dqpwygqj         26707 non-null  uint8  \n",
      " 43  hhs_geo_region_fpwskwrf         26707 non-null  uint8  \n",
      " 44  hhs_geo_region_kbazzjca         26707 non-null  uint8  \n",
      " 45  hhs_geo_region_lrircsnp         26707 non-null  uint8  \n",
      " 46  hhs_geo_region_lzgpxyit         26707 non-null  uint8  \n",
      " 47  hhs_geo_region_mlyzmhmf         26707 non-null  uint8  \n",
      " 48  hhs_geo_region_oxchjgsf         26707 non-null  uint8  \n",
      " 49  hhs_geo_region_qufhixun         26707 non-null  uint8  \n",
      " 50  employment_industry_arjwrbjb    26707 non-null  uint8  \n",
      " 51  employment_industry_atmlpfrs    26707 non-null  uint8  \n",
      " 52  employment_industry_cfqqtusy    26707 non-null  uint8  \n",
      " 53  employment_industry_dotnnunm    26707 non-null  uint8  \n",
      " 54  employment_industry_fcxhlnwr    26707 non-null  uint8  \n",
      " 55  employment_industry_haxffmxo    26707 non-null  uint8  \n",
      " 56  employment_industry_ldnlellj    26707 non-null  uint8  \n",
      " 57  employment_industry_mcubkhph    26707 non-null  uint8  \n",
      " 58  employment_industry_mfikgejo    26707 non-null  uint8  \n",
      " 59  employment_industry_msuufmds    26707 non-null  uint8  \n",
      " 60  employment_industry_nduyfdeo    26707 non-null  uint8  \n",
      " 61  employment_industry_phxvnwax    26707 non-null  uint8  \n",
      " 62  employment_industry_pxcmvdjn    26707 non-null  uint8  \n",
      " 63  employment_industry_qnlwzans    26707 non-null  uint8  \n",
      " 64  employment_industry_rucpziij    26707 non-null  uint8  \n",
      " 65  employment_industry_saaquncn    26707 non-null  uint8  \n",
      " 66  employment_industry_unknown     26707 non-null  uint8  \n",
      " 67  employment_industry_vjjrobsf    26707 non-null  uint8  \n",
      " 68  employment_industry_wlfvacwt    26707 non-null  uint8  \n",
      " 69  employment_industry_wxleyezf    26707 non-null  uint8  \n",
      " 70  employment_industry_xicduogh    26707 non-null  uint8  \n",
      " 71  employment_industry_xqicxuve    26707 non-null  uint8  \n",
      " 72  employment_occupation_bxpfxfdn  26707 non-null  uint8  \n",
      " 73  employment_occupation_ccgxvspp  26707 non-null  uint8  \n",
      " 74  employment_occupation_cmhcxjea  26707 non-null  uint8  \n",
      " 75  employment_occupation_dcjcmpih  26707 non-null  uint8  \n",
      " 76  employment_occupation_dlvbwzss  26707 non-null  uint8  \n",
      " 77  employment_occupation_emcorrxb  26707 non-null  uint8  \n",
      " 78  employment_occupation_haliazsg  26707 non-null  uint8  \n",
      " 79  employment_occupation_hfxkjkmi  26707 non-null  uint8  \n",
      " 80  employment_occupation_hodpvpew  26707 non-null  uint8  \n",
      " 81  employment_occupation_kldqjyjy  26707 non-null  uint8  \n",
      " 82  employment_occupation_mxkfnird  26707 non-null  uint8  \n",
      " 83  employment_occupation_oijqvulv  26707 non-null  uint8  \n",
      " 84  employment_occupation_pvmttkik  26707 non-null  uint8  \n",
      " 85  employment_occupation_qxajmpny  26707 non-null  uint8  \n",
      " 86  employment_occupation_rcertsgn  26707 non-null  uint8  \n",
      " 87  employment_occupation_tfqavkke  26707 non-null  uint8  \n",
      " 88  employment_occupation_ukymxvdu  26707 non-null  uint8  \n",
      " 89  employment_occupation_unknown   26707 non-null  uint8  \n",
      " 90  employment_occupation_uqqtjvyb  26707 non-null  uint8  \n",
      " 91  employment_occupation_vlluhbov  26707 non-null  uint8  \n",
      " 92  employment_occupation_xgwztkwe  26707 non-null  uint8  \n",
      " 93  employment_occupation_xqwwgdyp  26707 non-null  uint8  \n",
      " 94  employment_occupation_xtkaffoo  26707 non-null  uint8  \n",
      " 95  employment_occupation_xzmlyyjv  26707 non-null  uint8  \n",
      "dtypes: float64(27), int64(6), uint8(63)\n",
      "memory usage: 8.3 MB\n"
     ]
    }
   ],
   "source": [
    "#new dataframe shape and Dtypes\n",
    "encoded_train.info()"
   ]
  },
  {
   "cell_type": "markdown",
   "id": "5f6c71e0",
   "metadata": {},
   "source": [
    "get_dummies method created 58 new columns, which more than doubles the width of this dataframe. This is due to the 2 employment features having over 20 categorical response options each. We can later decide if these features are worth keeping depending on how much or little they affect the accuracy of the machine learning models."
   ]
  },
  {
   "cell_type": "markdown",
   "id": "885b9bdd",
   "metadata": {},
   "source": [
    "## Creating New Feature:"
   ]
  },
  {
   "cell_type": "markdown",
   "id": "d439c18e",
   "metadata": {},
   "source": [
    "I felt that the total number of people in a household was more important than knowing how many were adults versus children. Having more people in close contact regardless of age is likely to increase likelihood of catching colds and flus. This likely would affect a person's probability of getting a vaccine due to how often they get sick and how easily they may spread a disease to loved ones."
   ]
  },
  {
   "cell_type": "code",
   "execution_count": 6,
   "id": "7d972532",
   "metadata": {},
   "outputs": [],
   "source": [
    "#Adding household adults with household children to create a total column\n",
    "encoded_train['household_total'] = encoded_train['household_adults'] + encoded_train['household_children']\n",
    "encoded_test['household_total'] = encoded_test['household_adults'] + encoded_test['household_children']"
   ]
  },
  {
   "cell_type": "markdown",
   "id": "b328835b",
   "metadata": {},
   "source": [
    "## Saving Dataframe for ML Modeling"
   ]
  },
  {
   "cell_type": "code",
   "execution_count": 7,
   "id": "e3aace19",
   "metadata": {},
   "outputs": [],
   "source": [
    "#saving for ML models\n",
    "encoded_train.to_csv('data/ML_ready_train', index=False)\n",
    "encoded_test.to_csv('data/ML_ready_test', index=False)"
   ]
  },
  {
   "cell_type": "markdown",
   "id": "ed37a375",
   "metadata": {},
   "source": [
    "# Returning to Feature Engineering:"
   ]
  },
  {
   "cell_type": "markdown",
   "id": "08f84fe2",
   "metadata": {},
   "source": [
    "While in the modeling stage of my project I was able to use a Random Forest Classifier to determine which of the features in my data were most/least important in predicting vaccinations. For both the seasonal vaccine and H1N1 vaccine, the only features eliminated came from the 'employment_industry' and 'employment_occupation' dummy features. 13 of these dummies were removed from my seasonal model and 28 were removed from my H1N1 model. These features were also missing data for close to half the responses. With all this in mind, it does not seem these 45 extra dummy features are worth the computing power they use up, so I will remove them from the dataframe and any final predicitive model I present."
   ]
  },
  {
   "cell_type": "markdown",
   "id": "abf80830",
   "metadata": {},
   "source": [
    "## Removing Features for Final Modeling"
   ]
  },
  {
   "cell_type": "code",
   "execution_count": 8,
   "id": "c34635e5",
   "metadata": {},
   "outputs": [],
   "source": [
    "final_train = onehot_train.drop(columns=['employment_industry', 'employment_occupation'])\n",
    "final_test = onehot_test.drop(columns=['employment_industry', 'employment_occupation'])"
   ]
  },
  {
   "cell_type": "markdown",
   "id": "8cb1a0b6",
   "metadata": {},
   "source": [
    "## Repeating Feature Engineering after Removal of Employment Columns"
   ]
  },
  {
   "cell_type": "code",
   "execution_count": 9,
   "id": "aff36295",
   "metadata": {},
   "outputs": [],
   "source": [
    "final_train = pd.get_dummies(final_train)\n",
    "final_test = pd.get_dummies(final_test)"
   ]
  },
  {
   "cell_type": "code",
   "execution_count": 11,
   "id": "afe8796f",
   "metadata": {},
   "outputs": [],
   "source": [
    "final_train['household_total'] = final_train['household_adults'] + final_train['household_children']\n",
    "final_test['household_total'] = final_test['household_adults'] + final_test['household_children']"
   ]
  },
  {
   "cell_type": "code",
   "execution_count": 12,
   "id": "646c82c0",
   "metadata": {},
   "outputs": [],
   "source": [
    "final_train.to_csv('data/ML_final_train', index=False)\n",
    "final_test.to_csv('data/ML_final_test', index=False)"
   ]
  }
 ],
 "metadata": {
  "kernelspec": {
   "display_name": "Python 3 (ipykernel)",
   "language": "python",
   "name": "python3"
  },
  "language_info": {
   "codemirror_mode": {
    "name": "ipython",
    "version": 3
   },
   "file_extension": ".py",
   "mimetype": "text/x-python",
   "name": "python",
   "nbconvert_exporter": "python",
   "pygments_lexer": "ipython3",
   "version": "3.8.12"
  }
 },
 "nbformat": 4,
 "nbformat_minor": 5
}
