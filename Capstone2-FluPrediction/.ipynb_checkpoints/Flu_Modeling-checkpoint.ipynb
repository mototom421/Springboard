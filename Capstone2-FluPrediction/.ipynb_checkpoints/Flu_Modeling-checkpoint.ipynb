{
 "cells": [
  {
   "cell_type": "markdown",
   "id": "7d14cb95",
   "metadata": {},
   "source": [
    "# Predicitive Modeling:"
   ]
  },
  {
   "cell_type": "code",
   "execution_count": 1,
   "id": "96fed720",
   "metadata": {},
   "outputs": [],
   "source": [
    "#import necessary basic packages\n",
    "import os\n",
    "import numpy as np\n",
    "import pandas as pd\n",
    "import matplotlib.pyplot as plt\n",
    "import seaborn as sns"
   ]
  },
  {
   "cell_type": "code",
   "execution_count": 2,
   "id": "9dee52e2",
   "metadata": {},
   "outputs": [],
   "source": [
    "#import Sklearn ML models and metrics\n",
    "from sklearn.model_selection import train_test_split, cross_val_score, GridSearchCV\n",
    "from sklearn.linear_model import LogisticRegression\n",
    "from sklearn.ensemble import RandomForestClassifier, ExtraTreesClassifier, GradientBoostingClassifier\n",
    "from sklearn.metrics import accuracy_score, confusion_matrix, roc_auc_score, classification_report, precision_score, roc_curve, plot_confusion_matrix\n",
    "from sklearn.preprocessing import MinMaxScaler\n",
    "from sklearn.feature_selection import RFECV\n"
   ]
  },
  {
   "cell_type": "code",
   "execution_count": 3,
   "id": "a4d47962",
   "metadata": {},
   "outputs": [],
   "source": [
    "#importing encoded ML ready data\n",
    "ML_data = pd.read_csv('data/ML_ready_train')"
   ]
  },
  {
   "cell_type": "code",
   "execution_count": 4,
   "id": "8b787b7a",
   "metadata": {},
   "outputs": [],
   "source": [
    "#creating features dataframe and 2 target arrays\n",
    "Xs = ML_data.drop(columns=['respondent_id','seasonal_vaccine', 'h1n1_vaccine'])\n",
    "Xh = ML_data.drop(columns=['respondent_id','h1n1_vaccine'])\n",
    "yh = ML_data.h1n1_vaccine\n",
    "ys = ML_data.seasonal_vaccine"
   ]
  },
  {
   "cell_type": "code",
   "execution_count": 197,
   "id": "79949fbb",
   "metadata": {},
   "outputs": [],
   "source": [
    "#for contest fit\n",
    "XH = Xh.drop(columns=['seasonal_vaccine'])\n",
    "XH['seasonal_vaccine'] = ys"
   ]
  },
  {
   "cell_type": "markdown",
   "id": "5159401f",
   "metadata": {},
   "source": [
    "Here I decided to use H1N1 vaccination prediction as something we can use as a model of novel vaccines as new viruses and pandemics arise (cheifly the COVID19 pandemic). I will therefore be able to use the seasonal_vaccine as an additional feature in predicting H1N1 vaccination status. In the future we will have this data as seasonal flu vaccinations are recorded in state and federal databases or can be self declared by those answering survey questions. Using H1N1 vaccination status to predict seasonal vaccination is less useful because the H1N1 vaccine was only given one year, whereas seasonal flu vaccines are given every year. Also it is more important to be able to use this information to predict who will get vaccinations for novel viruses during a pandemic."
   ]
  },
  {
   "cell_type": "markdown",
   "id": "df5fd0ce",
   "metadata": {},
   "source": [
    "# Splitting the Data into Train and Test Sets:"
   ]
  },
  {
   "cell_type": "markdown",
   "id": "0a9fc621",
   "metadata": {},
   "source": [
    "Because we have 2 variables we are interested in predicting for, I need a train/test split for each one"
   ]
  },
  {
   "cell_type": "markdown",
   "id": "92c2b539",
   "metadata": {},
   "source": [
    "## H1N1 Train/Test Split:"
   ]
  },
  {
   "cell_type": "code",
   "execution_count": 5,
   "id": "f79d56cd",
   "metadata": {},
   "outputs": [],
   "source": [
    "Xh_train, Xh_test, yh_train, yh_test = train_test_split(Xh, yh, test_size=0.3, random_state=49)"
   ]
  },
  {
   "cell_type": "markdown",
   "id": "417249d8",
   "metadata": {},
   "source": [
    "## Seasonal Train/Test Split:"
   ]
  },
  {
   "cell_type": "code",
   "execution_count": 13,
   "id": "b7f47b3d",
   "metadata": {},
   "outputs": [],
   "source": [
    "Xs_train, Xs_test, ys_train, ys_test = train_test_split(Xs, ys, test_size=0.3, random_state=42)"
   ]
  },
  {
   "cell_type": "markdown",
   "id": "0ac57492",
   "metadata": {},
   "source": [
    "# Random Forest Classifier:"
   ]
  },
  {
   "cell_type": "markdown",
   "id": "68aa1bb7",
   "metadata": {},
   "source": [
    "Using cross validation we can use the train data to find the optimal hyperparameter values. Here I decided to compare some of the more important hyperparameters, leaving out n_estimators. n_estimators can be optimized afterward as including it in the GridSearchCV took much too long."
   ]
  },
  {
   "cell_type": "markdown",
   "id": "84736674",
   "metadata": {},
   "source": [
    "### Seasonal RF Model Tuning:"
   ]
  },
  {
   "cell_type": "code",
   "execution_count": 15,
   "id": "49941ec9",
   "metadata": {},
   "outputs": [
    {
     "name": "stdout",
     "output_type": "stream",
     "text": [
      "Fitting 5 folds for each of 10 candidates, totalling 50 fits\n",
      "RandomForestClassifier(criterion='entropy', min_samples_leaf=4)\n",
      "0.8549371935774108\n"
     ]
    }
   ],
   "source": [
    "RF = RandomForestClassifier()\n",
    "\n",
    "params = {'criterion': ['entropy', 'gini'], 'min_samples_leaf':[2,3,4,5,6]}\n",
    "\n",
    "GS_rfc = GridSearchCV(estimator=RF, param_grid=params, scoring='roc_auc', verbose=True)\n",
    " \n",
    "GS_rfc.fit(Xs_train, ys_train)\n",
    "\n",
    "\n",
    "print(GS_rfc.best_estimator_) \n",
    "print(GS_rfc.best_score_)"
   ]
  },
  {
   "cell_type": "code",
   "execution_count": 9,
   "id": "1c35600d",
   "metadata": {},
   "outputs": [
    {
     "name": "stdout",
     "output_type": "stream",
     "text": [
      "Fitting 5 folds for each of 4 candidates, totalling 20 fits\n",
      "RandomForestClassifier(criterion='entropy', min_samples_leaf=4,\n",
      "                       n_estimators=10000)\n",
      "[0.85420909 0.85614868 0.85625279 0.85642956]\n",
      "[  1.97256904   9.65757461  38.66250281 196.02949681]\n"
     ]
    }
   ],
   "source": [
    "RF = RandomForestClassifier(criterion='entropy', min_samples_leaf=4)\n",
    "params = {'n_estimators': [100, 500, 2000, 10000]}\n",
    "GS2_rfc = GridSearchCV(estimator=RF, param_grid=params, scoring='roc_auc', verbose=True)\n",
    "\n",
    "GS2_rfc.fit(Xs_train, ys_train)\n",
    "\n",
    "print(GS2_rfc.best_estimator_) \n",
    "print(GS2_rfc.cv_results_['mean_test_score'])\n",
    "print(GS2_rfc.cv_results_['mean_fit_time'])\n"
   ]
  },
  {
   "cell_type": "markdown",
   "id": "2cceb657",
   "metadata": {},
   "source": [
    "### H1N1 RF Model Tuning:"
   ]
  },
  {
   "cell_type": "code",
   "execution_count": 16,
   "id": "cd8310cb",
   "metadata": {},
   "outputs": [
    {
     "name": "stdout",
     "output_type": "stream",
     "text": [
      "RandomForestClassifier(criterion='entropy', min_samples_leaf=3)\n",
      "0.8912952122907403\n"
     ]
    }
   ],
   "source": [
    "RF = RandomForestClassifier()\n",
    "\n",
    "params = {'criterion': ['entropy', 'gini'], 'min_samples_leaf':[2,3,4,5,6]}\n",
    "\n",
    "GS_rfc2 = GridSearchCV(estimator=RF, param_grid=params, scoring='roc_auc')\n",
    "\n",
    "GS_rfc2.fit(Xh_train, yh_train)\n",
    "\n",
    "\n",
    "print(GS_rfc2.best_estimator_) \n",
    "print(GS_rfc2.best_score_)"
   ]
  },
  {
   "cell_type": "code",
   "execution_count": 11,
   "id": "3faa2867",
   "metadata": {},
   "outputs": [
    {
     "name": "stdout",
     "output_type": "stream",
     "text": [
      "Fitting 5 folds for each of 5 candidates, totalling 25 fits\n",
      "RandomForestClassifier(criterion='entropy', min_samples_leaf=4,\n",
      "                       n_estimators=2000)\n",
      "[0.88877109 0.89037219 0.89036125 0.89090145 0.89102526]\n",
      "[ 1.88479457  3.42517099  9.24269323 17.24626627 35.1677516 ]\n"
     ]
    }
   ],
   "source": [
    "RF = RandomForestClassifier(criterion='entropy', min_samples_leaf=4)\n",
    "params = {'n_estimators': [100, 200, 500, 1000, 2000]}\n",
    "GS2_rfc2 = GridSearchCV(estimator=RF, param_grid=params, scoring='roc_auc', verbose=True)\n",
    "\n",
    "GS2_rfc2.fit(Xh_train, yh_train)\n",
    "\n",
    "print(GS2_rfc2.best_estimator_) \n",
    "print(GS2_rfc2.cv_results_['mean_test_score'])\n",
    "print(GS2_rfc2.cv_results_['mean_fit_time'])"
   ]
  },
  {
   "cell_type": "markdown",
   "id": "37f63592",
   "metadata": {},
   "source": [
    "## Seasonal Random Forest Model:"
   ]
  },
  {
   "cell_type": "code",
   "execution_count": 147,
   "id": "070025ab",
   "metadata": {},
   "outputs": [
    {
     "name": "stdout",
     "output_type": "stream",
     "text": [
      "0.7888431299138899\n",
      "CPU times: user 15.2 s, sys: 302 ms, total: 15.5 s\n",
      "Wall time: 15.7 s\n"
     ]
    }
   ],
   "source": [
    "%%time\n",
    "rfc = RandomForestClassifier(random_state=42, criterion='entropy', min_samples_leaf=4, n_estimators = 500)\n",
    "rfc.fit(Xs_train, ys_train)\n",
    "\n",
    "ys_pred_rfc = rfc.predict(Xs_test)\n",
    "rfc_s_proba = rfc.predict_proba(Xs_test)\n",
    "\n",
    "Accuracy_rfc = rfc.score(Xs_test,ys_test)\n",
    "print(Accuracy_rfc)"
   ]
  },
  {
   "cell_type": "code",
   "execution_count": 148,
   "id": "850b286f",
   "metadata": {},
   "outputs": [
    {
     "name": "stderr",
     "output_type": "stream",
     "text": [
      "/opt/anaconda3/lib/python3.8/site-packages/sklearn/utils/deprecation.py:87: FutureWarning:\n",
      "\n",
      "Function plot_confusion_matrix is deprecated; Function `plot_confusion_matrix` is deprecated in 1.0 and will be removed in 1.2. Use one of the class methods: ConfusionMatrixDisplay.from_predictions or ConfusionMatrixDisplay.from_estimator.\n",
      "\n"
     ]
    },
    {
     "data": {
      "image/png": "[encoded data removed]",
      "text/plain": [
       "<Figure size 1440x1440 with 2 Axes>"
      ]
     },
     "metadata": {
      "needs_background": "light"
     },
     "output_type": "display_data"
    }
   ],
   "source": [
    "plot_confusion_matrix(rfc,Xs_test,ys_test);"
   ]
  },
  {
   "cell_type": "code",
   "execution_count": 149,
   "id": "cee23759",
   "metadata": {},
   "outputs": [
    {
     "name": "stdout",
     "output_type": "stream",
     "text": [
      "              precision    recall  f1-score   support\n",
      "\n",
      "           0       0.80      0.82      0.81      4342\n",
      "           1       0.78      0.75      0.77      3671\n",
      "\n",
      "    accuracy                           0.79      8013\n",
      "   macro avg       0.79      0.79      0.79      8013\n",
      "weighted avg       0.79      0.79      0.79      8013\n",
      "\n"
     ]
    }
   ],
   "source": [
    "print(classification_report(ys_test, ys_pred_rfc))"
   ]
  },
  {
   "cell_type": "code",
   "execution_count": 150,
   "id": "4b432652",
   "metadata": {},
   "outputs": [
    {
     "data": {
      "text/plain": [
       "0.8614955617754707"
      ]
     },
     "execution_count": 150,
     "metadata": {},
     "output_type": "execute_result"
    }
   ],
   "source": [
    "roc_auc_score(ys_test, rfc_s_proba[:,1])"
   ]
  },
  {
   "cell_type": "markdown",
   "id": "428f689b",
   "metadata": {},
   "source": [
    "### Cross Validated Accuracy and ROC_AUC:"
   ]
  },
  {
   "cell_type": "code",
   "execution_count": 151,
   "id": "3bf647e5",
   "metadata": {},
   "outputs": [
    {
     "name": "stdout",
     "output_type": "stream",
     "text": [
      "[0.80536494 0.78477854 0.7654398  0.77091136 0.78776529]\n",
      "Mean cross validation test score: 0.7828519871059492\n",
      "Mean cross validation train score: 0.7791271017062928\n",
      "Standard deviation in cv score: 0.014003200134797878\n"
     ]
    }
   ],
   "source": [
    "cv_scores_test= cross_val_score(rfc,Xs_test,ys_test,cv=5)\n",
    "cv_scores_train= cross_val_score(rfc,Xs_train,ys_train,cv=5)\n",
    "print(cv_scores_test)\n",
    "cv_scores_rfs_test= cv_scores_test.mean()\n",
    "cv_scores_rfs_train= cv_scores_train.mean()\n",
    "cv_scores_std_rfs= cv_scores_test.std()\n",
    "print ('Mean cross validation test score: ' +str(cv_scores_rfs_test))\n",
    "print ('Mean cross validation train score: ' +str(cv_scores_rfs_train))\n",
    "print ('Standard deviation in cv score: ' +str(cv_scores_std_rfs))"
   ]
  },
  {
   "cell_type": "code",
   "execution_count": 152,
   "id": "8385fda2",
   "metadata": {},
   "outputs": [
    {
     "name": "stdout",
     "output_type": "stream",
     "text": [
      "[0.86322561 0.85671777 0.84649205 0.85733278 0.86068541]\n",
      "Mean cross validation test ROC_AUC: 0.8568907213999977\n",
      "Mean cross validation train ROC_AUC: 0.8560680182840311\n",
      "Standard deviation in cv ROC_AUC: 0.005707679421740283\n"
     ]
    }
   ],
   "source": [
    "cv_scores_test= cross_val_score(rfc,Xs_test,ys_test,cv=5,scoring='roc_auc')\n",
    "cv_scores_train= cross_val_score(rfc,Xs_train,ys_train,cv=5,scoring='roc_auc')\n",
    "print(cv_scores_test)\n",
    "cv_rocauc_rfs_test= cv_scores_test.mean()\n",
    "cv_rocauc_rfs_train= cv_scores_train.mean()\n",
    "cv_rocauc_std_rfs= cv_scores_test.std()\n",
    "print ('Mean cross validation test ROC_AUC: ' +str(cv_rocauc_rfs_test))\n",
    "print ('Mean cross validation train ROC_AUC: ' +str(cv_rocauc_rfs_train))\n",
    "print ('Standard deviation in cv ROC_AUC: ' +str(cv_rocauc_std_rfs))"
   ]
  },
  {
   "cell_type": "code",
   "execution_count": 153,
   "id": "a028e5a2",
   "metadata": {},
   "outputs": [
    {
     "data": {
      "image/png": "[encoded data removed]",
      "text/plain": [
       "<Figure size 1440x1440 with 1 Axes>"
      ]
     },
     "metadata": {
      "needs_background": "light"
     },
     "output_type": "display_data"
    }
   ],
   "source": [
    "importances = list(rfc.feature_importances_)\n",
    "\n",
    "tab=pd.DataFrame(list(zip(Xs,importances)),columns =['Features', 'Importance scores']) \n",
    "imp = tab.sort_values(by='Importance scores', ascending=False)\n",
    "\n",
    "imp[:15].plot(kind='barh', x='Features')\n",
    "plt.title('Seasonal RF Feature Importances')\n",
    "plt.savefig('./figures/RFC_seas_FI.pdf');"
   ]
  },
  {
   "cell_type": "markdown",
   "id": "78a48363",
   "metadata": {},
   "source": [
    "### H1N1 Random Forest Model:"
   ]
  },
  {
   "cell_type": "code",
   "execution_count": 154,
   "id": "f30f86fd",
   "metadata": {},
   "outputs": [
    {
     "name": "stdout",
     "output_type": "stream",
     "text": [
      "0.865967802321228\n",
      "CPU times: user 14.4 s, sys: 211 ms, total: 14.6 s\n",
      "Wall time: 14.7 s\n"
     ]
    }
   ],
   "source": [
    "%%time\n",
    "rfc2 = RandomForestClassifier(random_state=42, criterion='entropy', min_samples_leaf=3, n_estimators=500)\n",
    "rfc2.fit(Xh_train, yh_train)\n",
    "\n",
    "yh_pred_rfc = rfc2.predict(Xh_test)\n",
    "rfc_h_proba = rfc2.predict_proba(Xh_test)\n",
    "\n",
    "Accuracy_rfc2 = rfc2.score(Xh_test,yh_test)\n",
    "print(Accuracy_rfc2)"
   ]
  },
  {
   "cell_type": "code",
   "execution_count": 155,
   "id": "569ac77a",
   "metadata": {},
   "outputs": [
    {
     "name": "stderr",
     "output_type": "stream",
     "text": [
      "/opt/anaconda3/lib/python3.8/site-packages/sklearn/utils/deprecation.py:87: FutureWarning:\n",
      "\n",
      "Function plot_confusion_matrix is deprecated; Function `plot_confusion_matrix` is deprecated in 1.0 and will be removed in 1.2. Use one of the class methods: ConfusionMatrixDisplay.from_predictions or ConfusionMatrixDisplay.from_estimator.\n",
      "\n"
     ]
    },
    {
     "data": {
      "image/png": "[encoded data removed]",
      "text/plain": [
       "<Figure size 1440x1440 with 2 Axes>"
      ]
     },
     "metadata": {
      "needs_background": "light"
     },
     "output_type": "display_data"
    }
   ],
   "source": [
    "plot_confusion_matrix(rfc2,Xh_test,yh_test);"
   ]
  },
  {
   "cell_type": "code",
   "execution_count": 156,
   "id": "7431c476",
   "metadata": {},
   "outputs": [
    {
     "name": "stdout",
     "output_type": "stream",
     "text": [
      "              precision    recall  f1-score   support\n",
      "\n",
      "           0       0.88      0.96      0.92      6300\n",
      "           1       0.79      0.51      0.62      1713\n",
      "\n",
      "    accuracy                           0.87      8013\n",
      "   macro avg       0.83      0.73      0.77      8013\n",
      "weighted avg       0.86      0.87      0.85      8013\n",
      "\n"
     ]
    }
   ],
   "source": [
    "print(classification_report(yh_test, yh_pred_rfc))"
   ]
  },
  {
   "cell_type": "code",
   "execution_count": 157,
   "id": "b6a3c5a1",
   "metadata": {},
   "outputs": [
    {
     "data": {
      "text/plain": [
       "0.8906496539070969"
      ]
     },
     "execution_count": 157,
     "metadata": {},
     "output_type": "execute_result"
    }
   ],
   "source": [
    "roc_auc_score(yh_test, rfc_h_proba[:,1])"
   ]
  },
  {
   "cell_type": "markdown",
   "id": "309cb70e",
   "metadata": {},
   "source": [
    "### H1N1 Cross Validated Accuracy and ROC_AUC:"
   ]
  },
  {
   "cell_type": "code",
   "execution_count": 158,
   "id": "ce5f8ecc",
   "metadata": {},
   "outputs": [
    {
     "name": "stdout",
     "output_type": "stream",
     "text": [
      "[0.85901435 0.86088584 0.87398628 0.86142322 0.85580524]\n",
      "Mean cross validation test score: 0.8622229854603143\n",
      "Mean cross validation train score: 0.8645553477287612\n",
      "Standard deviation in cv scores: 0.006201376429224566\n"
     ]
    }
   ],
   "source": [
    "cv_scores_test= cross_val_score(rfc2,Xh_test,yh_test,cv=5)\n",
    "cv_scores_train= cross_val_score(rfc2,Xh_train,yh_train,cv=5)\n",
    "print(cv_scores_test)\n",
    "cv_scores_rfh_test= cv_scores_test.mean()\n",
    "cv_scores_rfh_train= cv_scores_train.mean()\n",
    "cv_scores_std_rfh= cv_scores_test.std()\n",
    "print ('Mean cross validation test score: ' +str(cv_scores_rfh_test))\n",
    "print ('Mean cross validation train score: ' +str(cv_scores_rfh_train))\n",
    "print ('Standard deviation in cv scores: ' +str(cv_scores_std_rfh))"
   ]
  },
  {
   "cell_type": "code",
   "execution_count": 159,
   "id": "37e754f7",
   "metadata": {},
   "outputs": [
    {
     "name": "stdout",
     "output_type": "stream",
     "text": [
      "[0.88923134 0.88168356 0.89160304 0.87551286 0.88632229]\n",
      "Mean cross validation test score: 0.8848706151514192\n",
      "Mean cross validation train score: 0.8926812099410222\n",
      "Standard deviation in cv scores: 0.005730161199559213\n"
     ]
    }
   ],
   "source": [
    "cv_scores_test= cross_val_score(rfc2,Xh_test,yh_test,cv=5,scoring='roc_auc')\n",
    "cv_scores_train= cross_val_score(rfc2,Xh_train,yh_train,cv=5,scoring='roc_auc')\n",
    "print(cv_scores_test)\n",
    "cv_rocauc_rfh_test= cv_scores_test.mean()\n",
    "cv_rocauc_rfh_train= cv_scores_train.mean()\n",
    "cv_rocauc_std_rfh= cv_scores_test.std()\n",
    "print ('Mean cross validation test score: ' +str(cv_rocauc_rfh_test))\n",
    "print ('Mean cross validation train score: ' +str(cv_rocauc_rfh_train))\n",
    "print ('Standard deviation in cv scores: ' +str(cv_rocauc_std_rfh))"
   ]
  },
  {
   "cell_type": "code",
   "execution_count": 160,
   "id": "8baa5b77",
   "metadata": {},
   "outputs": [
    {
     "data": {
      "image/png": "[encoded data removed]",
      "text/plain": [
       "<Figure size 1440x1440 with 1 Axes>"
      ]
     },
     "metadata": {
      "needs_background": "light"
     },
     "output_type": "display_data"
    }
   ],
   "source": [
    "importances = list(rfc2.feature_importances_)\n",
    "\n",
    "tab=pd.DataFrame(list(zip(Xh,importances)),columns =['Features', 'Importance scores']) \n",
    "imp = tab.sort_values(by='Importance scores', ascending=False)\n",
    "\n",
    "\n",
    "imp[:15].plot(kind='barh', x='Features')\n",
    "plt.title('H1N1 RF Feature Importances')\n",
    "plt.savefig('./figures/RFC_H1N1_FI.pdf');"
   ]
  },
  {
   "cell_type": "markdown",
   "id": "230f8fb7",
   "metadata": {},
   "source": [
    "# Logistic Regression:"
   ]
  },
  {
   "cell_type": "markdown",
   "id": "3e1f7db8",
   "metadata": {},
   "source": [
    "## Scaling Data:"
   ]
  },
  {
   "cell_type": "markdown",
   "id": "e2457077",
   "metadata": {},
   "source": [
    "Although this data is all relatively similar in scale, Logistic Regression will operate best with all features being of the same scale. Here I used MinMaxScaler to put all variables between 0 and 1."
   ]
  },
  {
   "cell_type": "code",
   "execution_count": 47,
   "id": "4eb2de5f",
   "metadata": {},
   "outputs": [],
   "source": [
    "scaler = MinMaxScaler()\n",
    "scaler.fit(Xs)\n",
    "scaled_s = scaler.transform(Xs)"
   ]
  },
  {
   "cell_type": "code",
   "execution_count": 48,
   "id": "beedadf4",
   "metadata": {},
   "outputs": [],
   "source": [
    "scaler = MinMaxScaler()\n",
    "scaler.fit(Xh)\n",
    "scaled_h = scaler.transform(Xh)"
   ]
  },
  {
   "cell_type": "code",
   "execution_count": 49,
   "id": "c146873f",
   "metadata": {},
   "outputs": [],
   "source": [
    "X2h_train, X2h_test, y2h_train, y2h_test = train_test_split(scaled_h, yh, test_size=0.3, random_state=49)\n",
    "X2s_train, X2s_test, y2s_train, y2s_test = train_test_split(scaled_s, ys, test_size=0.3, random_state=49)"
   ]
  },
  {
   "cell_type": "markdown",
   "id": "7b336ad3",
   "metadata": {},
   "source": [
    "### Cross Validating Hyperparameters\n",
    "Cross validation used again to find the optimal hyperparameters for a logistic regression model. At the default max_iter of 100, many of the models were not converging and unable to determine which hyperparameters were best. So by increasing max_iter to 5000 in grid search, I was able to see every combination of hyperparameters."
   ]
  },
  {
   "cell_type": "code",
   "execution_count": 50,
   "id": "01bd013f",
   "metadata": {},
   "outputs": [
    {
     "name": "stderr",
     "output_type": "stream",
     "text": [
      "/opt/anaconda3/lib/python3.8/site-packages/sklearn/model_selection/_validation.py:372: FitFailedWarning: \n",
      "455 fits failed out of a total of 700.\n",
      "The score on these train-test partitions for these parameters will be set to nan.\n",
      "If these failures are not expected, you can try to debug them by setting error_score='raise'.\n",
      "\n",
      "Below are more details about the failures:\n",
      "--------------------------------------------------------------------------------\n",
      "175 fits failed with the following error:\n",
      "Traceback (most recent call last):\n",
      "  File \"/opt/anaconda3/lib/python3.8/site-packages/sklearn/model_selection/_validation.py\", line 680, in _fit_and_score\n",
      "    estimator.fit(X_train, y_train, **fit_params)\n",
      "  File \"/opt/anaconda3/lib/python3.8/site-packages/sklearn/linear_model/_logistic.py\", line 1461, in fit\n",
      "    solver = _check_solver(self.solver, self.penalty, self.dual)\n",
      "  File \"/opt/anaconda3/lib/python3.8/site-packages/sklearn/linear_model/_logistic.py\", line 441, in _check_solver\n",
      "    raise ValueError(\n",
      "ValueError: Logistic Regression supports only penalties in ['l1', 'l2', 'elasticnet', 'none'], got None.\n",
      "\n",
      "--------------------------------------------------------------------------------\n",
      "35 fits failed with the following error:\n",
      "Traceback (most recent call last):\n",
      "  File \"/opt/anaconda3/lib/python3.8/site-packages/sklearn/model_selection/_validation.py\", line 680, in _fit_and_score\n",
      "    estimator.fit(X_train, y_train, **fit_params)\n",
      "  File \"/opt/anaconda3/lib/python3.8/site-packages/sklearn/linear_model/_logistic.py\", line 1461, in fit\n",
      "    solver = _check_solver(self.solver, self.penalty, self.dual)\n",
      "  File \"/opt/anaconda3/lib/python3.8/site-packages/sklearn/linear_model/_logistic.py\", line 447, in _check_solver\n",
      "    raise ValueError(\n",
      "ValueError: Solver newton-cg supports only 'l2' or 'none' penalties, got l1 penalty.\n",
      "\n",
      "--------------------------------------------------------------------------------\n",
      "35 fits failed with the following error:\n",
      "Traceback (most recent call last):\n",
      "  File \"/opt/anaconda3/lib/python3.8/site-packages/sklearn/model_selection/_validation.py\", line 680, in _fit_and_score\n",
      "    estimator.fit(X_train, y_train, **fit_params)\n",
      "  File \"/opt/anaconda3/lib/python3.8/site-packages/sklearn/linear_model/_logistic.py\", line 1461, in fit\n",
      "    solver = _check_solver(self.solver, self.penalty, self.dual)\n",
      "  File \"/opt/anaconda3/lib/python3.8/site-packages/sklearn/linear_model/_logistic.py\", line 447, in _check_solver\n",
      "    raise ValueError(\n",
      "ValueError: Solver lbfgs supports only 'l2' or 'none' penalties, got l1 penalty.\n",
      "\n",
      "--------------------------------------------------------------------------------\n",
      "35 fits failed with the following error:\n",
      "Traceback (most recent call last):\n",
      "  File \"/opt/anaconda3/lib/python3.8/site-packages/sklearn/model_selection/_validation.py\", line 680, in _fit_and_score\n",
      "    estimator.fit(X_train, y_train, **fit_params)\n",
      "  File \"/opt/anaconda3/lib/python3.8/site-packages/sklearn/linear_model/_logistic.py\", line 1461, in fit\n",
      "    solver = _check_solver(self.solver, self.penalty, self.dual)\n",
      "  File \"/opt/anaconda3/lib/python3.8/site-packages/sklearn/linear_model/_logistic.py\", line 447, in _check_solver\n",
      "    raise ValueError(\n",
      "ValueError: Solver sag supports only 'l2' or 'none' penalties, got l1 penalty.\n",
      "\n",
      "--------------------------------------------------------------------------------\n",
      "35 fits failed with the following error:\n",
      "Traceback (most recent call last):\n",
      "  File \"/opt/anaconda3/lib/python3.8/site-packages/sklearn/model_selection/_validation.py\", line 680, in _fit_and_score\n",
      "    estimator.fit(X_train, y_train, **fit_params)\n",
      "  File \"/opt/anaconda3/lib/python3.8/site-packages/sklearn/linear_model/_logistic.py\", line 1461, in fit\n",
      "    solver = _check_solver(self.solver, self.penalty, self.dual)\n",
      "  File \"/opt/anaconda3/lib/python3.8/site-packages/sklearn/linear_model/_logistic.py\", line 447, in _check_solver\n",
      "    raise ValueError(\n",
      "ValueError: Solver newton-cg supports only 'l2' or 'none' penalties, got elasticnet penalty.\n",
      "\n",
      "--------------------------------------------------------------------------------\n",
      "35 fits failed with the following error:\n",
      "Traceback (most recent call last):\n",
      "  File \"/opt/anaconda3/lib/python3.8/site-packages/sklearn/model_selection/_validation.py\", line 680, in _fit_and_score\n",
      "    estimator.fit(X_train, y_train, **fit_params)\n",
      "  File \"/opt/anaconda3/lib/python3.8/site-packages/sklearn/linear_model/_logistic.py\", line 1461, in fit\n",
      "    solver = _check_solver(self.solver, self.penalty, self.dual)\n",
      "  File \"/opt/anaconda3/lib/python3.8/site-packages/sklearn/linear_model/_logistic.py\", line 447, in _check_solver\n",
      "    raise ValueError(\n",
      "ValueError: Solver lbfgs supports only 'l2' or 'none' penalties, got elasticnet penalty.\n",
      "\n",
      "--------------------------------------------------------------------------------\n",
      "35 fits failed with the following error:\n",
      "Traceback (most recent call last):\n",
      "  File \"/opt/anaconda3/lib/python3.8/site-packages/sklearn/model_selection/_validation.py\", line 680, in _fit_and_score\n",
      "    estimator.fit(X_train, y_train, **fit_params)\n",
      "  File \"/opt/anaconda3/lib/python3.8/site-packages/sklearn/linear_model/_logistic.py\", line 1461, in fit\n",
      "    solver = _check_solver(self.solver, self.penalty, self.dual)\n",
      "  File \"/opt/anaconda3/lib/python3.8/site-packages/sklearn/linear_model/_logistic.py\", line 457, in _check_solver\n",
      "    raise ValueError(\n",
      "ValueError: Only 'saga' solver supports elasticnet penalty, got solver=liblinear.\n",
      "\n",
      "--------------------------------------------------------------------------------\n",
      "35 fits failed with the following error:\n",
      "Traceback (most recent call last):\n",
      "  File \"/opt/anaconda3/lib/python3.8/site-packages/sklearn/model_selection/_validation.py\", line 680, in _fit_and_score\n",
      "    estimator.fit(X_train, y_train, **fit_params)\n",
      "  File \"/opt/anaconda3/lib/python3.8/site-packages/sklearn/linear_model/_logistic.py\", line 1461, in fit\n",
      "    solver = _check_solver(self.solver, self.penalty, self.dual)\n",
      "  File \"/opt/anaconda3/lib/python3.8/site-packages/sklearn/linear_model/_logistic.py\", line 447, in _check_solver\n",
      "    raise ValueError(\n",
      "ValueError: Solver sag supports only 'l2' or 'none' penalties, got elasticnet penalty.\n",
      "\n",
      "--------------------------------------------------------------------------------\n",
      "35 fits failed with the following error:\n",
      "Traceback (most recent call last):\n",
      "  File \"/opt/anaconda3/lib/python3.8/site-packages/sklearn/model_selection/_validation.py\", line 680, in _fit_and_score\n",
      "    estimator.fit(X_train, y_train, **fit_params)\n",
      "  File \"/opt/anaconda3/lib/python3.8/site-packages/sklearn/linear_model/_logistic.py\", line 1471, in fit\n",
      "    raise ValueError(\n",
      "ValueError: l1_ratio must be between 0 and 1; got (l1_ratio=None)\n",
      "\n",
      "  warnings.warn(some_fits_failed_message, FitFailedWarning)\n",
      "/opt/anaconda3/lib/python3.8/site-packages/sklearn/model_selection/_search.py:969: UserWarning: One or more of the test scores are non-finite: [       nan        nan        nan        nan        nan        nan\n",
      "        nan 0.66499281        nan 0.66499281 0.83060348 0.83060337\n",
      " 0.81391202 0.83060619 0.83060446        nan        nan        nan\n",
      "        nan        nan        nan        nan        nan        nan\n",
      "        nan        nan        nan 0.83910378        nan 0.84281538\n",
      " 0.84834177 0.84834252 0.84451996 0.84834183 0.8483416         nan\n",
      "        nan        nan        nan        nan        nan        nan\n",
      "        nan        nan        nan        nan        nan 0.85189067\n",
      "        nan 0.85200006 0.85213567 0.85213331 0.85194359 0.85213463\n",
      " 0.8521363         nan        nan        nan        nan        nan\n",
      "        nan        nan        nan        nan        nan        nan\n",
      "        nan 0.85238196        nan 0.85238116 0.85219119 0.85219119\n",
      " 0.8521852  0.85219113 0.85219136        nan        nan        nan\n",
      "        nan        nan        nan        nan        nan        nan\n",
      "        nan        nan        nan 0.85215732        nan 0.85215824\n",
      " 0.85213415 0.85213323 0.85213473 0.8521345  0.85213398        nan\n",
      "        nan        nan        nan        nan        nan        nan\n",
      "        nan        nan        nan        nan        nan 0.85212622\n",
      "        nan 0.85212662 0.85212587 0.85212455 0.85212691 0.85212558\n",
      " 0.8521253         nan        nan        nan        nan        nan\n",
      "        nan        nan        nan        nan        nan        nan\n",
      "        nan 0.85212524        nan 0.85212524 0.85212478 0.85212461\n",
      " 0.8521257  0.85212581 0.85212512        nan        nan        nan\n",
      "        nan        nan]\n",
      "  warnings.warn(\n"
     ]
    },
    {
     "name": "stdout",
     "output_type": "stream",
     "text": [
      "LogisticRegression(max_iter=5000, penalty='l1', solver='liblinear')\n",
      "0.852381963066485\n"
     ]
    }
   ],
   "source": [
    "LR = LogisticRegression(max_iter=5000)\n",
    "\n",
    "params = {\n",
    "    'penalty' : [None, 'l1','l2', 'elasticnet'], \n",
    "    'C'       : np.logspace(-3,3,7),\n",
    "    'solver'  : ['newton-cg', 'lbfgs', 'liblinear', 'sag', 'saga']\n",
    "}\n",
    "\n",
    "GS_lr1 = GridSearchCV(estimator=LR, param_grid=params, scoring='roc_auc')\n",
    "\n",
    "GS_lr1.fit(X2s_train, y2s_train)\n",
    "\n",
    "\n",
    "print(GS_lr1.best_estimator_) \n",
    "print(GS_lr1.best_score_)"
   ]
  },
  {
   "cell_type": "code",
   "execution_count": 51,
   "id": "c09dec8c",
   "metadata": {},
   "outputs": [
    {
     "name": "stderr",
     "output_type": "stream",
     "text": [
      "/opt/anaconda3/lib/python3.8/site-packages/sklearn/model_selection/_validation.py:372: FitFailedWarning: \n",
      "455 fits failed out of a total of 700.\n",
      "The score on these train-test partitions for these parameters will be set to nan.\n",
      "If these failures are not expected, you can try to debug them by setting error_score='raise'.\n",
      "\n",
      "Below are more details about the failures:\n",
      "--------------------------------------------------------------------------------\n",
      "175 fits failed with the following error:\n",
      "Traceback (most recent call last):\n",
      "  File \"/opt/anaconda3/lib/python3.8/site-packages/sklearn/model_selection/_validation.py\", line 680, in _fit_and_score\n",
      "    estimator.fit(X_train, y_train, **fit_params)\n",
      "  File \"/opt/anaconda3/lib/python3.8/site-packages/sklearn/linear_model/_logistic.py\", line 1461, in fit\n",
      "    solver = _check_solver(self.solver, self.penalty, self.dual)\n",
      "  File \"/opt/anaconda3/lib/python3.8/site-packages/sklearn/linear_model/_logistic.py\", line 441, in _check_solver\n",
      "    raise ValueError(\n",
      "ValueError: Logistic Regression supports only penalties in ['l1', 'l2', 'elasticnet', 'none'], got None.\n",
      "\n",
      "--------------------------------------------------------------------------------\n",
      "35 fits failed with the following error:\n",
      "Traceback (most recent call last):\n",
      "  File \"/opt/anaconda3/lib/python3.8/site-packages/sklearn/model_selection/_validation.py\", line 680, in _fit_and_score\n",
      "    estimator.fit(X_train, y_train, **fit_params)\n",
      "  File \"/opt/anaconda3/lib/python3.8/site-packages/sklearn/linear_model/_logistic.py\", line 1461, in fit\n",
      "    solver = _check_solver(self.solver, self.penalty, self.dual)\n",
      "  File \"/opt/anaconda3/lib/python3.8/site-packages/sklearn/linear_model/_logistic.py\", line 447, in _check_solver\n",
      "    raise ValueError(\n",
      "ValueError: Solver newton-cg supports only 'l2' or 'none' penalties, got l1 penalty.\n",
      "\n",
      "--------------------------------------------------------------------------------\n",
      "35 fits failed with the following error:\n",
      "Traceback (most recent call last):\n",
      "  File \"/opt/anaconda3/lib/python3.8/site-packages/sklearn/model_selection/_validation.py\", line 680, in _fit_and_score\n",
      "    estimator.fit(X_train, y_train, **fit_params)\n",
      "  File \"/opt/anaconda3/lib/python3.8/site-packages/sklearn/linear_model/_logistic.py\", line 1461, in fit\n",
      "    solver = _check_solver(self.solver, self.penalty, self.dual)\n",
      "  File \"/opt/anaconda3/lib/python3.8/site-packages/sklearn/linear_model/_logistic.py\", line 447, in _check_solver\n",
      "    raise ValueError(\n",
      "ValueError: Solver lbfgs supports only 'l2' or 'none' penalties, got l1 penalty.\n",
      "\n",
      "--------------------------------------------------------------------------------\n",
      "35 fits failed with the following error:\n",
      "Traceback (most recent call last):\n",
      "  File \"/opt/anaconda3/lib/python3.8/site-packages/sklearn/model_selection/_validation.py\", line 680, in _fit_and_score\n",
      "    estimator.fit(X_train, y_train, **fit_params)\n",
      "  File \"/opt/anaconda3/lib/python3.8/site-packages/sklearn/linear_model/_logistic.py\", line 1461, in fit\n",
      "    solver = _check_solver(self.solver, self.penalty, self.dual)\n",
      "  File \"/opt/anaconda3/lib/python3.8/site-packages/sklearn/linear_model/_logistic.py\", line 447, in _check_solver\n",
      "    raise ValueError(\n",
      "ValueError: Solver sag supports only 'l2' or 'none' penalties, got l1 penalty.\n",
      "\n",
      "--------------------------------------------------------------------------------\n",
      "35 fits failed with the following error:\n",
      "Traceback (most recent call last):\n",
      "  File \"/opt/anaconda3/lib/python3.8/site-packages/sklearn/model_selection/_validation.py\", line 680, in _fit_and_score\n",
      "    estimator.fit(X_train, y_train, **fit_params)\n",
      "  File \"/opt/anaconda3/lib/python3.8/site-packages/sklearn/linear_model/_logistic.py\", line 1461, in fit\n",
      "    solver = _check_solver(self.solver, self.penalty, self.dual)\n",
      "  File \"/opt/anaconda3/lib/python3.8/site-packages/sklearn/linear_model/_logistic.py\", line 447, in _check_solver\n",
      "    raise ValueError(\n",
      "ValueError: Solver newton-cg supports only 'l2' or 'none' penalties, got elasticnet penalty.\n",
      "\n",
      "--------------------------------------------------------------------------------\n",
      "35 fits failed with the following error:\n",
      "Traceback (most recent call last):\n",
      "  File \"/opt/anaconda3/lib/python3.8/site-packages/sklearn/model_selection/_validation.py\", line 680, in _fit_and_score\n",
      "    estimator.fit(X_train, y_train, **fit_params)\n",
      "  File \"/opt/anaconda3/lib/python3.8/site-packages/sklearn/linear_model/_logistic.py\", line 1461, in fit\n",
      "    solver = _check_solver(self.solver, self.penalty, self.dual)\n",
      "  File \"/opt/anaconda3/lib/python3.8/site-packages/sklearn/linear_model/_logistic.py\", line 447, in _check_solver\n",
      "    raise ValueError(\n",
      "ValueError: Solver lbfgs supports only 'l2' or 'none' penalties, got elasticnet penalty.\n",
      "\n",
      "--------------------------------------------------------------------------------\n",
      "35 fits failed with the following error:\n",
      "Traceback (most recent call last):\n",
      "  File \"/opt/anaconda3/lib/python3.8/site-packages/sklearn/model_selection/_validation.py\", line 680, in _fit_and_score\n",
      "    estimator.fit(X_train, y_train, **fit_params)\n",
      "  File \"/opt/anaconda3/lib/python3.8/site-packages/sklearn/linear_model/_logistic.py\", line 1461, in fit\n",
      "    solver = _check_solver(self.solver, self.penalty, self.dual)\n",
      "  File \"/opt/anaconda3/lib/python3.8/site-packages/sklearn/linear_model/_logistic.py\", line 457, in _check_solver\n",
      "    raise ValueError(\n",
      "ValueError: Only 'saga' solver supports elasticnet penalty, got solver=liblinear.\n",
      "\n",
      "--------------------------------------------------------------------------------\n",
      "35 fits failed with the following error:\n",
      "Traceback (most recent call last):\n",
      "  File \"/opt/anaconda3/lib/python3.8/site-packages/sklearn/model_selection/_validation.py\", line 680, in _fit_and_score\n",
      "    estimator.fit(X_train, y_train, **fit_params)\n",
      "  File \"/opt/anaconda3/lib/python3.8/site-packages/sklearn/linear_model/_logistic.py\", line 1461, in fit\n",
      "    solver = _check_solver(self.solver, self.penalty, self.dual)\n",
      "  File \"/opt/anaconda3/lib/python3.8/site-packages/sklearn/linear_model/_logistic.py\", line 447, in _check_solver\n",
      "    raise ValueError(\n",
      "ValueError: Solver sag supports only 'l2' or 'none' penalties, got elasticnet penalty.\n",
      "\n",
      "--------------------------------------------------------------------------------\n",
      "35 fits failed with the following error:\n",
      "Traceback (most recent call last):\n",
      "  File \"/opt/anaconda3/lib/python3.8/site-packages/sklearn/model_selection/_validation.py\", line 680, in _fit_and_score\n",
      "    estimator.fit(X_train, y_train, **fit_params)\n",
      "  File \"/opt/anaconda3/lib/python3.8/site-packages/sklearn/linear_model/_logistic.py\", line 1471, in fit\n",
      "    raise ValueError(\n",
      "ValueError: l1_ratio must be between 0 and 1; got (l1_ratio=None)\n",
      "\n",
      "  warnings.warn(some_fits_failed_message, FitFailedWarning)\n",
      "/opt/anaconda3/lib/python3.8/site-packages/sklearn/model_selection/_search.py:969: UserWarning: One or more of the test scores are non-finite: [       nan        nan        nan        nan        nan        nan\n",
      "        nan 0.63650892        nan 0.73040792 0.86326522 0.86326582\n",
      " 0.83575487 0.86326942 0.8632648         nan        nan        nan\n",
      "        nan        nan        nan        nan        nan        nan\n",
      "        nan        nan        nan 0.87505925        nan 0.87957315\n",
      " 0.88368336 0.88368482 0.87959791 0.8836831  0.88368293        nan\n",
      "        nan        nan        nan        nan        nan        nan\n",
      "        nan        nan        nan        nan        nan 0.88875862\n",
      "        nan 0.88867502 0.88883349 0.88883307 0.88862347 0.88883469\n",
      " 0.88883366        nan        nan        nan        nan        nan\n",
      "        nan        nan        nan        nan        nan        nan\n",
      "        nan 0.88890179        nan 0.88889186 0.88868498 0.88868609\n",
      " 0.8886962  0.88868549 0.88868566        nan        nan        nan\n",
      "        nan        nan        nan        nan        nan        nan\n",
      "        nan        nan        nan 0.88859988        nan 0.88859422\n",
      " 0.88856398 0.88856081 0.88856801 0.88856398 0.88856432        nan\n",
      "        nan        nan        nan        nan        nan        nan\n",
      "        nan        nan        nan        nan        nan 0.88854933\n",
      "        nan 0.8885519  0.88854924 0.88854847 0.88854796 0.88854907\n",
      " 0.88854916        nan        nan        nan        nan        nan\n",
      "        nan        nan        nan        nan        nan        nan\n",
      "        nan 0.88854658        nan 0.88854941 0.88854924 0.88854993\n",
      " 0.8885459  0.88854881 0.88854976        nan        nan        nan\n",
      "        nan        nan]\n",
      "  warnings.warn(\n"
     ]
    },
    {
     "name": "stdout",
     "output_type": "stream",
     "text": [
      "LogisticRegression(max_iter=5000, penalty='l1', solver='liblinear')\n",
      "0.8889017918668634\n"
     ]
    }
   ],
   "source": [
    "LR = LogisticRegression(max_iter=5000)\n",
    "\n",
    "params = {\n",
    "    'penalty' : [None, 'l1','l2', 'elasticnet'], \n",
    "    'C'       : np.logspace(-3,3,7),\n",
    "    'solver'  : ['newton-cg', 'lbfgs', 'liblinear', 'sag', 'saga']\n",
    "}\n",
    "\n",
    "\n",
    "GS_lr2 = GridSearchCV(estimator=LR, param_grid=params, scoring='roc_auc')\n",
    "\n",
    "GS_lr2.fit(X2h_train, y2h_train)\n",
    "\n",
    "\n",
    "print(GS_lr2.best_estimator_) \n",
    "print(GS_lr2.best_score_)\n"
   ]
  },
  {
   "cell_type": "markdown",
   "id": "d889b84b",
   "metadata": {},
   "source": [
    "### Seasonal LR Model:"
   ]
  },
  {
   "cell_type": "code",
   "execution_count": 114,
   "id": "952578a2",
   "metadata": {},
   "outputs": [
    {
     "name": "stdout",
     "output_type": "stream",
     "text": [
      "0.7848496193685262\n",
      "CPU times: user 1.52 s, sys: 19.9 ms, total: 1.54 s\n",
      "Wall time: 1.57 s\n"
     ]
    }
   ],
   "source": [
    "%%time\n",
    "Logreg = LogisticRegression(max_iter=5000, penalty='l1', solver='saga', random_state=49)\n",
    "Logreg.fit(X2s_train,y2s_train)\n",
    "    \n",
    "ys_pred_lr = Logreg.predict(X2s_test)\n",
    "lr_s_proba = Logreg.predict_proba(X2s_test)\n",
    "    \n",
    "print(Logreg.score(X2s_test, y2s_test))"
   ]
  },
  {
   "cell_type": "code",
   "execution_count": 115,
   "id": "d8b53eb0",
   "metadata": {},
   "outputs": [
    {
     "name": "stderr",
     "output_type": "stream",
     "text": [
      "/opt/anaconda3/lib/python3.8/site-packages/sklearn/utils/deprecation.py:87: FutureWarning:\n",
      "\n",
      "Function plot_confusion_matrix is deprecated; Function `plot_confusion_matrix` is deprecated in 1.0 and will be removed in 1.2. Use one of the class methods: ConfusionMatrixDisplay.from_predictions or ConfusionMatrixDisplay.from_estimator.\n",
      "\n"
     ]
    },
    {
     "data": {
      "image/png": "[encoded data removed]",
      "text/plain": [
       "<Figure size 1440x1440 with 2 Axes>"
      ]
     },
     "metadata": {
      "needs_background": "light"
     },
     "output_type": "display_data"
    }
   ],
   "source": [
    "plot_confusion_matrix(Logreg,X2s_test,y2s_test);"
   ]
  },
  {
   "cell_type": "code",
   "execution_count": 116,
   "id": "0a40f8d6",
   "metadata": {},
   "outputs": [
    {
     "name": "stdout",
     "output_type": "stream",
     "text": [
      "              precision    recall  f1-score   support\n",
      "\n",
      "           0       0.79      0.81      0.80      4283\n",
      "           1       0.78      0.75      0.76      3730\n",
      "\n",
      "    accuracy                           0.78      8013\n",
      "   macro avg       0.78      0.78      0.78      8013\n",
      "weighted avg       0.78      0.78      0.78      8013\n",
      "\n"
     ]
    }
   ],
   "source": [
    "print(classification_report(y2s_test, ys_pred_lr))"
   ]
  },
  {
   "cell_type": "code",
   "execution_count": 117,
   "id": "9b3d0741",
   "metadata": {},
   "outputs": [
    {
     "data": {
      "text/plain": [
       "0.8566603173967285"
      ]
     },
     "execution_count": 117,
     "metadata": {},
     "output_type": "execute_result"
    }
   ],
   "source": [
    "roc_auc_score(y2s_test, lr_s_proba[:,1])"
   ]
  },
  {
   "cell_type": "markdown",
   "id": "28f65991",
   "metadata": {},
   "source": [
    "### Cross Validated Accuracy and ROC_AUC:"
   ]
  },
  {
   "cell_type": "code",
   "execution_count": 118,
   "id": "eed55cf9",
   "metadata": {},
   "outputs": [
    {
     "name": "stdout",
     "output_type": "stream",
     "text": [
      "[0.79039301 0.78041173 0.78727386 0.77777778 0.7690387 ]\n",
      "Mean cross validation test score: 0.7809790164041672\n",
      "Mean cross validation train score: 0.7780568104105913\n",
      "Standard deviation in cv scores: 0.007501856712027338\n"
     ]
    }
   ],
   "source": [
    "cv_scores_test= cross_val_score(Logreg,X2s_test,y2s_test,cv=5)\n",
    "cv_scores_train= cross_val_score(Logreg,X2s_train,y2s_train,cv=5)\n",
    "print(cv_scores_test)\n",
    "cv_scores_lrs_test= cv_scores_test.mean()\n",
    "cv_scores_lrs_train= cv_scores_train.mean()\n",
    "cv_scores_std_lrs= cv_scores_test.std()\n",
    "print ('Mean cross validation test score: ' +str(cv_scores_lrs_test))\n",
    "print ('Mean cross validation train score: ' +str(cv_scores_lrs_train))\n",
    "print ('Standard deviation in cv scores: ' +str(cv_scores_std_lrs))"
   ]
  },
  {
   "cell_type": "code",
   "execution_count": 119,
   "id": "ecc10d31",
   "metadata": {},
   "outputs": [
    {
     "name": "stdout",
     "output_type": "stream",
     "text": [
      "[0.86507894 0.85754909 0.86136094 0.84764539 0.84556106]\n",
      "Mean cross validation test score: 0.8554390845330977\n",
      "Mean cross validation train score: 0.8523809883738922\n",
      "Standard deviation in cv scores: 0.007625804620717363\n"
     ]
    }
   ],
   "source": [
    "cv_scores_test= cross_val_score(Logreg,X2s_test,y2s_test,cv=5,scoring='roc_auc')\n",
    "cv_scores_train= cross_val_score(Logreg,X2s_train,y2s_train,cv=5,scoring='roc_auc')\n",
    "print(cv_scores_test)\n",
    "cv_rocauc_lrs_test= cv_scores_test.mean()\n",
    "cv_rocauc_lrs_train= cv_scores_train.mean()\n",
    "cv_rocauc_std_lrs= cv_scores_test.std()\n",
    "print ('Mean cross validation test score: ' +str(cv_rocauc_lrs_test))\n",
    "print ('Mean cross validation train score: ' +str(cv_rocauc_lrs_train))\n",
    "print ('Standard deviation in cv scores: ' +str(cv_rocauc_std_lrs))"
   ]
  },
  {
   "cell_type": "code",
   "execution_count": 120,
   "id": "40a7d906",
   "metadata": {},
   "outputs": [
    {
     "data": {
      "image/png": "[encoded data removed]",
      "text/plain": [
       "<Figure size 1440x1440 with 1 Axes>"
      ]
     },
     "metadata": {
      "needs_background": "light"
     },
     "output_type": "display_data"
    }
   ],
   "source": [
    "importances = list(abs(Logreg.coef_[0]))\n",
    "\n",
    "tab=pd.DataFrame(list(zip(Xs,importances)),columns =['Features', 'Importance scores']) \n",
    "imp = tab.sort_values(by='Importance scores', ascending=False)\n",
    "\n",
    "imp[:10].plot(kind='barh', x='Features')\n",
    "plt.title('Seasonal LR Feature Importances')\n",
    "plt.savefig('./figures/LR_seas_FI.pdf');"
   ]
  },
  {
   "cell_type": "markdown",
   "id": "db5b98c6",
   "metadata": {},
   "source": [
    "### H1N1 LR Model:"
   ]
  },
  {
   "cell_type": "code",
   "execution_count": 121,
   "id": "9dfb5c05",
   "metadata": {},
   "outputs": [
    {
     "name": "stdout",
     "output_type": "stream",
     "text": [
      "0.8645950330712592\n",
      "CPU times: user 5.01 s, sys: 33.5 ms, total: 5.04 s\n",
      "Wall time: 5.08 s\n"
     ]
    }
   ],
   "source": [
    "%%time\n",
    "Logreg2 = LogisticRegression(max_iter=5000, penalty='l1', solver='liblinear', random_state=49)\n",
    "Logreg2.fit(X2h_train,y2h_train)\n",
    "    \n",
    "yh_pred_lr = Logreg2.predict(X2h_test)\n",
    "lr_h_proba = Logreg2.predict_proba(X2h_test)\n",
    "\n",
    "    \n",
    "print(Logreg2.score(X2h_test, y2h_test))"
   ]
  },
  {
   "cell_type": "code",
   "execution_count": 122,
   "id": "4ac0d3ee",
   "metadata": {},
   "outputs": [
    {
     "name": "stderr",
     "output_type": "stream",
     "text": [
      "/opt/anaconda3/lib/python3.8/site-packages/sklearn/utils/deprecation.py:87: FutureWarning:\n",
      "\n",
      "Function plot_confusion_matrix is deprecated; Function `plot_confusion_matrix` is deprecated in 1.0 and will be removed in 1.2. Use one of the class methods: ConfusionMatrixDisplay.from_predictions or ConfusionMatrixDisplay.from_estimator.\n",
      "\n"
     ]
    },
    {
     "data": {
      "image/png": "[encoded data removed]",
      "text/plain": [
       "<Figure size 1440x1440 with 2 Axes>"
      ]
     },
     "metadata": {
      "needs_background": "light"
     },
     "output_type": "display_data"
    }
   ],
   "source": [
    "plot_confusion_matrix(Logreg2,X2h_test,y2h_test);"
   ]
  },
  {
   "cell_type": "code",
   "execution_count": 123,
   "id": "f1ed6cf8",
   "metadata": {},
   "outputs": [
    {
     "name": "stdout",
     "output_type": "stream",
     "text": [
      "              precision    recall  f1-score   support\n",
      "\n",
      "           0       0.89      0.94      0.92      6300\n",
      "           1       0.73      0.58      0.65      1713\n",
      "\n",
      "    accuracy                           0.86      8013\n",
      "   macro avg       0.81      0.76      0.78      8013\n",
      "weighted avg       0.86      0.86      0.86      8013\n",
      "\n"
     ]
    }
   ],
   "source": [
    "print(classification_report(y2h_test, yh_pred_lr))"
   ]
  },
  {
   "cell_type": "code",
   "execution_count": 124,
   "id": "f18728f1",
   "metadata": {},
   "outputs": [
    {
     "data": {
      "text/plain": [
       "0.8861993717510355"
      ]
     },
     "execution_count": 124,
     "metadata": {},
     "output_type": "execute_result"
    }
   ],
   "source": [
    "roc_auc_score(y2h_test, lr_h_proba[:,1])"
   ]
  },
  {
   "cell_type": "markdown",
   "id": "ba3c5ee9",
   "metadata": {},
   "source": [
    "### H1N1 Cross Validated Accuracy and ROC_AUC:"
   ]
  },
  {
   "cell_type": "code",
   "execution_count": 125,
   "id": "24e92df9",
   "metadata": {},
   "outputs": [
    {
     "name": "stdout",
     "output_type": "stream",
     "text": [
      "[0.85464754 0.86774797 0.87710543 0.85330836 0.8545568 ]\n",
      "Mean cross validation test score: 0.8614732208569607\n",
      "Mean cross validation train score: 0.865678571178149\n",
      "Standard deviation in cv scores: 0.009432179644185005\n"
     ]
    }
   ],
   "source": [
    "cv_scores_test= cross_val_score(Logreg2,X2h_test,y2h_test,cv=5)\n",
    "cv_scores_train= cross_val_score(Logreg2,X2h_train,y2h_train,cv=5)\n",
    "print(cv_scores_test)\n",
    "cv_scores_lrh_test= cv_scores_test.mean()\n",
    "cv_scores_lrh_train= cv_scores_train.mean()\n",
    "cv_scores_std_lrh= cv_scores_test.std()\n",
    "print ('Mean cross validation test score: ' +str(cv_scores_lrh_test))\n",
    "print ('Mean cross validation train score: ' +str(cv_scores_lrh_train))\n",
    "print ('Standard deviation in cv scores: ' +str(cv_scores_std_lrh))"
   ]
  },
  {
   "cell_type": "code",
   "execution_count": 126,
   "id": "ada3b441",
   "metadata": {},
   "outputs": [
    {
     "name": "stdout",
     "output_type": "stream",
     "text": [
      "[0.89264427 0.88402517 0.89493035 0.87025202 0.87966676]\n",
      "Mean cross validation test score: 0.8843037149617375\n",
      "Mean cross validation train score: 0.8889016209048876\n",
      "Standard deviation in cv scores: 0.00896124293554669\n"
     ]
    }
   ],
   "source": [
    "cv_scores_test= cross_val_score(Logreg2,X2h_test,y2h_test,cv=5,scoring='roc_auc')\n",
    "cv_scores_train= cross_val_score(Logreg2,X2h_train,y2h_train,cv=5,scoring='roc_auc')\n",
    "print(cv_scores_test)\n",
    "cv_rocauc_lrh_test= cv_scores_test.mean()\n",
    "cv_rocauc_lrh_train= cv_scores_train.mean()\n",
    "cv_rocauc_std_lrh= cv_scores_test.std()\n",
    "print ('Mean cross validation test score: ' +str(cv_rocauc_lrh_test))\n",
    "print ('Mean cross validation train score: ' +str(cv_rocauc_lrh_train))\n",
    "print ('Standard deviation in cv scores: ' +str(cv_rocauc_std_lrh))"
   ]
  },
  {
   "cell_type": "code",
   "execution_count": 127,
   "id": "d40ca98b",
   "metadata": {},
   "outputs": [
    {
     "data": {
      "image/png": "[encoded data removed]",
      "text/plain": [
       "<Figure size 1440x1440 with 1 Axes>"
      ]
     },
     "metadata": {
      "needs_background": "light"
     },
     "output_type": "display_data"
    }
   ],
   "source": [
    "importances = list(abs(Logreg2.coef_[0]))\n",
    "\n",
    "tab=pd.DataFrame(list(zip(Xh,importances)),columns =['Features', 'Importance scores']) \n",
    "imp = tab.sort_values(by='Importance scores', ascending=False)\n",
    "\n",
    "imp[:10].plot(kind='barh', x='Features')\n",
    "plt.title('H1N1 LR Feature Importances')\n",
    "plt.savefig('./figures/LR_H1N1_FI.pdf');"
   ]
  },
  {
   "cell_type": "markdown",
   "id": "a077b49b",
   "metadata": {},
   "source": [
    "# Gradient Boosting:"
   ]
  },
  {
   "cell_type": "markdown",
   "id": "e47e59b6",
   "metadata": {},
   "source": [
    "### GridSearchCV for Hyperparameter Tuning:"
   ]
  },
  {
   "cell_type": "code",
   "execution_count": 70,
   "id": "cbc317ca",
   "metadata": {},
   "outputs": [
    {
     "name": "stdout",
     "output_type": "stream",
     "text": [
      "GradientBoostingClassifier(learning_rate=0.15, max_features='auto',\n",
      "                           min_samples_leaf=20)\n",
      "0.8608616781405111\n"
     ]
    }
   ],
   "source": [
    "GBC = GradientBoostingClassifier()\n",
    "\n",
    "params = {\n",
    "    \n",
    "    \"learning_rate\":  [.12, 0.15, 0.16],\n",
    "    \"min_samples_leaf\": [10, 20, 30],\n",
    "    \"max_features\": ['auto', 'log2', None]\n",
    "    }\n",
    "\n",
    "GS = GridSearchCV(estimator=GBC, param_grid=params, scoring='roc_auc')\n",
    "\n",
    "GS.fit(Xs_train, ys_train)\n",
    "\n",
    "\n",
    "print(GS.best_estimator_) \n",
    "print(GS.best_score_)"
   ]
  },
  {
   "cell_type": "code",
   "execution_count": 77,
   "id": "5e01bdb7",
   "metadata": {},
   "outputs": [
    {
     "name": "stdout",
     "output_type": "stream",
     "text": [
      "GradientBoostingClassifier(learning_rate=0.15, max_features='auto',\n",
      "                           min_samples_leaf=10)\n",
      "0.8967238601500146\n"
     ]
    }
   ],
   "source": [
    "GBC =  GradientBoostingClassifier()\n",
    "\n",
    "params = {\n",
    "    \"learning_rate\":  [.14,.15, .16],\n",
    "    \"min_samples_leaf\": [9,10,11],\n",
    "    \"max_features\": ['auto', 'log2', None]\n",
    "    }\n",
    "\n",
    "GS = GridSearchCV(estimator=GBC, param_grid=params, scoring='roc_auc')\n",
    "\n",
    "GS.fit(Xh_train, yh_train)\n",
    "\n",
    "\n",
    "print(GS.best_estimator_) \n",
    "print(GS.best_score_)"
   ]
  },
  {
   "cell_type": "markdown",
   "id": "6371ad67",
   "metadata": {},
   "source": [
    "### Seasonal Gradient Boosting Model:"
   ]
  },
  {
   "cell_type": "code",
   "execution_count": null,
   "id": "ada9401a",
   "metadata": {},
   "outputs": [],
   "source": []
  },
  {
   "cell_type": "code",
   "execution_count": 72,
   "id": "6cd1a638",
   "metadata": {},
   "outputs": [
    {
     "name": "stdout",
     "output_type": "stream",
     "text": [
      "0.7928366404592537\n",
      "CPU times: user 11.2 s, sys: 131 ms, total: 11.3 s\n",
      "Wall time: 11.4 s\n"
     ]
    }
   ],
   "source": [
    "%%time\n",
    "gbc = GradientBoostingClassifier(learning_rate=0.15, max_features='auto',\n",
    "                           min_samples_leaf=20, n_estimators=10000, n_iter_no_change=10, random_state=49)\n",
    "gbc.fit(Xs_train, ys_train)\n",
    "\n",
    "\n",
    "ys_predict_gbc = gbc.predict(Xs_test)\n",
    "gbc_s_proba = gbc.predict_proba(Xs_test)\n",
    "\n",
    "print(gbc.score(Xs_test,ys_test))\n"
   ]
  },
  {
   "cell_type": "code",
   "execution_count": 78,
   "id": "0507256e",
   "metadata": {},
   "outputs": [
    {
     "name": "stderr",
     "output_type": "stream",
     "text": [
      "/opt/anaconda3/lib/python3.8/site-packages/sklearn/utils/deprecation.py:87: FutureWarning: Function plot_confusion_matrix is deprecated; Function `plot_confusion_matrix` is deprecated in 1.0 and will be removed in 1.2. Use one of the class methods: ConfusionMatrixDisplay.from_predictions or ConfusionMatrixDisplay.from_estimator.\n",
      "  warnings.warn(msg, category=FutureWarning)\n"
     ]
    },
    {
     "data": {
      "image/png": "[encoded data removed]",
      "text/plain": [
       "<Figure size 432x288 with 2 Axes>"
      ]
     },
     "metadata": {
      "needs_background": "light"
     },
     "output_type": "display_data"
    }
   ],
   "source": [
    "plot_confusion_matrix(gbc,Xs_test,ys_test);"
   ]
  },
  {
   "cell_type": "code",
   "execution_count": 79,
   "id": "ad744475",
   "metadata": {},
   "outputs": [
    {
     "name": "stdout",
     "output_type": "stream",
     "text": [
      "              precision    recall  f1-score   support\n",
      "\n",
      "           0       0.80      0.82      0.81      4342\n",
      "           1       0.78      0.76      0.77      3671\n",
      "\n",
      "    accuracy                           0.79      8013\n",
      "   macro avg       0.79      0.79      0.79      8013\n",
      "weighted avg       0.79      0.79      0.79      8013\n",
      "\n"
     ]
    }
   ],
   "source": [
    "print(classification_report(ys_test, ys_predict_gbc))"
   ]
  },
  {
   "cell_type": "code",
   "execution_count": 80,
   "id": "8ef1ad90",
   "metadata": {},
   "outputs": [
    {
     "data": {
      "text/plain": [
       "0.8648978053364595"
      ]
     },
     "execution_count": 80,
     "metadata": {},
     "output_type": "execute_result"
    }
   ],
   "source": [
    "roc_auc_score(ys_test, gbc_s_proba[:,1])"
   ]
  },
  {
   "cell_type": "markdown",
   "id": "3f96163e",
   "metadata": {},
   "source": [
    "### Seasonal Cross Validated Accuracy and ROC_AUC:"
   ]
  },
  {
   "cell_type": "code",
   "execution_count": 81,
   "id": "ce62b5af",
   "metadata": {},
   "outputs": [
    {
     "name": "stdout",
     "output_type": "stream",
     "text": [
      "[0.79475983 0.79164067 0.76606363 0.77777778 0.78963795]\n",
      "Mean cross validation test score: 0.7839759720187569\n",
      "Mean cross validation train score: 0.7843698032867161\n",
      "Standard deviation in cv scores: 0.010642995366821333\n"
     ]
    }
   ],
   "source": [
    "cv_scores_test= cross_val_score(gbc,Xs_test,ys_test,cv=5)\n",
    "cv_scores_train= cross_val_score(gbc,Xs_train,ys_train,cv=5)\n",
    "print(cv_scores_test)\n",
    "cv_scores_gbs_test= cv_scores_test.mean()\n",
    "cv_scores_gbs_train= cv_scores_train.mean()\n",
    "cv_scores_std_gbs= cv_scores_test.std()\n",
    "print ('Mean cross validation test score: ' +str(cv_scores_gbs_test))\n",
    "print ('Mean cross validation train score: ' +str(cv_scores_gbs_train))\n",
    "print ('Standard deviation in cv scores: ' +str(cv_scores_std_gbs))"
   ]
  },
  {
   "cell_type": "code",
   "execution_count": 82,
   "id": "6f68bfc1",
   "metadata": {},
   "outputs": [
    {
     "name": "stdout",
     "output_type": "stream",
     "text": [
      "[0.86644347 0.86630864 0.8489216  0.86095459 0.86109507]\n",
      "Mean cross validation test score: 0.8607446715831415\n",
      "Mean cross validation train score: 0.8600250795275768\n",
      "Standard deviation in cv scores: 0.006377867315326156\n"
     ]
    }
   ],
   "source": [
    "cv_scores_test= cross_val_score(gbc,Xs_test,ys_test,cv=5,scoring='roc_auc')\n",
    "cv_scores_train= cross_val_score(gbc,Xs_train,ys_train,cv=5,scoring='roc_auc')\n",
    "print(cv_scores_test)\n",
    "cv_rocauc_gbs_test= cv_scores_test.mean()\n",
    "cv_rocauc_gbs_train= cv_scores_train.mean()\n",
    "cv_rocauc_std_gbs= cv_scores_test.std()\n",
    "print ('Mean cross validation test score: ' +str(cv_rocauc_gbs_test))\n",
    "print ('Mean cross validation train score: ' +str(cv_rocauc_gbs_train))\n",
    "print ('Standard deviation in cv scores: ' +str(cv_rocauc_std_gbs))"
   ]
  },
  {
   "cell_type": "code",
   "execution_count": 83,
   "id": "5a680ddc",
   "metadata": {},
   "outputs": [
    {
     "data": {
      "image/png": "[encoded data removed]",
      "text/plain": [
       "<Figure size 432x288 with 1 Axes>"
      ]
     },
     "metadata": {
      "needs_background": "light"
     },
     "output_type": "display_data"
    }
   ],
   "source": [
    "importances = list(gbc.feature_importances_)\n",
    "\n",
    "tab=pd.DataFrame(list(zip(Xs,importances)),columns =['Features', 'Importance scores']) \n",
    "imp = tab.sort_values(by='Importance scores', ascending=False)\n",
    "\n",
    "imp[:10].plot(kind='barh', x='Features')\n",
    "plt.title('Seasonal GB Feature Importances')\n",
    "plt.savefig('./figures/GBC_seas_FI.pdf');"
   ]
  },
  {
   "cell_type": "markdown",
   "id": "9396eb93",
   "metadata": {},
   "source": [
    "### H1N1 Gradient Boosting Model:"
   ]
  },
  {
   "cell_type": "code",
   "execution_count": 86,
   "id": "55dcaad4",
   "metadata": {},
   "outputs": [
    {
     "name": "stdout",
     "output_type": "stream",
     "text": [
      "0.8694621240484213\n",
      "CPU times: user 6.63 s, sys: 100 ms, total: 6.73 s\n",
      "Wall time: 7.02 s\n"
     ]
    }
   ],
   "source": [
    "%%time\n",
    "gbc2 = GradientBoostingClassifier(learning_rate=0.15, max_features='auto', min_samples_leaf=10, n_estimators=10000,\n",
    "                           n_iter_no_change=20, random_state = 42)\n",
    "\n",
    "gbc2.fit(Xh_train, yh_train)\n",
    "\n",
    "\n",
    "yh_predict_gbc = gbc2.predict(Xh_test)\n",
    "\n",
    "gbc_h_proba = gbc2.predict_proba(Xh_test)\n",
    "\n",
    "\n",
    "print(gbc2.score(Xh_test,yh_test))\n"
   ]
  },
  {
   "cell_type": "code",
   "execution_count": 87,
   "id": "6f15f455",
   "metadata": {},
   "outputs": [
    {
     "name": "stderr",
     "output_type": "stream",
     "text": [
      "/opt/anaconda3/lib/python3.8/site-packages/sklearn/utils/deprecation.py:87: FutureWarning: Function plot_confusion_matrix is deprecated; Function `plot_confusion_matrix` is deprecated in 1.0 and will be removed in 1.2. Use one of the class methods: ConfusionMatrixDisplay.from_predictions or ConfusionMatrixDisplay.from_estimator.\n",
      "  warnings.warn(msg, category=FutureWarning)\n"
     ]
    },
    {
     "data": {
      "image/png": "[encoded data removed]",
      "text/plain": [
       "<Figure size 432x288 with 2 Axes>"
      ]
     },
     "metadata": {
      "needs_background": "light"
     },
     "output_type": "display_data"
    }
   ],
   "source": [
    "plot_confusion_matrix(gbc2,Xh_test,yh_test);"
   ]
  },
  {
   "cell_type": "code",
   "execution_count": 88,
   "id": "49d63a6d",
   "metadata": {},
   "outputs": [
    {
     "name": "stdout",
     "output_type": "stream",
     "text": [
      "              precision    recall  f1-score   support\n",
      "\n",
      "           0       0.89      0.95      0.92      6300\n",
      "           1       0.75      0.59      0.66      1713\n",
      "\n",
      "    accuracy                           0.87      8013\n",
      "   macro avg       0.82      0.77      0.79      8013\n",
      "weighted avg       0.86      0.87      0.86      8013\n",
      "\n"
     ]
    }
   ],
   "source": [
    "print(classification_report(yh_test, yh_predict_gbc))"
   ]
  },
  {
   "cell_type": "code",
   "execution_count": 89,
   "id": "9f3c7928",
   "metadata": {},
   "outputs": [
    {
     "data": {
      "text/plain": [
       "0.8932891335168044"
      ]
     },
     "execution_count": 89,
     "metadata": {},
     "output_type": "execute_result"
    }
   ],
   "source": [
    "roc_auc_score(yh_test, gbc_h_proba[:,1])"
   ]
  },
  {
   "cell_type": "markdown",
   "id": "3bc1dede",
   "metadata": {},
   "source": [
    "### H1N1 Cross Validated Accuracy and ROC_AUC:"
   ]
  },
  {
   "cell_type": "code",
   "execution_count": 90,
   "id": "9fdf9b24",
   "metadata": {},
   "outputs": [
    {
     "name": "stdout",
     "output_type": "stream",
     "text": [
      "[0.86400499 0.86961946 0.87024329 0.86579276 0.86454432]\n",
      "Mean cross validation test score: 0.8668409653248474\n",
      "Mean cross validation train score: 0.8675509155373687\n",
      "Standard deviation in cv scores: 0.0025966117050077514\n"
     ]
    }
   ],
   "source": [
    "cv_scores_test= cross_val_score(gbc2,Xh_test,yh_test,cv=5)\n",
    "cv_scores_train= cross_val_score(gbc2,Xh_train,yh_train,cv=5)\n",
    "print(cv_scores_test)\n",
    "cv_scores_gbh_test= cv_scores_test.mean()\n",
    "cv_scores_gbh_train= cv_scores_train.mean()\n",
    "cv_scores_std_gbh= cv_scores_test.std()\n",
    "print ('Mean cross validation test score: ' +str(cv_scores_gbh_test))\n",
    "print ('Mean cross validation train score: ' +str(cv_scores_gbh_train))\n",
    "print ('Standard deviation in cv scores: ' +str(cv_scores_std_gbh))"
   ]
  },
  {
   "cell_type": "code",
   "execution_count": 91,
   "id": "7be307fe",
   "metadata": {},
   "outputs": [
    {
     "name": "stdout",
     "output_type": "stream",
     "text": [
      "[0.89482045 0.88658429 0.89328058 0.87887543 0.89051448]\n",
      "Mean cross validation test score: 0.8888150452526954\n",
      "Mean cross validation train score: 0.895441610288454\n",
      "Standard deviation in cv scores: 0.005703790066480328\n"
     ]
    }
   ],
   "source": [
    "cv_scores_test= cross_val_score(gbc2,Xh_test,yh_test,cv=5,scoring='roc_auc')\n",
    "cv_scores_train= cross_val_score(gbc2,Xh_train,yh_train,cv=5,scoring='roc_auc')\n",
    "print(cv_scores_test)\n",
    "cv_rocauc_gbh_test= cv_scores_test.mean()\n",
    "cv_rocauc_gbh_train= cv_scores_train.mean()\n",
    "cv_rocauc_std_gbh= cv_scores_test.std()\n",
    "print ('Mean cross validation test score: ' +str(cv_rocauc_gbh_test))\n",
    "print ('Mean cross validation train score: ' +str(cv_rocauc_gbh_train))\n",
    "print ('Standard deviation in cv scores: ' +str(cv_rocauc_std_gbh))"
   ]
  },
  {
   "cell_type": "code",
   "execution_count": 92,
   "id": "0ed06d14",
   "metadata": {},
   "outputs": [
    {
     "data": {
      "image/png": "[encoded data removed]",
      "text/plain": [
       "<Figure size 432x288 with 1 Axes>"
      ]
     },
     "metadata": {
      "needs_background": "light"
     },
     "output_type": "display_data"
    }
   ],
   "source": [
    "importances = list(gbc2.feature_importances_)\n",
    "\n",
    "tab=pd.DataFrame(list(zip(Xh,importances)),columns =['Features', 'Importance scores']) \n",
    "imp = tab.sort_values(by='Importance scores', ascending=False)\n",
    "\n",
    "imp[:10].plot(kind='barh', x='Features')\n",
    "plt.title('H1N1 GB Feature Importances')\n",
    "plt.savefig('./figures/GBC_H1N1_FI.pdf');"
   ]
  },
  {
   "cell_type": "code",
   "execution_count": null,
   "id": "06d02c74",
   "metadata": {},
   "outputs": [],
   "source": []
  },
  {
   "cell_type": "code",
   "execution_count": null,
   "id": "611c483f",
   "metadata": {},
   "outputs": [],
   "source": []
  },
  {
   "cell_type": "code",
   "execution_count": null,
   "id": "1c42727d",
   "metadata": {},
   "outputs": [],
   "source": []
  },
  {
   "cell_type": "code",
   "execution_count": null,
   "id": "810f2a28",
   "metadata": {},
   "outputs": [],
   "source": []
  },
  {
   "cell_type": "code",
   "execution_count": 163,
   "id": "251815d0",
   "metadata": {},
   "outputs": [
    {
     "data": {
      "text/html": [
       "<div>\n",
       "<style scoped>\n",
       "    .dataframe tbody tr th:only-of-type {\n",
       "        vertical-align: middle;\n",
       "    }\n",
       "\n",
       "    .dataframe tbody tr th {\n",
       "        vertical-align: top;\n",
       "    }\n",
       "\n",
       "    .dataframe thead th {\n",
       "        text-align: right;\n",
       "    }\n",
       "</style>\n",
       "<table border=\"1\" class=\"dataframe\">\n",
       "  <thead>\n",
       "    <tr style=\"text-align: right;\">\n",
       "      <th></th>\n",
       "      <th>model</th>\n",
       "      <th>accuracy</th>\n",
       "      <th>ROC_AUC</th>\n",
       "      <th>time (sec)</th>\n",
       "    </tr>\n",
       "  </thead>\n",
       "  <tbody>\n",
       "    <tr>\n",
       "      <th>0</th>\n",
       "      <td>LogisticRegression</td>\n",
       "      <td>0.780979</td>\n",
       "      <td>0.855439</td>\n",
       "      <td>1</td>\n",
       "    </tr>\n",
       "    <tr>\n",
       "      <th>1</th>\n",
       "      <td>RandomForestClassifier</td>\n",
       "      <td>0.782852</td>\n",
       "      <td>0.856891</td>\n",
       "      <td>16</td>\n",
       "    </tr>\n",
       "    <tr>\n",
       "      <th>2</th>\n",
       "      <td>GradientBoostingClassifier</td>\n",
       "      <td>0.783976</td>\n",
       "      <td>0.860745</td>\n",
       "      <td>11</td>\n",
       "    </tr>\n",
       "  </tbody>\n",
       "</table>\n",
       "</div>"
      ],
      "text/plain": [
       "                        model  accuracy   ROC_AUC  time (sec)\n",
       "0          LogisticRegression  0.780979  0.855439           1\n",
       "1      RandomForestClassifier  0.782852  0.856891          16\n",
       "2  GradientBoostingClassifier  0.783976  0.860745          11"
      ]
     },
     "execution_count": 163,
     "metadata": {},
     "output_type": "execute_result"
    }
   ],
   "source": [
    "s_metric_dct = {'model': ['LogisticRegression', 'RandomForestClassifier', 'GradientBoostingClassifier'], \n",
    "                'accuracy': [cv_scores_lrs_test, cv_scores_rfs_test, cv_scores_gbs_test], \n",
    "                'ROC_AUC': [cv_rocauc_lrs_test, cv_rocauc_rfs_test, cv_rocauc_gbs_test], \n",
    "                'time (sec)': [1, 16, 11]}\n",
    "\n",
    "\n",
    "seas_metric = pd.DataFrame(s_metric_dct)\n",
    "seas_metric"
   ]
  },
  {
   "cell_type": "code",
   "execution_count": 164,
   "id": "7a72bfcb",
   "metadata": {},
   "outputs": [],
   "source": [
    "import plotly.figure_factory as ff\n",
    "\n",
    "fig = ff.create_table(seas_metric)\n",
    "fig.write_image('./figures/seas_metric.pdf')"
   ]
  },
  {
   "cell_type": "code",
   "execution_count": 165,
   "id": "aafe1768",
   "metadata": {},
   "outputs": [
    {
     "data": {
      "text/html": [
       "<div>\n",
       "<style scoped>\n",
       "    .dataframe tbody tr th:only-of-type {\n",
       "        vertical-align: middle;\n",
       "    }\n",
       "\n",
       "    .dataframe tbody tr th {\n",
       "        vertical-align: top;\n",
       "    }\n",
       "\n",
       "    .dataframe thead th {\n",
       "        text-align: right;\n",
       "    }\n",
       "</style>\n",
       "<table border=\"1\" class=\"dataframe\">\n",
       "  <thead>\n",
       "    <tr style=\"text-align: right;\">\n",
       "      <th></th>\n",
       "      <th>model</th>\n",
       "      <th>accuracy</th>\n",
       "      <th>ROC_AUC</th>\n",
       "      <th>time (sec)</th>\n",
       "    </tr>\n",
       "  </thead>\n",
       "  <tbody>\n",
       "    <tr>\n",
       "      <th>0</th>\n",
       "      <td>LogisticRegression</td>\n",
       "      <td>0.861473</td>\n",
       "      <td>0.884304</td>\n",
       "      <td>4</td>\n",
       "    </tr>\n",
       "    <tr>\n",
       "      <th>1</th>\n",
       "      <td>RandomForestClassifier</td>\n",
       "      <td>0.862223</td>\n",
       "      <td>0.884871</td>\n",
       "      <td>15</td>\n",
       "    </tr>\n",
       "    <tr>\n",
       "      <th>2</th>\n",
       "      <td>GradientBoostingClassifier</td>\n",
       "      <td>0.866841</td>\n",
       "      <td>0.888815</td>\n",
       "      <td>7</td>\n",
       "    </tr>\n",
       "  </tbody>\n",
       "</table>\n",
       "</div>"
      ],
      "text/plain": [
       "                        model  accuracy   ROC_AUC  time (sec)\n",
       "0          LogisticRegression  0.861473  0.884304           4\n",
       "1      RandomForestClassifier  0.862223  0.884871          15\n",
       "2  GradientBoostingClassifier  0.866841  0.888815           7"
      ]
     },
     "execution_count": 165,
     "metadata": {},
     "output_type": "execute_result"
    }
   ],
   "source": [
    "h_metric_dct = {'model': ['LogisticRegression', 'RandomForestClassifier', 'GradientBoostingClassifier'], \n",
    "                'accuracy': [cv_scores_lrh_test, cv_scores_rfh_test, cv_scores_gbh_test], \n",
    "                'ROC_AUC': [cv_rocauc_lrh_test, cv_rocauc_rfh_test, cv_rocauc_gbh_test], \n",
    "                'time (sec)': [4, 15, 7]}\n",
    "h1n1_metric = pd.DataFrame(h_metric_dct)\n",
    "h1n1_metric"
   ]
  },
  {
   "cell_type": "code",
   "execution_count": 166,
   "id": "19f736ae",
   "metadata": {},
   "outputs": [],
   "source": [
    "fig2 = ff.create_table(h1n1_metric)\n",
    "fig2.write_image('./figures/h1n1_metric.pdf')"
   ]
  },
  {
   "cell_type": "code",
   "execution_count": 167,
   "id": "c54dfc78",
   "metadata": {},
   "outputs": [
    {
     "data": {
      "text/html": [
       "<div>\n",
       "<style scoped>\n",
       "    .dataframe tbody tr th:only-of-type {\n",
       "        vertical-align: middle;\n",
       "    }\n",
       "\n",
       "    .dataframe tbody tr th {\n",
       "        vertical-align: top;\n",
       "    }\n",
       "\n",
       "    .dataframe thead th {\n",
       "        text-align: right;\n",
       "    }\n",
       "</style>\n",
       "<table border=\"1\" class=\"dataframe\">\n",
       "  <thead>\n",
       "    <tr style=\"text-align: right;\">\n",
       "      <th></th>\n",
       "      <th>model</th>\n",
       "      <th>accuracy</th>\n",
       "      <th>ROC_AUC</th>\n",
       "      <th>time (sec)</th>\n",
       "    </tr>\n",
       "  </thead>\n",
       "  <tbody>\n",
       "    <tr>\n",
       "      <th>0</th>\n",
       "      <td>LogisticRegression</td>\n",
       "      <td>0.821226</td>\n",
       "      <td>0.869871</td>\n",
       "      <td>2.5</td>\n",
       "    </tr>\n",
       "    <tr>\n",
       "      <th>1</th>\n",
       "      <td>RandomForestClassifier</td>\n",
       "      <td>0.822537</td>\n",
       "      <td>0.870881</td>\n",
       "      <td>15.5</td>\n",
       "    </tr>\n",
       "    <tr>\n",
       "      <th>2</th>\n",
       "      <td>GradientBoostingClassifier</td>\n",
       "      <td>0.825408</td>\n",
       "      <td>0.874780</td>\n",
       "      <td>9.0</td>\n",
       "    </tr>\n",
       "  </tbody>\n",
       "</table>\n",
       "</div>"
      ],
      "text/plain": [
       "                        model  accuracy   ROC_AUC  time (sec)\n",
       "0          LogisticRegression  0.821226  0.869871         2.5\n",
       "1      RandomForestClassifier  0.822537  0.870881        15.5\n",
       "2  GradientBoostingClassifier  0.825408  0.874780         9.0"
      ]
     },
     "execution_count": 167,
     "metadata": {},
     "output_type": "execute_result"
    }
   ],
   "source": [
    "avg_dct = h_metric_dct = {'model': ['LogisticRegression', 'RandomForestClassifier', 'GradientBoostingClassifier'], \n",
    "                'accuracy': [(cv_scores_lrh_test+cv_scores_lrs_test)/2, (cv_scores_rfh_test+cv_scores_rfs_test)/2, (cv_scores_gbh_test+cv_scores_gbs_test)/2], \n",
    "                'ROC_AUC': [(cv_rocauc_lrh_test+cv_rocauc_lrs_test)/2, (cv_rocauc_rfh_test+cv_rocauc_rfs_test)/2, (cv_rocauc_gbh_test+cv_rocauc_gbs_test)/2], \n",
    "                'time (sec)': [2.5, 15.5, 9]}\n",
    "avg_metric = pd.DataFrame(avg_dct)\n",
    "avg_metric"
   ]
  },
  {
   "cell_type": "code",
   "execution_count": 169,
   "id": "ce5a374c",
   "metadata": {},
   "outputs": [],
   "source": [
    "fig3 = ff.create_table(avg_metric)\n",
    "fig3.write_image('./figures/avg_metric.pdf')"
   ]
  },
  {
   "cell_type": "code",
   "execution_count": null,
   "id": "e61cdb57",
   "metadata": {},
   "outputs": [],
   "source": []
  },
  {
   "cell_type": "code",
   "execution_count": null,
   "id": "6a0de29b",
   "metadata": {},
   "outputs": [],
   "source": []
  },
  {
   "cell_type": "code",
   "execution_count": null,
   "id": "8a157b87",
   "metadata": {},
   "outputs": [],
   "source": []
  },
  {
   "cell_type": "code",
   "execution_count": 134,
   "id": "24a3b9d7",
   "metadata": {},
   "outputs": [
    {
     "data": {
      "text/plain": [
       "RFECV(cv=5,\n",
       "      estimator=GradientBoostingClassifier(learning_rate=0.15,\n",
       "                                           max_features='auto',\n",
       "                                           min_samples_leaf=20,\n",
       "                                           n_estimators=10000,\n",
       "                                           n_iter_no_change=10,\n",
       "                                           random_state=49))"
      ]
     },
     "execution_count": 134,
     "metadata": {},
     "output_type": "execute_result"
    }
   ],
   "source": [
    "from sklearn.feature_selection import RFECV\n",
    "from sklearn.metrics import precision_score\n",
    "\n",
    "\n",
    "estimator = GradientBoostingClassifier(learning_rate=0.15, max_features='auto',\n",
    "                           min_samples_leaf=20, n_estimators=10000, n_iter_no_change=10, random_state=49)\n",
    "\n",
    "\n",
    "selector = RFECV(estimator, step=1, cv=5)\n",
    "\n",
    "selector.fit(Xs_train, ys_train)"
   ]
  },
  {
   "cell_type": "code",
   "execution_count": 138,
   "id": "f113d564",
   "metadata": {},
   "outputs": [
    {
     "data": {
      "text/plain": [
       "38"
      ]
     },
     "execution_count": 138,
     "metadata": {},
     "output_type": "execute_result"
    }
   ],
   "source": [
    "selector.n_features_"
   ]
  },
  {
   "cell_type": "code",
   "execution_count": 139,
   "id": "f8591afd",
   "metadata": {},
   "outputs": [
    {
     "data": {
      "image/png": "[encoded data removed]",
      "text/plain": [
       "<Figure size 864x504 with 1 Axes>"
      ]
     },
     "metadata": {
      "needs_background": "light"
     },
     "output_type": "display_data"
    }
   ],
   "source": [
    "plt.figure(figsize=(12,7))\n",
    "plt.title('RFE Results for Seasonal Vaccine', fontsize=20)\n",
    "plt.xlabel('Number of features selected')\n",
    "plt.ylabel('Cross validation score')\n",
    "plt.plot(range(1, 95), selector.cv_results_['mean_test_score'])\n",
    "plt.show()  "
   ]
  },
  {
   "cell_type": "code",
   "execution_count": null,
   "id": "db07ea14",
   "metadata": {},
   "outputs": [],
   "source": []
  },
  {
   "cell_type": "code",
   "execution_count": 137,
   "id": "ca614065",
   "metadata": {},
   "outputs": [
    {
     "data": {
      "text/plain": [
       "RFECV(cv=5,\n",
       "      estimator=GradientBoostingClassifier(learning_rate=0.15,\n",
       "                                           max_features='auto',\n",
       "                                           min_samples_leaf=20,\n",
       "                                           n_estimators=10000,\n",
       "                                           n_iter_no_change=10,\n",
       "                                           random_state=49))"
      ]
     },
     "execution_count": 137,
     "metadata": {},
     "output_type": "execute_result"
    }
   ],
   "source": [
    "estimator2 = GradientBoostingClassifier(learning_rate=0.15, max_features='auto', min_samples_leaf=10, n_estimators=10000,\n",
    "                           n_iter_no_change=20, random_state = 42)\n",
    "\n",
    "\n",
    "selector2 = RFECV(estimator, step=1, cv=5)\n",
    "\n",
    "selector2.fit(Xh_train, yh_train)"
   ]
  },
  {
   "cell_type": "code",
   "execution_count": 140,
   "id": "1b0d7c68",
   "metadata": {},
   "outputs": [
    {
     "data": {
      "text/plain": [
       "40"
      ]
     },
     "execution_count": 140,
     "metadata": {},
     "output_type": "execute_result"
    }
   ],
   "source": [
    "selector2.n_features_"
   ]
  },
  {
   "cell_type": "code",
   "execution_count": 141,
   "id": "99a13c90",
   "metadata": {},
   "outputs": [
    {
     "data": {
      "image/png": "[encoded data removed]",
      "text/plain": [
       "<Figure size 864x504 with 1 Axes>"
      ]
     },
     "metadata": {
      "needs_background": "light"
     },
     "output_type": "display_data"
    }
   ],
   "source": [
    "plt.figure(figsize=(12,7))\n",
    "plt.title('RFE Results for H1N1 Vaccine', fontsize=20)\n",
    "plt.xlabel('Number of features selected')\n",
    "plt.ylabel('Cross validation score')\n",
    "plt.plot(range(1, 96), selector2.cv_results_['mean_test_score'])\n",
    "plt.show()"
   ]
  },
  {
   "cell_type": "code",
   "execution_count": 142,
   "id": "60b4db12",
   "metadata": {},
   "outputs": [
    {
     "data": {
      "text/plain": [
       "40"
      ]
     },
     "execution_count": 142,
     "metadata": {},
     "output_type": "execute_result"
    }
   ],
   "source": [
    "selector2.n_features_"
   ]
  },
  {
   "cell_type": "code",
   "execution_count": 143,
   "id": "5ccc3800",
   "metadata": {},
   "outputs": [],
   "source": [
    "seas_RFE = Xs.iloc[:,selector.support_]"
   ]
  },
  {
   "cell_type": "code",
   "execution_count": 144,
   "id": "18a07135",
   "metadata": {},
   "outputs": [],
   "source": [
    "h1n1_RFE = Xh.iloc[:,selector2.support_]"
   ]
  },
  {
   "cell_type": "code",
   "execution_count": 145,
   "id": "c372b8e4",
   "metadata": {},
   "outputs": [
    {
     "name": "stdout",
     "output_type": "stream",
     "text": [
      "<class 'pandas.core.frame.DataFrame'>\n",
      "RangeIndex: 26707 entries, 0 to 26706\n",
      "Data columns (total 40 columns):\n",
      " #   Column                          Non-Null Count  Dtype  \n",
      "---  ------                          --------------  -----  \n",
      " 0   h1n1_concern                    26707 non-null  float64\n",
      " 1   h1n1_knowledge                  26707 non-null  float64\n",
      " 2   behavioral_antiviral_meds       26707 non-null  float64\n",
      " 3   behavioral_face_mask            26707 non-null  float64\n",
      " 4   doctor_recc_h1n1                26707 non-null  float64\n",
      " 5   doctor_recc_seasonal            26707 non-null  float64\n",
      " 6   child_under_6_months            26707 non-null  float64\n",
      " 7   health_worker                   26707 non-null  float64\n",
      " 8   opinion_h1n1_vacc_effective     26707 non-null  float64\n",
      " 9   opinion_h1n1_risk               26707 non-null  float64\n",
      " 10  opinion_h1n1_sick_from_vacc     26707 non-null  float64\n",
      " 11  opinion_seas_vacc_effective     26707 non-null  float64\n",
      " 12  opinion_seas_risk               26707 non-null  float64\n",
      " 13  opinion_seas_sick_from_vacc     26707 non-null  float64\n",
      " 14  age_group                       26707 non-null  int64  \n",
      " 15  education                       26707 non-null  float64\n",
      " 16  sex                             26707 non-null  int64  \n",
      " 17  income_poverty                  26707 non-null  float64\n",
      " 18  marital_status                  26707 non-null  float64\n",
      " 19  rent_or_own                     26707 non-null  float64\n",
      " 20  employment_status               26707 non-null  float64\n",
      " 21  census_msa                      26707 non-null  int64  \n",
      " 22  household_adults                26707 non-null  float64\n",
      " 23  household_children              26707 non-null  float64\n",
      " 24  seasonal_vaccine                26707 non-null  int64  \n",
      " 25  health_insurance_1.0            26707 non-null  int64  \n",
      " 26  health_insurance_unknown        26707 non-null  int64  \n",
      " 27  race_Black                      26707 non-null  int64  \n",
      " 28  race_Hispanic                   26707 non-null  int64  \n",
      " 29  hhs_geo_region_mlyzmhmf         26707 non-null  int64  \n",
      " 30  employment_industry_arjwrbjb    26707 non-null  int64  \n",
      " 31  employment_industry_fcxhlnwr    26707 non-null  int64  \n",
      " 32  employment_industry_haxffmxo    26707 non-null  int64  \n",
      " 33  employment_industry_pxcmvdjn    26707 non-null  int64  \n",
      " 34  employment_industry_unknown     26707 non-null  int64  \n",
      " 35  employment_occupation_cmhcxjea  26707 non-null  int64  \n",
      " 36  employment_occupation_dcjcmpih  26707 non-null  int64  \n",
      " 37  employment_occupation_dlvbwzss  26707 non-null  int64  \n",
      " 38  employment_occupation_unknown   26707 non-null  int64  \n",
      " 39  household_total                 26707 non-null  float64\n",
      "dtypes: float64(22), int64(18)\n",
      "memory usage: 8.2 MB\n"
     ]
    }
   ],
   "source": [
    "h1n1_RFE.info()"
   ]
  },
  {
   "cell_type": "code",
   "execution_count": 146,
   "id": "e6dec057",
   "metadata": {},
   "outputs": [
    {
     "name": "stdout",
     "output_type": "stream",
     "text": [
      "<class 'pandas.core.frame.DataFrame'>\n",
      "RangeIndex: 26707 entries, 0 to 26706\n",
      "Data columns (total 38 columns):\n",
      " #   Column                          Non-Null Count  Dtype  \n",
      "---  ------                          --------------  -----  \n",
      " 0   h1n1_concern                    26707 non-null  float64\n",
      " 1   h1n1_knowledge                  26707 non-null  float64\n",
      " 2   behavioral_touch_face           26707 non-null  float64\n",
      " 3   doctor_recc_h1n1                26707 non-null  float64\n",
      " 4   doctor_recc_seasonal            26707 non-null  float64\n",
      " 5   chronic_med_condition           26707 non-null  float64\n",
      " 6   health_worker                   26707 non-null  float64\n",
      " 7   opinion_h1n1_vacc_effective     26707 non-null  float64\n",
      " 8   opinion_h1n1_risk               26707 non-null  float64\n",
      " 9   opinion_h1n1_sick_from_vacc     26707 non-null  float64\n",
      " 10  opinion_seas_vacc_effective     26707 non-null  float64\n",
      " 11  opinion_seas_risk               26707 non-null  float64\n",
      " 12  opinion_seas_sick_from_vacc     26707 non-null  float64\n",
      " 13  age_group                       26707 non-null  int64  \n",
      " 14  education                       26707 non-null  float64\n",
      " 15  sex                             26707 non-null  int64  \n",
      " 16  income_poverty                  26707 non-null  float64\n",
      " 17  rent_or_own                     26707 non-null  float64\n",
      " 18  employment_status               26707 non-null  float64\n",
      " 19  census_msa                      26707 non-null  int64  \n",
      " 20  household_children              26707 non-null  float64\n",
      " 21  health_insurance_0.0            26707 non-null  int64  \n",
      " 22  health_insurance_1.0            26707 non-null  int64  \n",
      " 23  race_Black                      26707 non-null  int64  \n",
      " 24  race_Hispanic                   26707 non-null  int64  \n",
      " 25  race_White                      26707 non-null  int64  \n",
      " 26  hhs_geo_region_atmpeygn         26707 non-null  int64  \n",
      " 27  hhs_geo_region_kbazzjca         26707 non-null  int64  \n",
      " 28  employment_industry_fcxhlnwr    26707 non-null  int64  \n",
      " 29  employment_industry_haxffmxo    26707 non-null  int64  \n",
      " 30  employment_industry_rucpziij    26707 non-null  int64  \n",
      " 31  employment_industry_saaquncn    26707 non-null  int64  \n",
      " 32  employment_industry_vjjrobsf    26707 non-null  int64  \n",
      " 33  employment_occupation_cmhcxjea  26707 non-null  int64  \n",
      " 34  employment_occupation_dcjcmpih  26707 non-null  int64  \n",
      " 35  employment_occupation_qxajmpny  26707 non-null  int64  \n",
      " 36  employment_occupation_unknown   26707 non-null  int64  \n",
      " 37  household_total                 26707 non-null  float64\n",
      "dtypes: float64(19), int64(19)\n",
      "memory usage: 7.7 MB\n"
     ]
    }
   ],
   "source": [
    "seas_RFE.info()"
   ]
  },
  {
   "cell_type": "code",
   "execution_count": 205,
   "id": "85dd3586",
   "metadata": {},
   "outputs": [],
   "source": [
    "X2h_train, X2h_test, y2h_train, y2h_test = train_test_split(h1n1_RFE, yh, test_size=0.3, random_state=69)"
   ]
  },
  {
   "cell_type": "code",
   "execution_count": 206,
   "id": "745effdb",
   "metadata": {},
   "outputs": [
    {
     "name": "stdout",
     "output_type": "stream",
     "text": [
      "[[5975  322]\n",
      " [ 717  999]]\n",
      "0.8703357044802197\n",
      "CPU times: user 4.07 s, sys: 49.6 ms, total: 4.12 s\n",
      "Wall time: 4.16 s\n"
     ]
    }
   ],
   "source": [
    "%%time\n",
    "gbc2h = GradientBoostingClassifier(learning_rate=0.075, loss='exponential', max_depth=6, random_state=49)\n",
    "gbc2h.fit(X2h_train, y2h_train)\n",
    "\n",
    "\n",
    "y2h_predict_gbc = gbc2h.predict(X2h_test)\n",
    "\n",
    "gbc2_h_proba = gbc2h.predict_proba(X2h_test)\n",
    "\n",
    "print(confusion_matrix(y2h_test, y2h_predict_gbc))\n",
    "\n",
    "print(gbc2h.score(X2h_test,y2h_test))"
   ]
  },
  {
   "cell_type": "code",
   "execution_count": 211,
   "id": "a7605a7e",
   "metadata": {},
   "outputs": [
    {
     "name": "stdout",
     "output_type": "stream",
     "text": [
      "[0.88333102 0.87738442 0.88814258 0.88756406 0.89190134]\n",
      "Mean cross validation test score: 0.8856646850971763\n",
      "Mean cross validation train score: 0.8917897495212171\n",
      "Standard deviation in cv scores: 0.004952821829007178\n"
     ]
    }
   ],
   "source": [
    "cv_scores_test= cross_val_score(gbc2h,X2h_test,y2h_test,cv=5,scoring='roc_auc')\n",
    "cv_scores_train= cross_val_score(gbc2h,X2h_train,y2h_train,cv=5,scoring='roc_auc')\n",
    "print(cv_scores_test)\n",
    "cv2_rocauc_gbh_test= cv_scores_test.mean()\n",
    "cv2_rocauc_gbh_train= cv_scores_train.mean()\n",
    "cv2_rocauc_std_gbh= cv_scores_test.std()\n",
    "print ('Mean cross validation test score: ' +str(cv2_rocauc_gbh_test))\n",
    "print ('Mean cross validation train score: ' +str(cv2_rocauc_gbh_train))\n",
    "print ('Standard deviation in cv scores: ' +str(cv2_rocauc_std_gbh))"
   ]
  },
  {
   "cell_type": "code",
   "execution_count": 208,
   "id": "d7bafd7e",
   "metadata": {},
   "outputs": [
    {
     "data": {
      "text/plain": [
       "0.8966169741538964"
      ]
     },
     "execution_count": 208,
     "metadata": {},
     "output_type": "execute_result"
    }
   ],
   "source": [
    "roc_auc_score(y2h_test, gbc2_h_proba[:,1])"
   ]
  },
  {
   "cell_type": "code",
   "execution_count": 209,
   "id": "f4ae6d90",
   "metadata": {},
   "outputs": [],
   "source": [
    "X2s_train, X2s_test, y2s_train, y2s_test = train_test_split(seas_RFE, ys, test_size=0.3, random_state=69)"
   ]
  },
  {
   "cell_type": "code",
   "execution_count": 210,
   "id": "2dc7e1cd",
   "metadata": {},
   "outputs": [
    {
     "name": "stdout",
     "output_type": "stream",
     "text": [
      "[[3451  818]\n",
      " [ 897 2847]]\n",
      "0.7859727942094097\n",
      "CPU times: user 2.51 s, sys: 58.8 ms, total: 2.57 s\n",
      "Wall time: 2.61 s\n"
     ]
    }
   ],
   "source": [
    "%%time\n",
    "gbc2s = GradientBoostingClassifier(learning_rate=0.2, random_state=49)\n",
    "gbc2s.fit(X2s_train, y2s_train)\n",
    "\n",
    "\n",
    "y2s_predict_gbc = gbc2s.predict(X2s_test)\n",
    "gbc2_s_proba = gbc2s.predict_proba(X2s_test)\n",
    "\n",
    "print(confusion_matrix(y2s_test, y2s_predict_gbc))\n",
    "\n",
    "print(gbc2s.score(X2s_test,y2s_test))"
   ]
  },
  {
   "cell_type": "code",
   "execution_count": 85,
   "id": "64e68211",
   "metadata": {},
   "outputs": [
    {
     "data": {
      "text/plain": [
       "0.8638078597341599"
      ]
     },
     "execution_count": 85,
     "metadata": {},
     "output_type": "execute_result"
    }
   ],
   "source": [
    "roc_auc_score(y2s_test, gbc2_s_proba[:,1])"
   ]
  },
  {
   "cell_type": "code",
   "execution_count": 212,
   "id": "54a81d1d",
   "metadata": {},
   "outputs": [
    {
     "name": "stdout",
     "output_type": "stream",
     "text": [
      "[0.84908371 0.86049158 0.85605632 0.85068642 0.86481202]\n",
      "Mean cross validation test score: 0.856226010509517\n",
      "Mean cross validation train score: 0.8620345053092354\n",
      "Standard deviation in cv scores: 0.00589309764652499\n"
     ]
    }
   ],
   "source": [
    "cv_scores_test= cross_val_score(gbc2s,X2s_test,y2s_test,cv=5,scoring='roc_auc')\n",
    "cv_scores_train= cross_val_score(gbc2s,X2s_train,y2s_train,cv=5,scoring='roc_auc')\n",
    "print(cv_scores_test)\n",
    "cv2_rocauc_gbs_test= cv_scores_test.mean()\n",
    "cv2_rocauc_gbs_train= cv_scores_train.mean()\n",
    "cv2_rocauc_std_gbs= cv_scores_test.std()\n",
    "print ('Mean cross validation test score: ' +str(cv2_rocauc_gbs_test))\n",
    "print ('Mean cross validation train score: ' +str(cv2_rocauc_gbs_train))\n",
    "print ('Standard deviation in cv scores: ' +str(cv2_rocauc_std_gbs))"
   ]
  },
  {
   "cell_type": "code",
   "execution_count": null,
   "id": "4748c022",
   "metadata": {},
   "outputs": [],
   "source": []
  },
  {
   "cell_type": "code",
   "execution_count": null,
   "id": "c1fd3afe",
   "metadata": {},
   "outputs": [],
   "source": []
  },
  {
   "cell_type": "code",
   "execution_count": 161,
   "id": "89d564a5",
   "metadata": {},
   "outputs": [
    {
     "data": {
      "image/png": "[encoded data removed]",
      "text/plain": [
       "<Figure size 1440x1440 with 1 Axes>"
      ]
     },
     "metadata": {
      "needs_background": "light"
     },
     "output_type": "display_data"
    }
   ],
   "source": [
    "fpr_logreg, tpr_logreg, thresholds_logreg = roc_curve(y2s_test, lr_s_proba[:, 1])\n",
    "fpr_rfc, tpr_rfc, thresholds_rfc = roc_curve(ys_test, rfc_s_proba[:, 1])\n",
    "fpr_gbc, tpr_gbc, thresholds_gbc = roc_curve(ys_test, gbc_s_proba[:, 1])\n",
    "\n",
    "plt.plot(fpr_logreg, tpr_logreg, label=\"logreg\")\n",
    "plt.plot(fpr_rfc, tpr_rfc, label=\"rfc\")\n",
    "plt.plot(fpr_gbc, tpr_gbc, label=\"gbc\")\n",
    "plt.xlim([0.0, 1.0])\n",
    "plt.ylim([0.0, 1.0])\n",
    "plt.rcParams['font.size'] = 12\n",
    "plt.rcParams['figure.figsize'] = 20, 20\n",
    "plt.title('Seasonal ROC curve', fontsize=20)\n",
    "plt.xlabel('False Positive Rate (1 - Specificity)')\n",
    "plt.ylabel('True Positive Rate (Sensitivity)')\n",
    "plt.legend(loc=\"lower right\", fontsize=10)\n",
    "plt.grid(True)\n",
    "plt.savefig('./figures/Seas_ROC_AUC.pdf')"
   ]
  },
  {
   "cell_type": "code",
   "execution_count": 162,
   "id": "5dd894f5",
   "metadata": {},
   "outputs": [
    {
     "data": {
      "image/png": "[encoded data removed]",
      "text/plain": [
       "<Figure size 1440x1440 with 1 Axes>"
      ]
     },
     "metadata": {
      "needs_background": "light"
     },
     "output_type": "display_data"
    }
   ],
   "source": [
    "fpr_logreg, tpr_logreg, thresholds_logreg = roc_curve(y2h_test, lr_h_proba[:, 1])\n",
    "fpr_rfc, tpr_rfc, thresholds_rfc = roc_curve(yh_test, rfc_h_proba[:, 1])\n",
    "fpr_gbc, tpr_gbc, thresholds_gbc = roc_curve(yh_test, gbc_h_proba[:, 1])\n",
    "\n",
    "plt.plot(fpr_logreg, tpr_logreg, label=\"logreg\")\n",
    "plt.plot(fpr_rfc, tpr_rfc, label=\"rfc\")\n",
    "plt.plot(fpr_gbc, tpr_gbc, label=\"gbc\")\n",
    "plt.xlim([0.0, 1.0])\n",
    "plt.ylim([0.0, 1.0])\n",
    "plt.rcParams['font.size'] = 12\n",
    "plt.rcParams['figure.figsize'] = 20, 20\n",
    "plt.title('H1N1 ROC curve', fontsize=20)\n",
    "plt.xlabel('False Positive Rate (1 - Specificity)')\n",
    "plt.ylabel('True Positive Rate (Sensitivity)')\n",
    "plt.legend(loc=\"lower right\", fontsize=10)\n",
    "plt.grid(True)\n",
    "plt.savefig('./figures/H1N1_ROC_AUC.pdf')"
   ]
  },
  {
   "cell_type": "code",
   "execution_count": null,
   "id": "d76320e2",
   "metadata": {},
   "outputs": [],
   "source": []
  },
  {
   "cell_type": "code",
   "execution_count": null,
   "id": "3135d319",
   "metadata": {},
   "outputs": [],
   "source": []
  },
  {
   "cell_type": "code",
   "execution_count": null,
   "id": "81fff71e",
   "metadata": {},
   "outputs": [],
   "source": []
  },
  {
   "cell_type": "markdown",
   "id": "ccf1b923",
   "metadata": {},
   "source": [
    "# Final Predictions:"
   ]
  },
  {
   "cell_type": "code",
   "execution_count": 175,
   "id": "8523ac96",
   "metadata": {},
   "outputs": [],
   "source": [
    "test_features = pd.read_csv('Data/ML_ready_test')"
   ]
  },
  {
   "cell_type": "code",
   "execution_count": 179,
   "id": "50649800",
   "metadata": {},
   "outputs": [],
   "source": [
    "test = test_features.drop(columns=['respondent_id'])"
   ]
  },
  {
   "cell_type": "markdown",
   "id": "8e27759d",
   "metadata": {},
   "source": [
    "## Seasonal Predictions:"
   ]
  },
  {
   "cell_type": "code",
   "execution_count": 180,
   "id": "f27b6265",
   "metadata": {},
   "outputs": [],
   "source": [
    "# using entire train set for training we can make predictions for contest test set\n",
    "gbc_final = GradientBoostingClassifier(learning_rate=0.15, max_features='auto',\n",
    "                           min_samples_leaf=20, n_estimators=10000, n_iter_no_change=10)\n",
    "\n",
    "gbc_final.fit(Xs, ys)\n",
    "\n",
    "final_pred = gbc_final.predict(test)\n",
    "final_proba = gbc_final.predict_proba(test)"
   ]
  },
  {
   "cell_type": "code",
   "execution_count": 209,
   "id": "82b9c938",
   "metadata": {},
   "outputs": [],
   "source": [
    "final_df = test_features[['respondent_id']]"
   ]
  },
  {
   "cell_type": "code",
   "execution_count": 185,
   "id": "da6fa445",
   "metadata": {},
   "outputs": [],
   "source": [
    "X_plus_seas = test\n",
    "X_plus_seas['seasonal_vaccine'] = final_pred"
   ]
  },
  {
   "cell_type": "code",
   "execution_count": 192,
   "id": "6fc32686",
   "metadata": {},
   "outputs": [
    {
     "name": "stdout",
     "output_type": "stream",
     "text": [
      "<class 'pandas.core.frame.DataFrame'>\n",
      "RangeIndex: 26708 entries, 0 to 26707\n",
      "Data columns (total 95 columns):\n",
      " #   Column                          Non-Null Count  Dtype  \n",
      "---  ------                          --------------  -----  \n",
      " 0   h1n1_concern                    26708 non-null  float64\n",
      " 1   h1n1_knowledge                  26708 non-null  float64\n",
      " 2   behavioral_antiviral_meds       26708 non-null  float64\n",
      " 3   behavioral_avoidance            26708 non-null  float64\n",
      " 4   behavioral_face_mask            26708 non-null  float64\n",
      " 5   behavioral_wash_hands           26708 non-null  float64\n",
      " 6   behavioral_large_gatherings     26708 non-null  float64\n",
      " 7   behavioral_outside_home         26708 non-null  float64\n",
      " 8   behavioral_touch_face           26708 non-null  float64\n",
      " 9   doctor_recc_h1n1                26708 non-null  float64\n",
      " 10  doctor_recc_seasonal            26708 non-null  float64\n",
      " 11  chronic_med_condition           26708 non-null  float64\n",
      " 12  child_under_6_months            26708 non-null  float64\n",
      " 13  health_worker                   26708 non-null  float64\n",
      " 14  opinion_h1n1_vacc_effective     26708 non-null  float64\n",
      " 15  opinion_h1n1_risk               26708 non-null  float64\n",
      " 16  opinion_h1n1_sick_from_vacc     26708 non-null  float64\n",
      " 17  opinion_seas_vacc_effective     26708 non-null  float64\n",
      " 18  opinion_seas_risk               26708 non-null  float64\n",
      " 19  opinion_seas_sick_from_vacc     26708 non-null  float64\n",
      " 20  age_group                       26708 non-null  int64  \n",
      " 21  education                       26708 non-null  float64\n",
      " 22  sex                             26708 non-null  int64  \n",
      " 23  income_poverty                  26708 non-null  float64\n",
      " 24  marital_status                  26708 non-null  float64\n",
      " 25  rent_or_own                     26708 non-null  float64\n",
      " 26  employment_status               26708 non-null  float64\n",
      " 27  census_msa                      26708 non-null  int64  \n",
      " 28  household_adults                26708 non-null  float64\n",
      " 29  household_children              26708 non-null  float64\n",
      " 30  health_insurance_0.0            26708 non-null  int64  \n",
      " 31  health_insurance_1.0            26708 non-null  int64  \n",
      " 32  health_insurance_unknown        26708 non-null  int64  \n",
      " 33  race_Black                      26708 non-null  int64  \n",
      " 34  race_Hispanic                   26708 non-null  int64  \n",
      " 35  race_Other or Multiple          26708 non-null  int64  \n",
      " 36  race_White                      26708 non-null  int64  \n",
      " 37  hhs_geo_region_atmpeygn         26708 non-null  int64  \n",
      " 38  hhs_geo_region_bhuqouqj         26708 non-null  int64  \n",
      " 39  hhs_geo_region_dqpwygqj         26708 non-null  int64  \n",
      " 40  hhs_geo_region_fpwskwrf         26708 non-null  int64  \n",
      " 41  hhs_geo_region_kbazzjca         26708 non-null  int64  \n",
      " 42  hhs_geo_region_lrircsnp         26708 non-null  int64  \n",
      " 43  hhs_geo_region_lzgpxyit         26708 non-null  int64  \n",
      " 44  hhs_geo_region_mlyzmhmf         26708 non-null  int64  \n",
      " 45  hhs_geo_region_oxchjgsf         26708 non-null  int64  \n",
      " 46  hhs_geo_region_qufhixun         26708 non-null  int64  \n",
      " 47  employment_industry_arjwrbjb    26708 non-null  int64  \n",
      " 48  employment_industry_atmlpfrs    26708 non-null  int64  \n",
      " 49  employment_industry_cfqqtusy    26708 non-null  int64  \n",
      " 50  employment_industry_dotnnunm    26708 non-null  int64  \n",
      " 51  employment_industry_fcxhlnwr    26708 non-null  int64  \n",
      " 52  employment_industry_haxffmxo    26708 non-null  int64  \n",
      " 53  employment_industry_ldnlellj    26708 non-null  int64  \n",
      " 54  employment_industry_mcubkhph    26708 non-null  int64  \n",
      " 55  employment_industry_mfikgejo    26708 non-null  int64  \n",
      " 56  employment_industry_msuufmds    26708 non-null  int64  \n",
      " 57  employment_industry_nduyfdeo    26708 non-null  int64  \n",
      " 58  employment_industry_phxvnwax    26708 non-null  int64  \n",
      " 59  employment_industry_pxcmvdjn    26708 non-null  int64  \n",
      " 60  employment_industry_qnlwzans    26708 non-null  int64  \n",
      " 61  employment_industry_rucpziij    26708 non-null  int64  \n",
      " 62  employment_industry_saaquncn    26708 non-null  int64  \n",
      " 63  employment_industry_unknown     26708 non-null  int64  \n",
      " 64  employment_industry_vjjrobsf    26708 non-null  int64  \n",
      " 65  employment_industry_wlfvacwt    26708 non-null  int64  \n",
      " 66  employment_industry_wxleyezf    26708 non-null  int64  \n",
      " 67  employment_industry_xicduogh    26708 non-null  int64  \n",
      " 68  employment_industry_xqicxuve    26708 non-null  int64  \n",
      " 69  employment_occupation_bxpfxfdn  26708 non-null  int64  \n",
      " 70  employment_occupation_ccgxvspp  26708 non-null  int64  \n",
      " 71  employment_occupation_cmhcxjea  26708 non-null  int64  \n",
      " 72  employment_occupation_dcjcmpih  26708 non-null  int64  \n",
      " 73  employment_occupation_dlvbwzss  26708 non-null  int64  \n",
      " 74  employment_occupation_emcorrxb  26708 non-null  int64  \n",
      " 75  employment_occupation_haliazsg  26708 non-null  int64  \n",
      " 76  employment_occupation_hfxkjkmi  26708 non-null  int64  \n",
      " 77  employment_occupation_hodpvpew  26708 non-null  int64  \n",
      " 78  employment_occupation_kldqjyjy  26708 non-null  int64  \n",
      " 79  employment_occupation_mxkfnird  26708 non-null  int64  \n",
      " 80  employment_occupation_oijqvulv  26708 non-null  int64  \n",
      " 81  employment_occupation_pvmttkik  26708 non-null  int64  \n",
      " 82  employment_occupation_qxajmpny  26708 non-null  int64  \n",
      " 83  employment_occupation_rcertsgn  26708 non-null  int64  \n",
      " 84  employment_occupation_tfqavkke  26708 non-null  int64  \n",
      " 85  employment_occupation_ukymxvdu  26708 non-null  int64  \n",
      " 86  employment_occupation_unknown   26708 non-null  int64  \n",
      " 87  employment_occupation_uqqtjvyb  26708 non-null  int64  \n",
      " 88  employment_occupation_vlluhbov  26708 non-null  int64  \n",
      " 89  employment_occupation_xgwztkwe  26708 non-null  int64  \n",
      " 90  employment_occupation_xqwwgdyp  26708 non-null  int64  \n",
      " 91  employment_occupation_xtkaffoo  26708 non-null  int64  \n",
      " 92  employment_occupation_xzmlyyjv  26708 non-null  int64  \n",
      " 93  household_total                 26708 non-null  float64\n",
      " 94  seasonal_vaccine                26708 non-null  int64  \n",
      "dtypes: float64(28), int64(67)\n",
      "memory usage: 19.4 MB\n"
     ]
    }
   ],
   "source": [
    "X_plus_seas.info()"
   ]
  },
  {
   "cell_type": "code",
   "execution_count": 191,
   "id": "79ce42cc",
   "metadata": {},
   "outputs": [
    {
     "name": "stdout",
     "output_type": "stream",
     "text": [
      "<class 'pandas.core.frame.DataFrame'>\n",
      "RangeIndex: 26707 entries, 0 to 26706\n",
      "Data columns (total 95 columns):\n",
      " #   Column                          Non-Null Count  Dtype  \n",
      "---  ------                          --------------  -----  \n",
      " 0   h1n1_concern                    26707 non-null  float64\n",
      " 1   h1n1_knowledge                  26707 non-null  float64\n",
      " 2   behavioral_antiviral_meds       26707 non-null  float64\n",
      " 3   behavioral_avoidance            26707 non-null  float64\n",
      " 4   behavioral_face_mask            26707 non-null  float64\n",
      " 5   behavioral_wash_hands           26707 non-null  float64\n",
      " 6   behavioral_large_gatherings     26707 non-null  float64\n",
      " 7   behavioral_outside_home         26707 non-null  float64\n",
      " 8   behavioral_touch_face           26707 non-null  float64\n",
      " 9   doctor_recc_h1n1                26707 non-null  float64\n",
      " 10  doctor_recc_seasonal            26707 non-null  float64\n",
      " 11  chronic_med_condition           26707 non-null  float64\n",
      " 12  child_under_6_months            26707 non-null  float64\n",
      " 13  health_worker                   26707 non-null  float64\n",
      " 14  opinion_h1n1_vacc_effective     26707 non-null  float64\n",
      " 15  opinion_h1n1_risk               26707 non-null  float64\n",
      " 16  opinion_h1n1_sick_from_vacc     26707 non-null  float64\n",
      " 17  opinion_seas_vacc_effective     26707 non-null  float64\n",
      " 18  opinion_seas_risk               26707 non-null  float64\n",
      " 19  opinion_seas_sick_from_vacc     26707 non-null  float64\n",
      " 20  age_group                       26707 non-null  int64  \n",
      " 21  education                       26707 non-null  float64\n",
      " 22  sex                             26707 non-null  int64  \n",
      " 23  income_poverty                  26707 non-null  float64\n",
      " 24  marital_status                  26707 non-null  float64\n",
      " 25  rent_or_own                     26707 non-null  float64\n",
      " 26  employment_status               26707 non-null  float64\n",
      " 27  census_msa                      26707 non-null  int64  \n",
      " 28  household_adults                26707 non-null  float64\n",
      " 29  household_children              26707 non-null  float64\n",
      " 30  seasonal_vaccine                26707 non-null  int64  \n",
      " 31  health_insurance_0.0            26707 non-null  int64  \n",
      " 32  health_insurance_1.0            26707 non-null  int64  \n",
      " 33  health_insurance_unknown        26707 non-null  int64  \n",
      " 34  race_Black                      26707 non-null  int64  \n",
      " 35  race_Hispanic                   26707 non-null  int64  \n",
      " 36  race_Other or Multiple          26707 non-null  int64  \n",
      " 37  race_White                      26707 non-null  int64  \n",
      " 38  hhs_geo_region_atmpeygn         26707 non-null  int64  \n",
      " 39  hhs_geo_region_bhuqouqj         26707 non-null  int64  \n",
      " 40  hhs_geo_region_dqpwygqj         26707 non-null  int64  \n",
      " 41  hhs_geo_region_fpwskwrf         26707 non-null  int64  \n",
      " 42  hhs_geo_region_kbazzjca         26707 non-null  int64  \n",
      " 43  hhs_geo_region_lrircsnp         26707 non-null  int64  \n",
      " 44  hhs_geo_region_lzgpxyit         26707 non-null  int64  \n",
      " 45  hhs_geo_region_mlyzmhmf         26707 non-null  int64  \n",
      " 46  hhs_geo_region_oxchjgsf         26707 non-null  int64  \n",
      " 47  hhs_geo_region_qufhixun         26707 non-null  int64  \n",
      " 48  employment_industry_arjwrbjb    26707 non-null  int64  \n",
      " 49  employment_industry_atmlpfrs    26707 non-null  int64  \n",
      " 50  employment_industry_cfqqtusy    26707 non-null  int64  \n",
      " 51  employment_industry_dotnnunm    26707 non-null  int64  \n",
      " 52  employment_industry_fcxhlnwr    26707 non-null  int64  \n",
      " 53  employment_industry_haxffmxo    26707 non-null  int64  \n",
      " 54  employment_industry_ldnlellj    26707 non-null  int64  \n",
      " 55  employment_industry_mcubkhph    26707 non-null  int64  \n",
      " 56  employment_industry_mfikgejo    26707 non-null  int64  \n",
      " 57  employment_industry_msuufmds    26707 non-null  int64  \n",
      " 58  employment_industry_nduyfdeo    26707 non-null  int64  \n",
      " 59  employment_industry_phxvnwax    26707 non-null  int64  \n",
      " 60  employment_industry_pxcmvdjn    26707 non-null  int64  \n",
      " 61  employment_industry_qnlwzans    26707 non-null  int64  \n",
      " 62  employment_industry_rucpziij    26707 non-null  int64  \n",
      " 63  employment_industry_saaquncn    26707 non-null  int64  \n",
      " 64  employment_industry_unknown     26707 non-null  int64  \n",
      " 65  employment_industry_vjjrobsf    26707 non-null  int64  \n",
      " 66  employment_industry_wlfvacwt    26707 non-null  int64  \n",
      " 67  employment_industry_wxleyezf    26707 non-null  int64  \n",
      " 68  employment_industry_xicduogh    26707 non-null  int64  \n",
      " 69  employment_industry_xqicxuve    26707 non-null  int64  \n",
      " 70  employment_occupation_bxpfxfdn  26707 non-null  int64  \n",
      " 71  employment_occupation_ccgxvspp  26707 non-null  int64  \n",
      " 72  employment_occupation_cmhcxjea  26707 non-null  int64  \n",
      " 73  employment_occupation_dcjcmpih  26707 non-null  int64  \n",
      " 74  employment_occupation_dlvbwzss  26707 non-null  int64  \n",
      " 75  employment_occupation_emcorrxb  26707 non-null  int64  \n",
      " 76  employment_occupation_haliazsg  26707 non-null  int64  \n",
      " 77  employment_occupation_hfxkjkmi  26707 non-null  int64  \n",
      " 78  employment_occupation_hodpvpew  26707 non-null  int64  \n",
      " 79  employment_occupation_kldqjyjy  26707 non-null  int64  \n",
      " 80  employment_occupation_mxkfnird  26707 non-null  int64  \n",
      " 81  employment_occupation_oijqvulv  26707 non-null  int64  \n",
      " 82  employment_occupation_pvmttkik  26707 non-null  int64  \n",
      " 83  employment_occupation_qxajmpny  26707 non-null  int64  \n",
      " 84  employment_occupation_rcertsgn  26707 non-null  int64  \n",
      " 85  employment_occupation_tfqavkke  26707 non-null  int64  \n",
      " 86  employment_occupation_ukymxvdu  26707 non-null  int64  \n",
      " 87  employment_occupation_unknown   26707 non-null  int64  \n",
      " 88  employment_occupation_uqqtjvyb  26707 non-null  int64  \n",
      " 89  employment_occupation_vlluhbov  26707 non-null  int64  \n",
      " 90  employment_occupation_xgwztkwe  26707 non-null  int64  \n",
      " 91  employment_occupation_xqwwgdyp  26707 non-null  int64  \n",
      " 92  employment_occupation_xtkaffoo  26707 non-null  int64  \n",
      " 93  employment_occupation_xzmlyyjv  26707 non-null  int64  \n",
      " 94  household_total                 26707 non-null  float64\n",
      "dtypes: float64(28), int64(67)\n",
      "memory usage: 19.4 MB\n"
     ]
    }
   ],
   "source": [
    "Xh.info()"
   ]
  },
  {
   "cell_type": "markdown",
   "id": "5998c137",
   "metadata": {},
   "source": [
    "## H1N1 Predictions:"
   ]
  },
  {
   "cell_type": "code",
   "execution_count": 198,
   "id": "1bde82b4",
   "metadata": {},
   "outputs": [],
   "source": [
    "gbc2_final = GradientBoostingClassifier(learning_rate=0.15, max_features='auto', min_samples_leaf=10, n_estimators=10000,\n",
    "                           n_iter_no_change=20)\n",
    "\n",
    "gbc2_final.fit(XH, yh)\n",
    "\n",
    "final_proba_h = gbc2_final.predict_proba(X_plus_seas)"
   ]
  },
  {
   "cell_type": "markdown",
   "id": "0dc3a2fd",
   "metadata": {},
   "source": [
    "## Final Submission:"
   ]
  },
  {
   "cell_type": "code",
   "execution_count": 210,
   "id": "cfdc59d5",
   "metadata": {},
   "outputs": [],
   "source": [
    "final_df['h1n1_vaccine'] = final_proba_h[:,1]\n",
    "final_df['seasonal_vaccine'] = final_proba[:,1]"
   ]
  },
  {
   "cell_type": "code",
   "execution_count": 211,
   "id": "7e7f3bb6",
   "metadata": {},
   "outputs": [
    {
     "data": {
      "text/html": [
       "<div>\n",
       "<style scoped>\n",
       "    .dataframe tbody tr th:only-of-type {\n",
       "        vertical-align: middle;\n",
       "    }\n",
       "\n",
       "    .dataframe tbody tr th {\n",
       "        vertical-align: top;\n",
       "    }\n",
       "\n",
       "    .dataframe thead th {\n",
       "        text-align: right;\n",
       "    }\n",
       "</style>\n",
       "<table border=\"1\" class=\"dataframe\">\n",
       "  <thead>\n",
       "    <tr style=\"text-align: right;\">\n",
       "      <th></th>\n",
       "      <th>respondent_id</th>\n",
       "      <th>h1n1_vaccine</th>\n",
       "      <th>seasonal_vaccine</th>\n",
       "    </tr>\n",
       "  </thead>\n",
       "  <tbody>\n",
       "    <tr>\n",
       "      <th>0</th>\n",
       "      <td>26707</td>\n",
       "      <td>0.056234</td>\n",
       "      <td>0.315138</td>\n",
       "    </tr>\n",
       "    <tr>\n",
       "      <th>1</th>\n",
       "      <td>26708</td>\n",
       "      <td>0.022656</td>\n",
       "      <td>0.029818</td>\n",
       "    </tr>\n",
       "    <tr>\n",
       "      <th>2</th>\n",
       "      <td>26709</td>\n",
       "      <td>0.166744</td>\n",
       "      <td>0.684827</td>\n",
       "    </tr>\n",
       "    <tr>\n",
       "      <th>3</th>\n",
       "      <td>26710</td>\n",
       "      <td>0.690578</td>\n",
       "      <td>0.874436</td>\n",
       "    </tr>\n",
       "    <tr>\n",
       "      <th>4</th>\n",
       "      <td>26711</td>\n",
       "      <td>0.104013</td>\n",
       "      <td>0.467076</td>\n",
       "    </tr>\n",
       "  </tbody>\n",
       "</table>\n",
       "</div>"
      ],
      "text/plain": [
       "   respondent_id  h1n1_vaccine  seasonal_vaccine\n",
       "0          26707      0.056234          0.315138\n",
       "1          26708      0.022656          0.029818\n",
       "2          26709      0.166744          0.684827\n",
       "3          26710      0.690578          0.874436\n",
       "4          26711      0.104013          0.467076"
      ]
     },
     "execution_count": 211,
     "metadata": {},
     "output_type": "execute_result"
    }
   ],
   "source": [
    "final_df.head()"
   ]
  },
  {
   "cell_type": "code",
   "execution_count": 213,
   "id": "e07ba4bb",
   "metadata": {},
   "outputs": [],
   "source": [
    "final_df.to_csv('final_submission.csv', index=False)"
   ]
  },
  {
   "cell_type": "code",
   "execution_count": null,
   "id": "ef32b618",
   "metadata": {},
   "outputs": [],
   "source": []
  }
 ],
 "metadata": {
  "kernelspec": {
   "display_name": "Python 3 (ipykernel)",
   "language": "python",
   "name": "python3"
  },
  "language_info": {
   "codemirror_mode": {
    "name": "ipython",
    "version": 3
   },
   "file_extension": ".py",
   "mimetype": "text/x-python",
   "name": "python",
   "nbconvert_exporter": "python",
   "pygments_lexer": "ipython3",
   "version": "3.8.12"
  }
 },
 "nbformat": 4,
 "nbformat_minor": 5
}
