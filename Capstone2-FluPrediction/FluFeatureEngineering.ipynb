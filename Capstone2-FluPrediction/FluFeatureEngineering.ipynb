{
 "cells": [
  {
   "cell_type": "markdown",
   "id": "e49ecfae",
   "metadata": {},
   "source": [
    "# Feature Engineering:"
   ]
  },
  {
   "cell_type": "code",
   "execution_count": 1,
   "id": "f4f3ece2",
   "metadata": {},
   "outputs": [],
   "source": [
    "import os\n",
    "import pandas as pd\n",
    "from sklearn.model_selection import train_test_split"
   ]
  },
  {
   "cell_type": "code",
   "execution_count": 2,
   "id": "45b09c89",
   "metadata": {},
   "outputs": [],
   "source": [
    "onehot_train = pd.read_csv('data/onehot_train')\n",
    "onehot_test = pd.read_csv('data/onehot_test')"
   ]
  },
  {
   "cell_type": "markdown",
   "id": "84e1220a",
   "metadata": {},
   "source": [
    "## OneHot Encoding:"
   ]
  },
  {
   "cell_type": "code",
   "execution_count": 3,
   "id": "f0287e95",
   "metadata": {},
   "outputs": [
    {
     "data": {
      "text/plain": [
       "respondent_id                    int64\n",
       "h1n1_concern                   float64\n",
       "h1n1_knowledge                 float64\n",
       "behavioral_antiviral_meds      float64\n",
       "behavioral_avoidance           float64\n",
       "behavioral_face_mask           float64\n",
       "behavioral_wash_hands          float64\n",
       "behavioral_large_gatherings    float64\n",
       "behavioral_outside_home        float64\n",
       "behavioral_touch_face          float64\n",
       "doctor_recc_h1n1               float64\n",
       "doctor_recc_seasonal           float64\n",
       "chronic_med_condition          float64\n",
       "child_under_6_months           float64\n",
       "health_worker                  float64\n",
       "health_insurance                object\n",
       "opinion_h1n1_vacc_effective    float64\n",
       "opinion_h1n1_risk              float64\n",
       "opinion_h1n1_sick_from_vacc    float64\n",
       "opinion_seas_vacc_effective    float64\n",
       "opinion_seas_risk              float64\n",
       "opinion_seas_sick_from_vacc    float64\n",
       "age_group                        int64\n",
       "education                      float64\n",
       "race                            object\n",
       "sex                              int64\n",
       "income_poverty                 float64\n",
       "marital_status                 float64\n",
       "rent_or_own                    float64\n",
       "employment_status              float64\n",
       "hhs_geo_region                  object\n",
       "census_msa                       int64\n",
       "household_adults               float64\n",
       "household_children             float64\n",
       "employment_industry             object\n",
       "employment_occupation           object\n",
       "h1n1_vaccine                     int64\n",
       "seasonal_vaccine                 int64\n",
       "dtype: object"
      ]
     },
     "execution_count": 3,
     "metadata": {},
     "output_type": "execute_result"
    }
   ],
   "source": [
    "onehot_train.dtypes"
   ]
  },
  {
   "cell_type": "markdown",
   "id": "66ba3868",
   "metadata": {},
   "source": [
    "### Dummy features created for all nominal data columns:"
   ]
  },
  {
   "cell_type": "code",
   "execution_count": 4,
   "id": "883df068",
   "metadata": {},
   "outputs": [],
   "source": [
    "encoded_train = pd.get_dummies(onehot_train)\n",
    "encoded_test = pd.get_dummies(onehot_test)"
   ]
  },
  {
   "cell_type": "code",
   "execution_count": 5,
   "id": "325d1d84",
   "metadata": {},
   "outputs": [
    {
     "data": {
      "text/plain": [
       "Index(['respondent_id', 'h1n1_concern', 'h1n1_knowledge',\n",
       "       'behavioral_antiviral_meds', 'behavioral_avoidance',\n",
       "       'behavioral_face_mask', 'behavioral_wash_hands',\n",
       "       'behavioral_large_gatherings', 'behavioral_outside_home',\n",
       "       'behavioral_touch_face', 'doctor_recc_h1n1', 'doctor_recc_seasonal',\n",
       "       'chronic_med_condition', 'child_under_6_months', 'health_worker',\n",
       "       'opinion_h1n1_vacc_effective', 'opinion_h1n1_risk',\n",
       "       'opinion_h1n1_sick_from_vacc', 'opinion_seas_vacc_effective',\n",
       "       'opinion_seas_risk', 'opinion_seas_sick_from_vacc', 'age_group',\n",
       "       'education', 'sex', 'income_poverty', 'marital_status', 'rent_or_own',\n",
       "       'employment_status', 'census_msa', 'household_adults',\n",
       "       'household_children', 'h1n1_vaccine', 'seasonal_vaccine',\n",
       "       'health_insurance_0.0', 'health_insurance_1.0',\n",
       "       'health_insurance_unknown', 'race_Black', 'race_Hispanic',\n",
       "       'race_Other or Multiple', 'race_White', 'hhs_geo_region_atmpeygn',\n",
       "       'hhs_geo_region_bhuqouqj', 'hhs_geo_region_dqpwygqj',\n",
       "       'hhs_geo_region_fpwskwrf', 'hhs_geo_region_kbazzjca',\n",
       "       'hhs_geo_region_lrircsnp', 'hhs_geo_region_lzgpxyit',\n",
       "       'hhs_geo_region_mlyzmhmf', 'hhs_geo_region_oxchjgsf',\n",
       "       'hhs_geo_region_qufhixun', 'employment_industry_arjwrbjb',\n",
       "       'employment_industry_atmlpfrs', 'employment_industry_cfqqtusy',\n",
       "       'employment_industry_dotnnunm', 'employment_industry_fcxhlnwr',\n",
       "       'employment_industry_haxffmxo', 'employment_industry_ldnlellj',\n",
       "       'employment_industry_mcubkhph', 'employment_industry_mfikgejo',\n",
       "       'employment_industry_msuufmds', 'employment_industry_nduyfdeo',\n",
       "       'employment_industry_phxvnwax', 'employment_industry_pxcmvdjn',\n",
       "       'employment_industry_qnlwzans', 'employment_industry_rucpziij',\n",
       "       'employment_industry_saaquncn', 'employment_industry_unknown',\n",
       "       'employment_industry_vjjrobsf', 'employment_industry_wlfvacwt',\n",
       "       'employment_industry_wxleyezf', 'employment_industry_xicduogh',\n",
       "       'employment_industry_xqicxuve', 'employment_occupation_bxpfxfdn',\n",
       "       'employment_occupation_ccgxvspp', 'employment_occupation_cmhcxjea',\n",
       "       'employment_occupation_dcjcmpih', 'employment_occupation_dlvbwzss',\n",
       "       'employment_occupation_emcorrxb', 'employment_occupation_haliazsg',\n",
       "       'employment_occupation_hfxkjkmi', 'employment_occupation_hodpvpew',\n",
       "       'employment_occupation_kldqjyjy', 'employment_occupation_mxkfnird',\n",
       "       'employment_occupation_oijqvulv', 'employment_occupation_pvmttkik',\n",
       "       'employment_occupation_qxajmpny', 'employment_occupation_rcertsgn',\n",
       "       'employment_occupation_tfqavkke', 'employment_occupation_ukymxvdu',\n",
       "       'employment_occupation_unknown', 'employment_occupation_uqqtjvyb',\n",
       "       'employment_occupation_vlluhbov', 'employment_occupation_xgwztkwe',\n",
       "       'employment_occupation_xqwwgdyp', 'employment_occupation_xtkaffoo',\n",
       "       'employment_occupation_xzmlyyjv'],\n",
       "      dtype='object')"
      ]
     },
     "execution_count": 5,
     "metadata": {},
     "output_type": "execute_result"
    }
   ],
   "source": [
    "encoded_train.columns"
   ]
  },
  {
   "cell_type": "code",
   "execution_count": 6,
   "id": "e3aace19",
   "metadata": {},
   "outputs": [],
   "source": [
    "encoded_train.to_csv('data/ML_ready_train', index=False)\n",
    "encoded_test.to_csv('data/ML_ready_test', index=False)"
   ]
  },
  {
   "cell_type": "code",
   "execution_count": 7,
   "id": "940d437c",
   "metadata": {},
   "outputs": [],
   "source": [
    "y1 = encoded_train[['seasonal_vaccine']]\n",
    "y2 = encoded_train[['h1n1_vaccine']]\n",
    "X = encoded_train.drop(columns=['respondent_id','seasonal_vaccine', 'h1n1_vaccine'])"
   ]
  },
  {
   "cell_type": "markdown",
   "id": "64ce1249",
   "metadata": {},
   "source": [
    "## Train/Test Split for Seasonal Vaccine:"
   ]
  },
  {
   "cell_type": "code",
   "execution_count": 8,
   "id": "7b9aed37",
   "metadata": {},
   "outputs": [],
   "source": [
    "X1_train, X1_test, y1_train, y1_test = train_test_split(X, y1, test_size=0.2, random_state=42)"
   ]
  },
  {
   "cell_type": "code",
   "execution_count": 9,
   "id": "bf17277f",
   "metadata": {},
   "outputs": [
    {
     "data": {
      "text/plain": [
       "((21365, 93), (5342, 93), (21365, 1), (5342, 1))"
      ]
     },
     "execution_count": 9,
     "metadata": {},
     "output_type": "execute_result"
    }
   ],
   "source": [
    "X1_train.shape, X1_test.shape, y1_train.shape, y1_test.shape"
   ]
  },
  {
   "cell_type": "markdown",
   "id": "9ce3fe91",
   "metadata": {},
   "source": [
    "## Train/Test Split for H1N1 Vaccine:"
   ]
  },
  {
   "cell_type": "code",
   "execution_count": 10,
   "id": "aac14a86",
   "metadata": {},
   "outputs": [],
   "source": [
    "X2_train, X2_test, y2_train, y2_test = train_test_split(X, y2, test_size=0.2, random_state=42)"
   ]
  },
  {
   "cell_type": "code",
   "execution_count": 11,
   "id": "04f6a1fd",
   "metadata": {},
   "outputs": [
    {
     "data": {
      "text/plain": [
       "((21365, 93), (5342, 93), (21365, 1), (5342, 1))"
      ]
     },
     "execution_count": 11,
     "metadata": {},
     "output_type": "execute_result"
    }
   ],
   "source": [
    "X2_train.shape, X2_test.shape, y2_train.shape, y2_test.shape"
   ]
  },
  {
   "cell_type": "markdown",
   "id": "eae685f4",
   "metadata": {},
   "source": [
    "## Saving ML ready data:"
   ]
  },
  {
   "cell_type": "code",
   "execution_count": 12,
   "id": "8d089965",
   "metadata": {},
   "outputs": [],
   "source": [
    "X1_train.to_csv('data/X_seasonal_train', index=False)\n",
    "X1_test.to_csv('data/X_seasonal_test', index=False)\n",
    "y1_train.to_csv('data/y_seasonal_train', index=False)\n",
    "y1_test.to_csv('data/y_seasonal_test', index=False)\n",
    "\n",
    "X2_train.to_csv('data/X_H1N1_train', index=False)\n",
    "X2_test.to_csv('data/X_H1N1_test', index=False)\n",
    "y2_train.to_csv('data/y_H1N1_train', index=False)\n",
    "y2_test.to_csv('data/y_H1N1_test', index=False)"
   ]
  }
 ],
 "metadata": {
  "kernelspec": {
   "display_name": "Python 3",
   "language": "python",
   "name": "python3"
  },
  "language_info": {
   "codemirror_mode": {
    "name": "ipython",
    "version": 3
   },
   "file_extension": ".py",
   "mimetype": "text/x-python",
   "name": "python",
   "nbconvert_exporter": "python",
   "pygments_lexer": "ipython3",
   "version": "3.8.12"
  }
 },
 "nbformat": 4,
 "nbformat_minor": 5
}
