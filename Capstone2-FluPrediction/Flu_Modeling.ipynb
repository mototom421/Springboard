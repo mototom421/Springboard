{
 "cells": [
  {
   "cell_type": "code",
   "execution_count": 1,
   "id": "96fed720",
   "metadata": {},
   "outputs": [],
   "source": [
    "import os\n",
    "import numpy as np\n",
    "import pandas as pd\n",
    "import matplotlib.pyplot as plt\n",
    "import seaborn as sns"
   ]
  },
  {
   "cell_type": "code",
   "execution_count": 2,
   "id": "9dee52e2",
   "metadata": {},
   "outputs": [],
   "source": [
    "from sklearn.model_selection import train_test_split\n",
    "from sklearn.model_selection import cross_val_score\n",
    "from sklearn.preprocessing import MinMaxScaler\n",
    "from sklearn.linear_model import LogisticRegression\n",
    "from sklearn.ensemble import RandomForestClassifier\n",
    "from sklearn.svm import SVC\n",
    "from sklearn.model_selection import GridSearchCV\n",
    "from sklearn.metrics import accuracy_score\n",
    "from sklearn.metrics import confusion_matrix\n",
    "from sklearn.metrics import roc_auc_score\n",
    "from sklearn.metrics import classification_report\n",
    "from sklearn.model_selection import validation_curve"
   ]
  },
  {
   "cell_type": "code",
   "execution_count": 3,
   "id": "a4d47962",
   "metadata": {},
   "outputs": [],
   "source": [
    "ML_data = pd.read_csv('data/ML_ready_train')"
   ]
  },
  {
   "cell_type": "code",
   "execution_count": 4,
   "id": "3ff481d2",
   "metadata": {},
   "outputs": [],
   "source": [
    "ML_data['household_total'] = ML_data['household_children'] + ML_data['household_adults']"
   ]
  },
  {
   "cell_type": "code",
   "execution_count": 5,
   "id": "8b787b7a",
   "metadata": {},
   "outputs": [],
   "source": [
    "X = ML_data.drop(columns=['respondent_id','seasonal_vaccine', 'h1n1_vaccine'])\n",
    "yh = ML_data.h1n1_vaccine\n",
    "ys = ML_data.seasonal_vaccine\n"
   ]
  },
  {
   "cell_type": "markdown",
   "id": "92c2b539",
   "metadata": {},
   "source": [
    "## H1N1 Train/Test Split:"
   ]
  },
  {
   "cell_type": "code",
   "execution_count": 6,
   "id": "f79d56cd",
   "metadata": {},
   "outputs": [],
   "source": [
    "Xh_train, Xh_test, yh_train, yh_test = train_test_split(X, yh, test_size=0.3, random_state=42)"
   ]
  },
  {
   "cell_type": "markdown",
   "id": "417249d8",
   "metadata": {},
   "source": [
    "## Seasonal Train/Test Split:"
   ]
  },
  {
   "cell_type": "code",
   "execution_count": 7,
   "id": "b7f47b3d",
   "metadata": {},
   "outputs": [],
   "source": [
    "Xs_train, Xs_test, ys_train, ys_test = train_test_split(X, ys, test_size=0.3, random_state=42)"
   ]
  },
  {
   "cell_type": "markdown",
   "id": "0ac57492",
   "metadata": {},
   "source": [
    "# Random Forest Classifier (Best Option):"
   ]
  },
  {
   "cell_type": "code",
   "execution_count": 8,
   "id": "070025ab",
   "metadata": {},
   "outputs": [
    {
     "name": "stdout",
     "output_type": "stream",
     "text": [
      "[[3568  774]\n",
      " [ 945 2726]]\n",
      "0.7854736053912392\n"
     ]
    }
   ],
   "source": [
    "rfc = RandomForestClassifier()\n",
    "rfc.fit(Xs_train, ys_train)\n",
    "\n",
    "ys_pred_rfc = rfc.predict(Xs_test)\n",
    "\n",
    "cnf_matrix = confusion_matrix(ys_test, ys_pred_rfc)\n",
    "print(cnf_matrix)\n",
    "Accuracy_rfc = rfc.score(Xs_test,ys_test)\n",
    "print(Accuracy_rfc)"
   ]
  },
  {
   "cell_type": "code",
   "execution_count": 9,
   "id": "f30f86fd",
   "metadata": {},
   "outputs": [
    {
     "name": "stdout",
     "output_type": "stream",
     "text": [
      "[[6089  230]\n",
      " [ 965  729]]\n",
      "0.8508673405715712\n"
     ]
    }
   ],
   "source": [
    "rfc2 = RandomForestClassifier()\n",
    "rfc2.fit(Xh_train, yh_train)\n",
    "\n",
    "yh_pred_rfc = rfc2.predict(Xh_test)\n",
    "\n",
    "cnf_matrix2 = confusion_matrix(yh_test, yh_pred_rfc)\n",
    "print(cnf_matrix2)\n",
    "Accuracy_rfc2 = rfc2.score(Xh_test,yh_test)\n",
    "print(Accuracy_rfc2)"
   ]
  },
  {
   "cell_type": "code",
   "execution_count": 10,
   "id": "7431c476",
   "metadata": {},
   "outputs": [
    {
     "name": "stdout",
     "output_type": "stream",
     "text": [
      "              precision    recall  f1-score   support\n",
      "\n",
      "           0       0.86      0.96      0.91      6319\n",
      "           1       0.76      0.43      0.55      1694\n",
      "\n",
      "    accuracy                           0.85      8013\n",
      "   macro avg       0.81      0.70      0.73      8013\n",
      "weighted avg       0.84      0.85      0.83      8013\n",
      "\n"
     ]
    }
   ],
   "source": [
    "print(classification_report(yh_test, yh_pred_rfc))"
   ]
  },
  {
   "cell_type": "code",
   "execution_count": 11,
   "id": "7bd03ffb",
   "metadata": {},
   "outputs": [
    {
     "name": "stdout",
     "output_type": "stream",
     "text": [
      "              precision    recall  f1-score   support\n",
      "\n",
      "           0       0.79      0.82      0.81      4342\n",
      "           1       0.78      0.74      0.76      3671\n",
      "\n",
      "    accuracy                           0.79      8013\n",
      "   macro avg       0.78      0.78      0.78      8013\n",
      "weighted avg       0.79      0.79      0.78      8013\n",
      "\n"
     ]
    }
   ],
   "source": [
    "print(classification_report(ys_test, ys_pred_rfc))"
   ]
  },
  {
   "cell_type": "code",
   "execution_count": 12,
   "id": "b6a3c5a1",
   "metadata": {},
   "outputs": [
    {
     "data": {
      "text/plain": [
       "0.6969721103106707"
      ]
     },
     "execution_count": 12,
     "metadata": {},
     "output_type": "execute_result"
    }
   ],
   "source": [
    "roc_auc_score(yh_test, yh_pred_rfc)"
   ]
  },
  {
   "cell_type": "code",
   "execution_count": 13,
   "id": "bc2fd820",
   "metadata": {},
   "outputs": [
    {
     "data": {
      "text/plain": [
       "0.7821590438133436"
      ]
     },
     "execution_count": 13,
     "metadata": {},
     "output_type": "execute_result"
    }
   ],
   "source": [
    "roc_auc_score(ys_test, ys_pred_rfc)"
   ]
  },
  {
   "cell_type": "code",
   "execution_count": 15,
   "id": "59d869e2",
   "metadata": {},
   "outputs": [
    {
     "data": {
      "text/html": [
       "<div>\n",
       "<style scoped>\n",
       "    .dataframe tbody tr th:only-of-type {\n",
       "        vertical-align: middle;\n",
       "    }\n",
       "\n",
       "    .dataframe tbody tr th {\n",
       "        vertical-align: top;\n",
       "    }\n",
       "\n",
       "    .dataframe thead th {\n",
       "        text-align: right;\n",
       "    }\n",
       "</style>\n",
       "<table border=\"1\" class=\"dataframe\">\n",
       "  <thead>\n",
       "    <tr style=\"text-align: right;\">\n",
       "      <th></th>\n",
       "      <th>Features</th>\n",
       "      <th>Importance scores</th>\n",
       "    </tr>\n",
       "  </thead>\n",
       "  <tbody>\n",
       "    <tr>\n",
       "      <th>17</th>\n",
       "      <td>opinion_seas_vacc_effective</td>\n",
       "      <td>0.086996</td>\n",
       "    </tr>\n",
       "    <tr>\n",
       "      <th>18</th>\n",
       "      <td>opinion_seas_risk</td>\n",
       "      <td>0.084860</td>\n",
       "    </tr>\n",
       "    <tr>\n",
       "      <th>10</th>\n",
       "      <td>doctor_recc_seasonal</td>\n",
       "      <td>0.062710</td>\n",
       "    </tr>\n",
       "    <tr>\n",
       "      <th>20</th>\n",
       "      <td>age_group</td>\n",
       "      <td>0.055720</td>\n",
       "    </tr>\n",
       "    <tr>\n",
       "      <th>15</th>\n",
       "      <td>opinion_h1n1_risk</td>\n",
       "      <td>0.034237</td>\n",
       "    </tr>\n",
       "    <tr>\n",
       "      <th>14</th>\n",
       "      <td>opinion_h1n1_vacc_effective</td>\n",
       "      <td>0.031530</td>\n",
       "    </tr>\n",
       "    <tr>\n",
       "      <th>19</th>\n",
       "      <td>opinion_seas_sick_from_vacc</td>\n",
       "      <td>0.028256</td>\n",
       "    </tr>\n",
       "    <tr>\n",
       "      <th>0</th>\n",
       "      <td>h1n1_concern</td>\n",
       "      <td>0.027309</td>\n",
       "    </tr>\n",
       "    <tr>\n",
       "      <th>21</th>\n",
       "      <td>education</td>\n",
       "      <td>0.026633</td>\n",
       "    </tr>\n",
       "    <tr>\n",
       "      <th>93</th>\n",
       "      <td>household_total</td>\n",
       "      <td>0.026233</td>\n",
       "    </tr>\n",
       "  </tbody>\n",
       "</table>\n",
       "</div>"
      ],
      "text/plain": [
       "                       Features  Importance scores\n",
       "17  opinion_seas_vacc_effective           0.086996\n",
       "18            opinion_seas_risk           0.084860\n",
       "10         doctor_recc_seasonal           0.062710\n",
       "20                    age_group           0.055720\n",
       "15            opinion_h1n1_risk           0.034237\n",
       "14  opinion_h1n1_vacc_effective           0.031530\n",
       "19  opinion_seas_sick_from_vacc           0.028256\n",
       "0                  h1n1_concern           0.027309\n",
       "21                    education           0.026633\n",
       "93              household_total           0.026233"
      ]
     },
     "execution_count": 15,
     "metadata": {},
     "output_type": "execute_result"
    }
   ],
   "source": [
    "importances = list(rfc.feature_importances_)\n",
    "\n",
    "tab=pd.DataFrame(list(zip(X,importances)),columns =['Features', 'Importance scores']) \n",
    "imp = tab.sort_values(by='Importance scores', ascending=False)\n",
    "imp.head(10)"
   ]
  },
  {
   "cell_type": "code",
   "execution_count": 23,
   "id": "3767dbf4",
   "metadata": {},
   "outputs": [
    {
     "data": {
      "text/html": [
       "<div>\n",
       "<style scoped>\n",
       "    .dataframe tbody tr th:only-of-type {\n",
       "        vertical-align: middle;\n",
       "    }\n",
       "\n",
       "    .dataframe tbody tr th {\n",
       "        vertical-align: top;\n",
       "    }\n",
       "\n",
       "    .dataframe thead th {\n",
       "        text-align: right;\n",
       "    }\n",
       "</style>\n",
       "<table border=\"1\" class=\"dataframe\">\n",
       "  <thead>\n",
       "    <tr style=\"text-align: right;\">\n",
       "      <th></th>\n",
       "      <th>Features</th>\n",
       "      <th>Importance scores</th>\n",
       "    </tr>\n",
       "  </thead>\n",
       "  <tbody>\n",
       "    <tr>\n",
       "      <th>9</th>\n",
       "      <td>doctor_recc_h1n1</td>\n",
       "      <td>0.084293</td>\n",
       "    </tr>\n",
       "    <tr>\n",
       "      <th>15</th>\n",
       "      <td>opinion_h1n1_risk</td>\n",
       "      <td>0.069485</td>\n",
       "    </tr>\n",
       "    <tr>\n",
       "      <th>14</th>\n",
       "      <td>opinion_h1n1_vacc_effective</td>\n",
       "      <td>0.054149</td>\n",
       "    </tr>\n",
       "    <tr>\n",
       "      <th>18</th>\n",
       "      <td>opinion_seas_risk</td>\n",
       "      <td>0.042579</td>\n",
       "    </tr>\n",
       "    <tr>\n",
       "      <th>32</th>\n",
       "      <td>health_insurance_unknown</td>\n",
       "      <td>0.032333</td>\n",
       "    </tr>\n",
       "    <tr>\n",
       "      <th>31</th>\n",
       "      <td>health_insurance_1.0</td>\n",
       "      <td>0.031103</td>\n",
       "    </tr>\n",
       "    <tr>\n",
       "      <th>20</th>\n",
       "      <td>age_group</td>\n",
       "      <td>0.030636</td>\n",
       "    </tr>\n",
       "    <tr>\n",
       "      <th>17</th>\n",
       "      <td>opinion_seas_vacc_effective</td>\n",
       "      <td>0.027349</td>\n",
       "    </tr>\n",
       "    <tr>\n",
       "      <th>16</th>\n",
       "      <td>opinion_h1n1_sick_from_vacc</td>\n",
       "      <td>0.027081</td>\n",
       "    </tr>\n",
       "    <tr>\n",
       "      <th>0</th>\n",
       "      <td>h1n1_concern</td>\n",
       "      <td>0.026932</td>\n",
       "    </tr>\n",
       "  </tbody>\n",
       "</table>\n",
       "</div>"
      ],
      "text/plain": [
       "                       Features  Importance scores\n",
       "9              doctor_recc_h1n1           0.084293\n",
       "15            opinion_h1n1_risk           0.069485\n",
       "14  opinion_h1n1_vacc_effective           0.054149\n",
       "18            opinion_seas_risk           0.042579\n",
       "32     health_insurance_unknown           0.032333\n",
       "31         health_insurance_1.0           0.031103\n",
       "20                    age_group           0.030636\n",
       "17  opinion_seas_vacc_effective           0.027349\n",
       "16  opinion_h1n1_sick_from_vacc           0.027081\n",
       "0                  h1n1_concern           0.026932"
      ]
     },
     "execution_count": 23,
     "metadata": {},
     "output_type": "execute_result"
    }
   ],
   "source": [
    "importances = list(rfc2.feature_importances_)\n",
    "\n",
    "tab=pd.DataFrame(list(zip(X,importances)),columns =['Features', 'Importance scores']) \n",
    "imp = tab.sort_values(by='Importance scores', ascending=False)\n",
    "imp.head(10)"
   ]
  },
  {
   "cell_type": "code",
   "execution_count": 28,
   "id": "159f06a7",
   "metadata": {},
   "outputs": [
    {
     "data": {
      "text/plain": [
       "0.8038187944590042"
      ]
     },
     "execution_count": 28,
     "metadata": {},
     "output_type": "execute_result"
    }
   ],
   "source": [
    "X2 = data.drop(columns=['respondent_id', 'seasonal_vaccine'])\n",
    "y2s = data.seasonal_vaccine\n",
    "\n",
    "\n",
    "X2s_train, X2s_test, y2s_train, y2s_test = train_test_split(X2, y2s, test_size=0.2, random_state=42)\n",
    "\n",
    "\n",
    "RFC = RandomForestClassifier()\n",
    "RFC.fit(X2s_train, y2s_train)\n",
    "\n",
    "y2_preds = RFC.predict(X2s_test)\n",
    "\n",
    "RFC.score(X2s_test, y2s_test)"
   ]
  },
  {
   "cell_type": "code",
   "execution_count": 31,
   "id": "73ab1d62",
   "metadata": {},
   "outputs": [
    {
     "data": {
      "text/html": [
       "<div>\n",
       "<style scoped>\n",
       "    .dataframe tbody tr th:only-of-type {\n",
       "        vertical-align: middle;\n",
       "    }\n",
       "\n",
       "    .dataframe tbody tr th {\n",
       "        vertical-align: top;\n",
       "    }\n",
       "\n",
       "    .dataframe thead th {\n",
       "        text-align: right;\n",
       "    }\n",
       "</style>\n",
       "<table border=\"1\" class=\"dataframe\">\n",
       "  <thead>\n",
       "    <tr style=\"text-align: right;\">\n",
       "      <th></th>\n",
       "      <th>Features</th>\n",
       "      <th>Importance scores</th>\n",
       "    </tr>\n",
       "  </thead>\n",
       "  <tbody>\n",
       "    <tr>\n",
       "      <th>35</th>\n",
       "      <td>h1n1_vaccine</td>\n",
       "      <td>0.086300</td>\n",
       "    </tr>\n",
       "    <tr>\n",
       "      <th>18</th>\n",
       "      <td>opinion_seas_vacc_effective</td>\n",
       "      <td>0.083255</td>\n",
       "    </tr>\n",
       "    <tr>\n",
       "      <th>19</th>\n",
       "      <td>opinion_seas_risk</td>\n",
       "      <td>0.082435</td>\n",
       "    </tr>\n",
       "    <tr>\n",
       "      <th>10</th>\n",
       "      <td>doctor_recc_seasonal</td>\n",
       "      <td>0.069074</td>\n",
       "    </tr>\n",
       "    <tr>\n",
       "      <th>21</th>\n",
       "      <td>age_group</td>\n",
       "      <td>0.059735</td>\n",
       "    </tr>\n",
       "    <tr>\n",
       "      <th>29</th>\n",
       "      <td>hhs_geo_region</td>\n",
       "      <td>0.047873</td>\n",
       "    </tr>\n",
       "    <tr>\n",
       "      <th>33</th>\n",
       "      <td>employment_industry</td>\n",
       "      <td>0.033284</td>\n",
       "    </tr>\n",
       "    <tr>\n",
       "      <th>34</th>\n",
       "      <td>employment_occupation</td>\n",
       "      <td>0.033149</td>\n",
       "    </tr>\n",
       "    <tr>\n",
       "      <th>16</th>\n",
       "      <td>opinion_h1n1_risk</td>\n",
       "      <td>0.031974</td>\n",
       "    </tr>\n",
       "    <tr>\n",
       "      <th>15</th>\n",
       "      <td>opinion_h1n1_vacc_effective</td>\n",
       "      <td>0.030370</td>\n",
       "    </tr>\n",
       "  </tbody>\n",
       "</table>\n",
       "</div>"
      ],
      "text/plain": [
       "                       Features  Importance scores\n",
       "35                 h1n1_vaccine           0.086300\n",
       "18  opinion_seas_vacc_effective           0.083255\n",
       "19            opinion_seas_risk           0.082435\n",
       "10         doctor_recc_seasonal           0.069074\n",
       "21                    age_group           0.059735\n",
       "29               hhs_geo_region           0.047873\n",
       "33          employment_industry           0.033284\n",
       "34        employment_occupation           0.033149\n",
       "16            opinion_h1n1_risk           0.031974\n",
       "15  opinion_h1n1_vacc_effective           0.030370"
      ]
     },
     "execution_count": 31,
     "metadata": {},
     "output_type": "execute_result"
    }
   ],
   "source": [
    "importances = list(RFC.feature_importances_)\n",
    "\n",
    "tab=pd.DataFrame(list(zip(X2,importances)),columns =['Features', 'Importance scores']) \n",
    "imp = tab.sort_values(by='Importance scores', ascending=False)\n",
    "imp.head(10)"
   ]
  },
  {
   "cell_type": "code",
   "execution_count": 32,
   "id": "12343a97",
   "metadata": {},
   "outputs": [
    {
     "data": {
      "text/plain": [
       "0.8014852436005833"
      ]
     },
     "execution_count": 32,
     "metadata": {},
     "output_type": "execute_result"
    }
   ],
   "source": [
    "roc_auc_score(y2s_test, y2_preds)"
   ]
  },
  {
   "cell_type": "markdown",
   "id": "230f8fb7",
   "metadata": {},
   "source": [
    "# Logistic Regression:"
   ]
  },
  {
   "cell_type": "code",
   "execution_count": 64,
   "id": "952578a2",
   "metadata": {},
   "outputs": [
    {
     "name": "stdout",
     "output_type": "stream",
     "text": [
      "[[3577  765]\n",
      " [ 937 2734]]\n",
      "0.7875951578684638\n"
     ]
    }
   ],
   "source": [
    "Logreg = LogisticRegression(C = 10,random_state = 42, max_iter=1000)\n",
    "Logreg.fit(Xs_train,ys_train)\n",
    "    \n",
    "ys_pred_lr = Logreg.predict(Xs_test)\n",
    "\n",
    "print(confusion_matrix(ys_test, ys_pred_lr))\n",
    "    \n",
    "print(Logreg.score(Xs_test, ys_test))"
   ]
  },
  {
   "cell_type": "code",
   "execution_count": 65,
   "id": "9dfb5c05",
   "metadata": {},
   "outputs": [
    {
     "name": "stdout",
     "output_type": "stream",
     "text": [
      "[[5991  328]\n",
      " [ 879  815]]\n",
      "0.8493697741170598\n"
     ]
    }
   ],
   "source": [
    "Logreg2 = LogisticRegression(C = 10,random_state = 42, max_iter=1000)\n",
    "Logreg2.fit(Xh_train,yh_train)\n",
    "    \n",
    "yh_pred_lr = Logreg2.predict(Xh_test)\n",
    "\n",
    "print(confusion_matrix(yh_test, yh_pred_lr))\n",
    "    \n",
    "print(Logreg2.score(Xh_test, yh_test))"
   ]
  },
  {
   "cell_type": "code",
   "execution_count": 18,
   "id": "f1ed6cf8",
   "metadata": {},
   "outputs": [
    {
     "name": "stdout",
     "output_type": "stream",
     "text": [
      "              precision    recall  f1-score   support\n",
      "\n",
      "           0       0.87      0.95      0.91      4212\n",
      "           1       0.72      0.49      0.58      1130\n",
      "\n",
      "    accuracy                           0.85      5342\n",
      "   macro avg       0.80      0.72      0.74      5342\n",
      "weighted avg       0.84      0.85      0.84      5342\n",
      "\n"
     ]
    }
   ],
   "source": [
    "print(classification_report(yh_test, yh_pred_lr))"
   ]
  },
  {
   "cell_type": "code",
   "execution_count": 19,
   "id": "f56ad9fd",
   "metadata": {},
   "outputs": [
    {
     "name": "stdout",
     "output_type": "stream",
     "text": [
      "              precision    recall  f1-score   support\n",
      "\n",
      "           0       0.79      0.82      0.80      2891\n",
      "           1       0.78      0.75      0.76      2451\n",
      "\n",
      "    accuracy                           0.79      5342\n",
      "   macro avg       0.78      0.78      0.78      5342\n",
      "weighted avg       0.78      0.79      0.78      5342\n",
      "\n"
     ]
    }
   ],
   "source": [
    "print(classification_report(ys_test, ys_pred_lr))"
   ]
  },
  {
   "cell_type": "code",
   "execution_count": 66,
   "id": "f18728f1",
   "metadata": {},
   "outputs": [
    {
     "data": {
      "text/plain": [
       "0.7146014259949146"
      ]
     },
     "execution_count": 66,
     "metadata": {},
     "output_type": "execute_result"
    }
   ],
   "source": [
    "roc_auc_score(yh_test, yh_pred_lr)"
   ]
  },
  {
   "cell_type": "code",
   "execution_count": 67,
   "id": "6e20b604",
   "metadata": {},
   "outputs": [
    {
     "data": {
      "text/plain": [
       "0.7842850539308618"
      ]
     },
     "execution_count": 67,
     "metadata": {},
     "output_type": "execute_result"
    }
   ],
   "source": [
    "roc_auc_score(ys_test, ys_pred_lr)"
   ]
  },
  {
   "cell_type": "markdown",
   "id": "1fa730b7",
   "metadata": {},
   "source": [
    "# Support Vector Machine:"
   ]
  },
  {
   "cell_type": "code",
   "execution_count": 68,
   "id": "9e6fc6c8",
   "metadata": {},
   "outputs": [
    {
     "name": "stdout",
     "output_type": "stream",
     "text": [
      "[[3600  742]\n",
      " [ 977 2694]]\n",
      "0.7854736053912392\n"
     ]
    }
   ],
   "source": [
    "svm = SVC(kernel='linear')\n",
    "svm.fit(Xs_train, ys_train)\n",
    "\n",
    "ys_predict_svm=svm.predict(Xs_test)\n",
    "\n",
    "\n",
    "\n",
    "cnf_matrix = confusion_matrix(ys_test, ys_predict_svm)\n",
    "print(cnf_matrix)\n",
    "\n",
    "Accuracy_svm=svm.score(Xs_test,ys_test)\n",
    "print(Accuracy_svm)"
   ]
  },
  {
   "cell_type": "code",
   "execution_count": 69,
   "id": "ea996c40",
   "metadata": {},
   "outputs": [
    {
     "name": "stdout",
     "output_type": "stream",
     "text": [
      "[[6024  295]\n",
      " [ 910  784]]\n",
      "0.8496193685261451\n"
     ]
    }
   ],
   "source": [
    "svm2 = SVC(kernel='linear')\n",
    "svm2.fit(Xh_train, yh_train)\n",
    "\n",
    "yh_predict_svm=svm2.predict(Xh_test)\n",
    "\n",
    "\n",
    "\n",
    "cnf_matrix2 = confusion_matrix(yh_test, yh_predict_svm)\n",
    "print(cnf_matrix2)\n",
    "\n",
    "Accuracy_svm2=svm2.score(Xh_test,yh_test)\n",
    "print(Accuracy_svm2)"
   ]
  },
  {
   "cell_type": "code",
   "execution_count": 24,
   "id": "8ee394e6",
   "metadata": {},
   "outputs": [
    {
     "name": "stdout",
     "output_type": "stream",
     "text": [
      "              precision    recall  f1-score   support\n",
      "\n",
      "           0       0.87      0.95      0.91      4212\n",
      "           1       0.73      0.47      0.57      1130\n",
      "\n",
      "    accuracy                           0.85      5342\n",
      "   macro avg       0.80      0.71      0.74      5342\n",
      "weighted avg       0.84      0.85      0.84      5342\n",
      "\n"
     ]
    }
   ],
   "source": [
    "print(classification_report(yh_test, yh_predict_svm))"
   ]
  },
  {
   "cell_type": "code",
   "execution_count": 25,
   "id": "f5e93821",
   "metadata": {},
   "outputs": [
    {
     "name": "stdout",
     "output_type": "stream",
     "text": [
      "              precision    recall  f1-score   support\n",
      "\n",
      "           0       0.79      0.82      0.81      2891\n",
      "           1       0.78      0.74      0.76      2451\n",
      "\n",
      "    accuracy                           0.79      5342\n",
      "   macro avg       0.79      0.78      0.78      5342\n",
      "weighted avg       0.79      0.79      0.79      5342\n",
      "\n"
     ]
    }
   ],
   "source": [
    "print(classification_report(ys_test, ys_predict_svm))"
   ]
  },
  {
   "cell_type": "code",
   "execution_count": 71,
   "id": "9b4c6947",
   "metadata": {},
   "outputs": [
    {
     "data": {
      "text/plain": [
       "0.7080626576806928"
      ]
     },
     "execution_count": 71,
     "metadata": {},
     "output_type": "execute_result"
    }
   ],
   "source": [
    "roc_auc_score(yh_test, yh_predict_svm)"
   ]
  },
  {
   "cell_type": "code",
   "execution_count": 70,
   "id": "a76a6f83",
   "metadata": {},
   "outputs": [
    {
     "data": {
      "text/plain": [
       "0.7814854962037034"
      ]
     },
     "execution_count": 70,
     "metadata": {},
     "output_type": "execute_result"
    }
   ],
   "source": [
    "roc_auc_score(ys_test, ys_predict_svm)"
   ]
  },
  {
   "cell_type": "markdown",
   "id": "a077b49b",
   "metadata": {},
   "source": [
    "# Gradient Boosting:"
   ]
  },
  {
   "cell_type": "code",
   "execution_count": 131,
   "id": "6cd1a638",
   "metadata": {},
   "outputs": [
    {
     "name": "stdout",
     "output_type": "stream",
     "text": [
      "[[2367  524]\n",
      " [ 566 1885]]\n",
      "0.7959565705728192\n"
     ]
    }
   ],
   "source": [
    "from sklearn.ensemble import ExtraTreesClassifier, GradientBoostingClassifier\n",
    "gbc = GradientBoostingClassifier(learning_rate=0.05 , n_estimators=200, random_state=5, max_depth=9, max_leaf_nodes=100)\n",
    "gbc.fit(Xs_train, ys_train)\n",
    "\n",
    "\n",
    "ys_predict_gbc = gbc.predict(Xs_test)\n",
    "\n",
    "\n",
    "print(confusion_matrix(ys_test, ys_predict_gbc))\n",
    "\n",
    "print(gbc.score(Xs_test,ys_test))\n"
   ]
  },
  {
   "cell_type": "code",
   "execution_count": 29,
   "id": "55dcaad4",
   "metadata": {},
   "outputs": [
    {
     "name": "stdout",
     "output_type": "stream",
     "text": [
      "[[3963  249]\n",
      " [ 554  576]]\n",
      "0.8496817671284164\n"
     ]
    }
   ],
   "source": [
    "gbc2 = GradientBoostingClassifier(subsample=0.8, learning_rate=0.05 , n_estimators=160, random_state=5, max_depth=9, max_leaf_nodes=100)\n",
    "gbc2.fit(Xh_train, yh_train)\n",
    "\n",
    "\n",
    "yh_predict_gbc = gbc2.predict(Xh_test)\n",
    "\n",
    "\n",
    "print(confusion_matrix(yh_test, yh_predict_gbc))\n",
    "\n",
    "print(gbc2.score(Xh_test,yh_test))"
   ]
  },
  {
   "cell_type": "code",
   "execution_count": 30,
   "id": "49d63a6d",
   "metadata": {},
   "outputs": [
    {
     "name": "stdout",
     "output_type": "stream",
     "text": [
      "              precision    recall  f1-score   support\n",
      "\n",
      "           0       0.88      0.94      0.91      4212\n",
      "           1       0.70      0.51      0.59      1130\n",
      "\n",
      "    accuracy                           0.85      5342\n",
      "   macro avg       0.79      0.73      0.75      5342\n",
      "weighted avg       0.84      0.85      0.84      5342\n",
      "\n"
     ]
    }
   ],
   "source": [
    "print(classification_report(yh_test, yh_predict_gbc))"
   ]
  },
  {
   "cell_type": "code",
   "execution_count": 31,
   "id": "c5460ad4",
   "metadata": {},
   "outputs": [
    {
     "name": "stdout",
     "output_type": "stream",
     "text": [
      "              precision    recall  f1-score   support\n",
      "\n",
      "           0       0.80      0.81      0.81      2891\n",
      "           1       0.78      0.77      0.77      2451\n",
      "\n",
      "    accuracy                           0.79      5342\n",
      "   macro avg       0.79      0.79      0.79      5342\n",
      "weighted avg       0.79      0.79      0.79      5342\n",
      "\n"
     ]
    }
   ],
   "source": [
    "print(classification_report(ys_test, ys_predict_gbc))"
   ]
  },
  {
   "cell_type": "code",
   "execution_count": 32,
   "id": "9f3c7928",
   "metadata": {},
   "outputs": [
    {
     "data": {
      "text/plain": [
       "0.7253088520787636"
      ]
     },
     "execution_count": 32,
     "metadata": {},
     "output_type": "execute_result"
    }
   ],
   "source": [
    "roc_auc_score(yh_test, yh_predict_gbc)"
   ]
  },
  {
   "cell_type": "code",
   "execution_count": 33,
   "id": "bd6537a5",
   "metadata": {},
   "outputs": [
    {
     "data": {
      "text/plain": [
       "0.7899994510178819"
      ]
     },
     "execution_count": 33,
     "metadata": {},
     "output_type": "execute_result"
    }
   ],
   "source": [
    "roc_auc_score(ys_test, ys_predict_gbc)"
   ]
  },
  {
   "cell_type": "markdown",
   "id": "abe3cf38",
   "metadata": {},
   "source": [
    "# KNN:"
   ]
  },
  {
   "cell_type": "code",
   "execution_count": 34,
   "id": "3c11f445",
   "metadata": {},
   "outputs": [
    {
     "name": "stdout",
     "output_type": "stream",
     "text": [
      "[[2311  580]\n",
      " [ 612 1839]]\n",
      "0.7768625982777986\n"
     ]
    }
   ],
   "source": [
    "from sklearn.neighbors import KNeighborsClassifier\n",
    "\n",
    "knn = KNeighborsClassifier(p=2,weights='distance',n_neighbors=50)\n",
    "knn.fit(Xs_train,ys_train)\n",
    "\n",
    "ys_predict_knn=knn.predict(Xs_test)\n",
    "\n",
    "\n",
    "print(confusion_matrix(ys_test, ys_predict_knn))\n",
    "\n",
    "print(knn.score(Xs_test,ys_test))"
   ]
  },
  {
   "cell_type": "code",
   "execution_count": 35,
   "id": "fc058fb3",
   "metadata": {},
   "outputs": [
    {
     "name": "stdout",
     "output_type": "stream",
     "text": [
      "[[4093  119]\n",
      " [ 757  373]]\n",
      "0.8360164732309996\n"
     ]
    }
   ],
   "source": [
    "knn2 = KNeighborsClassifier(p=2,weights='distance',n_neighbors=50)\n",
    "knn2.fit(Xh_train,yh_train)\n",
    "\n",
    "\n",
    "yh_predict_knn=knn2.predict(Xh_test)\n",
    "\n",
    "\n",
    "print(confusion_matrix(yh_test, yh_predict_knn))\n",
    "\n",
    "print(knn2.score(Xh_test,yh_test))"
   ]
  },
  {
   "cell_type": "code",
   "execution_count": 36,
   "id": "5b297b18",
   "metadata": {},
   "outputs": [
    {
     "name": "stdout",
     "output_type": "stream",
     "text": [
      "              precision    recall  f1-score   support\n",
      "\n",
      "           0       0.84      0.97      0.90      4212\n",
      "           1       0.76      0.33      0.46      1130\n",
      "\n",
      "    accuracy                           0.84      5342\n",
      "   macro avg       0.80      0.65      0.68      5342\n",
      "weighted avg       0.83      0.84      0.81      5342\n",
      "\n"
     ]
    }
   ],
   "source": [
    "print(classification_report(yh_test, yh_predict_knn))"
   ]
  },
  {
   "cell_type": "code",
   "execution_count": 37,
   "id": "76915e3c",
   "metadata": {},
   "outputs": [
    {
     "name": "stdout",
     "output_type": "stream",
     "text": [
      "              precision    recall  f1-score   support\n",
      "\n",
      "           0       0.79      0.80      0.79      2891\n",
      "           1       0.76      0.75      0.76      2451\n",
      "\n",
      "    accuracy                           0.78      5342\n",
      "   macro avg       0.78      0.77      0.78      5342\n",
      "weighted avg       0.78      0.78      0.78      5342\n",
      "\n"
     ]
    }
   ],
   "source": [
    "print(classification_report(ys_test, ys_predict_knn))"
   ]
  },
  {
   "cell_type": "code",
   "execution_count": 38,
   "id": "47f93fad",
   "metadata": {},
   "outputs": [
    {
     "data": {
      "text/plain": [
       "0.6509179419946381"
      ]
     },
     "execution_count": 38,
     "metadata": {},
     "output_type": "execute_result"
    }
   ],
   "source": [
    "roc_auc_score(yh_test, yh_predict_knn)"
   ]
  },
  {
   "cell_type": "code",
   "execution_count": 39,
   "id": "e246516c",
   "metadata": {},
   "outputs": [
    {
     "data": {
      "text/plain": [
       "0.7748416878109459"
      ]
     },
     "execution_count": 39,
     "metadata": {},
     "output_type": "execute_result"
    }
   ],
   "source": [
    "roc_auc_score(ys_test, ys_predict_knn)"
   ]
  },
  {
   "cell_type": "markdown",
   "id": "ff4030a1",
   "metadata": {},
   "source": [
    "# SGD:"
   ]
  },
  {
   "cell_type": "code",
   "execution_count": 40,
   "id": "37c5939e",
   "metadata": {},
   "outputs": [],
   "source": [
    "from sklearn.linear_model import SGDClassifier"
   ]
  },
  {
   "cell_type": "code",
   "execution_count": 41,
   "id": "ee4e8db5",
   "metadata": {},
   "outputs": [
    {
     "data": {
      "text/plain": [
       "0.7821040808685885"
      ]
     },
     "execution_count": 41,
     "metadata": {},
     "output_type": "execute_result"
    }
   ],
   "source": [
    "sgd = SGDClassifier()\n",
    "sgd.fit(Xs_train, ys_train)\n",
    "\n",
    "ys_pred_sgd = sgd.predict(Xs_test)\n",
    "\n",
    "sgd.score(Xs_test, ys_test)"
   ]
  },
  {
   "cell_type": "code",
   "execution_count": 71,
   "id": "b7fbaac0",
   "metadata": {},
   "outputs": [
    {
     "data": {
      "text/plain": [
       "0.7805536421153114"
      ]
     },
     "execution_count": 71,
     "metadata": {},
     "output_type": "execute_result"
    }
   ],
   "source": [
    "roc_auc_score(ys_test, ys_pred_sgd)"
   ]
  },
  {
   "cell_type": "code",
   "execution_count": 43,
   "id": "9206db8b",
   "metadata": {},
   "outputs": [
    {
     "data": {
      "text/plain": [
       "0.8444402845376263"
      ]
     },
     "execution_count": 43,
     "metadata": {},
     "output_type": "execute_result"
    }
   ],
   "source": [
    "sgd2 = SGDClassifier()\n",
    "sgd2.fit(Xh_train, yh_train)\n",
    "\n",
    "yh_pred_sgd = sgd2.predict(Xh_test)\n",
    "\n",
    "sgd2.score(Xh_test, yh_test)"
   ]
  },
  {
   "cell_type": "code",
   "execution_count": 44,
   "id": "933fe4d2",
   "metadata": {},
   "outputs": [
    {
     "data": {
      "text/plain": [
       "0.6698581381472237"
      ]
     },
     "execution_count": 44,
     "metadata": {},
     "output_type": "execute_result"
    }
   ],
   "source": [
    "roc_auc_score(yh_test, yh_pred_sgd)"
   ]
  },
  {
   "cell_type": "code",
   "execution_count": 45,
   "id": "58ba18c5",
   "metadata": {},
   "outputs": [
    {
     "name": "stdout",
     "output_type": "stream",
     "text": [
      "              precision    recall  f1-score   support\n",
      "\n",
      "           0       0.80      0.80      0.80      2891\n",
      "           1       0.76      0.76      0.76      2451\n",
      "\n",
      "    accuracy                           0.78      5342\n",
      "   macro avg       0.78      0.78      0.78      5342\n",
      "weighted avg       0.78      0.78      0.78      5342\n",
      "\n"
     ]
    }
   ],
   "source": [
    "print(classification_report(ys_test, ys_pred_sgd))"
   ]
  },
  {
   "cell_type": "code",
   "execution_count": 46,
   "id": "d526d07b",
   "metadata": {},
   "outputs": [
    {
     "name": "stdout",
     "output_type": "stream",
     "text": [
      "              precision    recall  f1-score   support\n",
      "\n",
      "           0       0.85      0.97      0.91      4212\n",
      "           1       0.78      0.37      0.50      1130\n",
      "\n",
      "    accuracy                           0.84      5342\n",
      "   macro avg       0.82      0.67      0.70      5342\n",
      "weighted avg       0.84      0.84      0.82      5342\n",
      "\n"
     ]
    }
   ],
   "source": [
    "print(classification_report(yh_test, yh_pred_sgd))"
   ]
  },
  {
   "cell_type": "code",
   "execution_count": null,
   "id": "b284a9b5",
   "metadata": {},
   "outputs": [],
   "source": []
  }
 ],
 "metadata": {
  "kernelspec": {
   "display_name": "Python 3 (ipykernel)",
   "language": "python",
   "name": "python3"
  },
  "language_info": {
   "codemirror_mode": {
    "name": "ipython",
    "version": 3
   },
   "file_extension": ".py",
   "mimetype": "text/x-python",
   "name": "python",
   "nbconvert_exporter": "python",
   "pygments_lexer": "ipython3",
   "version": "3.8.12"
  }
 },
 "nbformat": 4,
 "nbformat_minor": 5
}
