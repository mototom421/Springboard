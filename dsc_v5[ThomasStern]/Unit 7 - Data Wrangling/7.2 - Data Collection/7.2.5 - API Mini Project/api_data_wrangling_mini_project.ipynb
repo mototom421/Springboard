{
 "cells": [
  {
   "cell_type": "markdown",
   "metadata": {},
   "source": [
    "This exercise will require you to pull some data from https://data.nasdaq.com/ (formerly Quandl API)."
   ]
  },
  {
   "cell_type": "markdown",
   "metadata": {},
   "source": [
    "As a first step, you will need to register a free account on the https://data.nasdaq.com/ website."
   ]
  },
  {
   "cell_type": "markdown",
   "metadata": {},
   "source": [
    "After you register, you will be provided with a unique API key, that you should store:\n",
    "\n",
    "*Note*: Use a `.env` file and put your key in there and `python-dotenv` to access it in this notebook. \n",
    "\n",
    "The code below uses a key that was used when generating this project but has since been deleted. Never submit your keys to source control. There is a `.env-example` file in this repository to illusrtate what you need. Copy that to a file called `.env` and use your own api key in that `.env` file. Make sure you also have a `.gitignore` file with a line for `.env` added to it. \n",
    "\n",
    "The standard Python gitignore is [here](https://github.com/github/gitignore/blob/master/Python.gitignore) you can just copy that. "
   ]
  },
  {
   "cell_type": "code",
   "execution_count": null,
   "metadata": {},
   "outputs": [],
   "source": [
    "# get api key from your .env file\n",
    "import os\n",
    "from dotenv import load_dotenv\n",
    "\n",
    "load_dotenv()\n",
    "API_KEY = os.getenv('NASDAQ_API_KEY')\n",
    "\n",
    "print(API_KEY)"
   ]
  },
  {
   "cell_type": "markdown",
   "metadata": {},
   "source": [
    "Nasdaq Data has a large number of data sources, but, unfortunately, most of them require a Premium subscription. Still, there are also a good number of free datasets."
   ]
  },
  {
   "cell_type": "markdown",
   "metadata": {},
   "source": [
    "For this mini project, we will focus on equities data from the Frankfurt Stock Exhange (FSE), which is available for free. We'll try and analyze the stock prices of a company called Carl Zeiss Meditec, which manufactures tools for eye examinations, as well as medical lasers for laser eye surgery: https://www.zeiss.com/meditec/int/home.html. The company is listed under the stock ticker AFX_X."
   ]
  },
  {
   "cell_type": "markdown",
   "metadata": {},
   "source": [
    "You can find the detailed Nasdaq Data API instructions here: https://docs.data.nasdaq.com/docs/in-depth-usage"
   ]
  },
  {
   "cell_type": "markdown",
   "metadata": {},
   "source": [
    "While there is a dedicated Python package for connecting to the Nasdaq API, we would prefer that you use the *requests* package, which can be easily downloaded using *pip* or *conda*. You can find the documentation for the package here: http://docs.python-requests.org/en/master/ "
   ]
  },
  {
   "cell_type": "markdown",
   "metadata": {},
   "source": [
    "Finally, apart from the *requests* package, you are encouraged to not use any third party Python packages, such as *pandas*, and instead focus on what's available in the Python Standard Library (the *collections* module might come in handy: https://pymotw.com/3/collections/).\n",
    "Also, since you won't have access to DataFrames, you are encouraged to us Python's native data structures - preferably dictionaries, though some questions can also be answered using lists.\n",
    "You can read more on these data structures here: https://docs.python.org/3/tutorial/datastructures.html"
   ]
  },
  {
   "cell_type": "markdown",
   "metadata": {},
   "source": [
    "Keep in mind that the JSON responses you will be getting from the API map almost one-to-one to Python's dictionaries. Unfortunately, they can be very nested, so make sure you read up on indexing dictionaries in the documentation provided above."
   ]
  },
  {
   "cell_type": "code",
   "execution_count": 2,
   "metadata": {},
   "outputs": [],
   "source": [
    "# First, import the relevant modules\n",
    "import requests\n",
    "import json"
   ]
  },
  {
   "cell_type": "markdown",
   "metadata": {},
   "source": [
    "Note: API's can change a bit with each version, for this exercise it is reccomended to use the nasdaq api at `https://data.nasdaq.com/api/v3/`. This is the same api as what used to be quandl so `https://www.quandl.com/api/v3/` should work too.\n",
    "\n",
    "Hint: We are looking for the `AFX_X` data on the `datasets/FSE/` dataset."
   ]
  },
  {
   "cell_type": "code",
   "execution_count": 3,
   "metadata": {},
   "outputs": [],
   "source": [
    "# Now, call the Nasdaq API and pull out a small sample of the data (only one day) to get a glimpse\n",
    "# into the JSON structure that will be returned\n",
    "url = 'https://data.nasdaq.com/api/v3/datasets/FSE/AFX_X'\n",
    "r = requests.get(url)\n",
    "json_data = r.json()\n"
   ]
  },
  {
   "cell_type": "code",
   "execution_count": 12,
   "metadata": {},
   "outputs": [
    {
     "name": "stdout",
     "output_type": "stream",
     "text": [
      "<class 'dict'>\n",
      "dict_keys(['dataset'])\n",
      "dict_keys(['id', 'dataset_code', 'database_code', 'name', 'description', 'refreshed_at', 'newest_available_date', 'oldest_available_date', 'column_names', 'frequency', 'type', 'premium', 'limit', 'transform', 'column_index', 'start_date', 'end_date', 'data', 'collapse', 'order', 'database_id'])\n"
     ]
    }
   ],
   "source": [
    "# Inspect the JSON structure of the object you created, and take note of how nested it is,\n",
    "# as well as the overall structure\n",
    "print(type(json_data))\n",
    "print(json_data.keys())\n",
    "print(json_data['dataset'].keys())"
   ]
  },
  {
   "cell_type": "markdown",
   "metadata": {},
   "source": [
    "These are your tasks for this mini project:\n",
    "\n",
    "1. Collect data from the Franfurt Stock Exchange, for the ticker AFX_X, for the whole year 2017 (keep in mind that the date format is YYYY-MM-DD).\n",
    "2. Convert the returned JSON object into a Python dictionary.\n",
    "3. Calculate what the highest and lowest opening prices were for the stock in this period.\n",
    "4. What was the largest change in any one day (based on High and Low price)?\n",
    "5. What was the largest change between any two days (based on Closing Price)?\n",
    "6. What was the average daily trading volume during this year?\n",
    "7. (Optional) What was the median trading volume during this year. (Note: you may need to implement your own function for calculating the median.)"
   ]
  },
  {
   "cell_type": "code",
   "execution_count": 5,
   "metadata": {},
   "outputs": [],
   "source": [
    "#1. and 2. Making dictionary with usable 2017 AFX data#\n",
    "\n",
    "AFX = json_data['dataset']\n",
    "AFX_data = AFX['data']\n",
    "columns = AFX['column_names']\n",
    "#columns: 'Change', 'Last Price of the Day','Daily Traded Units','Daily Turnover' were empty for AFX in 2017 so they were removed#\n",
    "clean_columns = ['Date','Open','High','Low','Close', 'Traded Volume', 'Turnover']\n",
    "data_2017 = []\n",
    "dict_2017 = {}\n",
    "\n",
    "for i in AFX_data:\n",
    "    if '2017' in i[0]:\n",
    "        data_2017.append(i)\n",
    "\n",
    "for n in clean_columns:\n",
    "    dict_2017[n] = []\n",
    "\n",
    "for d in data_2017:\n",
    "    dict_2017['Date'].append(d[0])\n",
    "    dict_2017['Open'].append(d[1])\n",
    "    dict_2017['High'].append(d[2])\n",
    "    dict_2017['Low'].append(d[3])\n",
    "    dict_2017['Close'].append(d[4])\n",
    "    dict_2017['Traded Volume'].append(d[6])\n",
    "    dict_2017['Turnover'].append(d[7])\n",
    " "
   ]
  },
  {
   "cell_type": "code",
   "execution_count": 6,
   "metadata": {},
   "outputs": [
    {
     "name": "stdout",
     "output_type": "stream",
     "text": [
      "During 2017, the lowest opening price was $34.0 and highest opening price was $53.11.\n"
     ]
    }
   ],
   "source": [
    "#3. Calculating highest and lowest opening price for AFX in 2017#\n",
    "Open_lst = dict_2017['Open']\n",
    "#there were a couple None type objects for open price in 2017 so these were removed#\n",
    "cln_open = list(filter(None, Open_lst))\n",
    "\n",
    "min_open = min(cln_open)\n",
    "max_open = max(cln_open)\n",
    "\n",
    "print(f'During 2017, the lowest opening price was ${min_open} and highest opening price was ${max_open}.')\n"
   ]
  },
  {
   "cell_type": "code",
   "execution_count": 29,
   "metadata": {},
   "outputs": [
    {
     "name": "stdout",
     "output_type": "stream",
     "text": [
      "The largest change in price for any given day was $2.81, which occured on 2017-05-11.\n"
     ]
    }
   ],
   "source": [
    "#4. Calculating largest change in price for one day #\n",
    "high_lst = dict_2017['High']\n",
    "low_lst = dict_2017['Low']\n",
    "diff_lst = []\n",
    "\n",
    "for n in range(255):\n",
    "    diff_lst.append(high_lst[n]-low_lst[n])\n",
    "    \n",
    "MaxDiff = max(diff_lst)\n",
    "max_idx = diff_lst.index(MaxDiff)\n",
    "date = dict_2017['Date'][max_idx]\n",
    "\n",
    "print(f'The largest change in price for any given day was ${MaxDiff:.2f}, which occured on {date}.')"
   ]
  },
  {
   "cell_type": "code",
   "execution_count": 43,
   "metadata": {},
   "outputs": [
    {
     "name": "stdout",
     "output_type": "stream",
     "text": [
      "The largest closing price change between consecutive days was an increase of $2.56.\n"
     ]
    }
   ],
   "source": [
    "#5. Calculating largest change between 2 subsequent closing prices#\n",
    "close_lst = dict_2017['Close']\n",
    "close_diff = []\n",
    "\n",
    "for c in range(1,255):\n",
    "    close_diff.append(close_lst[c]-close_lst[c-1])\n",
    "max_pos = max(close_diff)  \n",
    "max_neg = min(close_diff)\n",
    "\n",
    "if abs(max_pos) > abs(max_neg):\n",
    "    print(f'The largest closing price change between consecutive days was an increase of ${max_pos:.2f}.')\n",
    "if abs(max_pos) < abs(max_neg):\n",
    "    print(f'The largest closing price change between consecutive days was an decrease of ${max_neg:.2f}.')\n"
   ]
  },
  {
   "cell_type": "code",
   "execution_count": 47,
   "metadata": {},
   "outputs": [
    {
     "name": "stdout",
     "output_type": "stream",
     "text": [
      "During 2017, the average daily trading volume was 89124\n"
     ]
    }
   ],
   "source": [
    "#6. Calculating average daily trading volume#\n",
    "vol_lst = dict_2017['Traded Volume']\n",
    "avg = sum(vol_lst) / len(vol_lst)\n",
    "\n",
    "print(f'During 2017, the average daily trading volume was {avg:.0f}')"
   ]
  },
  {
   "cell_type": "code",
   "execution_count": 71,
   "metadata": {},
   "outputs": [
    {
     "name": "stdout",
     "output_type": "stream",
     "text": [
      "The median daily trading volume for 2017 was 134965.0.\n"
     ]
    }
   ],
   "source": [
    "#7. Calculating median daily trading volume#\n",
    "\n",
    "#simple function created to find medians from a list \n",
    "def median(lst):\n",
    "    sorted_lst = sorted(lst)\n",
    "    med_idx = int(len(lst) / 2) \n",
    "    if len(lst) % 2 == 1:\n",
    "        return lst[med_idx]\n",
    "    else:\n",
    "        return (lst[med_idx] + lst[med_idx-1]) / 2\n",
    "        \n",
    "print(f'The median daily trading volume for 2017 was {median(vol_lst)}.')"
   ]
  }
 ],
 "metadata": {
  "interpreter": {
   "hash": "7635eb1b9d0fe97add78a7368b6b431c09bb8ad5c42e437d64abdd99821c31ae"
  },
  "kernelspec": {
   "display_name": "Python 3",
   "language": "python",
   "name": "python3"
  },
  "language_info": {
   "codemirror_mode": {
    "name": "ipython",
    "version": 3
   },
   "file_extension": ".py",
   "mimetype": "text/x-python",
   "name": "python",
   "nbconvert_exporter": "python",
   "pygments_lexer": "ipython3",
   "version": "3.8.8"
  }
 },
 "nbformat": 4,
 "nbformat_minor": 4
}
